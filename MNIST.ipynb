{
  "nbformat": 4,
  "nbformat_minor": 0,
  "metadata": {
    "colab": {
      "name": "Z_MNIST.ipynb",
      "provenance": [],
      "collapsed_sections": []
    },
    "kernelspec": {
      "name": "python3",
      "display_name": "Python 3"
    },
    "accelerator": "GPU"
  },
  "cells": [
    {
      "cell_type": "code",
      "metadata": {
        "id": "VSQ-HvMzMTfl"
      },
      "source": [
        "from z import *\n",
        "from trainer import *\n",
        "from torchvision import datasets, transforms\n",
        "from torchsummary import summary"
      ],
      "execution_count": 1,
      "outputs": []
    },
    {
      "cell_type": "code",
      "metadata": {
        "id": "3IuJquSiMnmZ"
      },
      "source": [
        "train_dataset = datasets.MNIST('./MNIST', train=True, download=True,\n",
        "                               transform=transforms.Compose([transforms.ToTensor()]))\n",
        "test_dataset = datasets.MNIST('./MNIST', train=False, \n",
        "                              transform=transforms.Compose([transforms.ToTensor()]))"
      ],
      "execution_count": 2,
      "outputs": []
    },
    {
      "cell_type": "code",
      "metadata": {
        "id": "d8hvJ1b-M79_"
      },
      "source": [
        "model = nn.Sequential(\n",
        "    ZConv2d(1, 16, 4, 5),\n",
        "    SoftPool2d(16, 2, 2),\n",
        "    ZConv2d(16, 32, 4, 5),\n",
        "    SoftPool2d(32, 2, 2),\n",
        "    nn.Flatten(),\n",
        "    nn.Dropout(0.5),\n",
        "    ZLinear(32 * 4 * 4, 10, 4)\n",
        ").to(0)"
      ],
      "execution_count": 3,
      "outputs": []
    },
    {
      "cell_type": "code",
      "metadata": {
        "colab": {
          "base_uri": "https://localhost:8080/"
        },
        "id": "hbwq0nzSPWYh",
        "outputId": "33e22840-4497-4c20-83b7-0f109ae15cd1"
      },
      "source": [
        "summary(model, (1, 28, 28))"
      ],
      "execution_count": 4,
      "outputs": [
        {
          "output_type": "stream",
          "text": [
            "----------------------------------------------------------------\n",
            "        Layer (type)               Output Shape         Param #\n",
            "================================================================\n",
            "            Conv2d-1           [-1, 64, 24, 24]           1,664\n",
            "           ZConv2d-2           [-1, 16, 24, 24]               0\n",
            "        SoftPool2d-3           [-1, 16, 12, 12]               0\n",
            "            Conv2d-4            [-1, 128, 8, 8]          51,328\n",
            "           ZConv2d-5             [-1, 32, 8, 8]               0\n",
            "        SoftPool2d-6             [-1, 32, 4, 4]               0\n",
            "           Flatten-7                  [-1, 512]               0\n",
            "           Dropout-8                  [-1, 512]               0\n",
            "            Linear-9                   [-1, 40]          20,520\n",
            "          ZLinear-10                   [-1, 10]               0\n",
            "================================================================\n",
            "Total params: 73,512\n",
            "Trainable params: 73,512\n",
            "Non-trainable params: 0\n",
            "----------------------------------------------------------------\n",
            "Input size (MB): 0.00\n",
            "Forward/backward pass size (MB): 0.46\n",
            "Params size (MB): 0.28\n",
            "Estimated Total Size (MB): 0.74\n",
            "----------------------------------------------------------------\n"
          ],
          "name": "stdout"
        }
      ]
    },
    {
      "cell_type": "code",
      "metadata": {
        "id": "uUHrcytbNNmm"
      },
      "source": [
        "def loss_func(model, batch, scope):\n",
        "  x, y = batch\n",
        "  _y = model(x)\n",
        "  loss = F.cross_entropy(_y, y)\n",
        "  scope[\"metrics\"][\"Accuracy\"] = float(torch.sum((torch.argmax(_y, dim=1) == y).type(torch.float))) / len(scope[\"dataset\"])\n",
        "  return loss, _y"
      ],
      "execution_count": 5,
      "outputs": []
    },
    {
      "cell_type": "code",
      "metadata": {
        "id": "1x_-6TUENagj"
      },
      "source": [
        "optimizer = torch.optim.AdamW(model.parameters(), lr=0.001)"
      ],
      "execution_count": 6,
      "outputs": []
    },
    {
      "cell_type": "code",
      "metadata": {
        "id": "qaZ8psB6N0zI"
      },
      "source": [
        "acc = 0\n",
        "def on_epoch(scope):\n",
        "  global acc\n",
        "  _acc = scope[\"val_metrics\"][\"Accuracy\"]\n",
        "  if _acc > acc:\n",
        "    acc = _acc\n",
        "    torch.save(model.state_dict(), \"mnist.model\")\n",
        "    print(\"Model saved!\")"
      ],
      "execution_count": 7,
      "outputs": []
    },
    {
      "cell_type": "code",
      "metadata": {
        "colab": {
          "base_uri": "https://localhost:8080/"
        },
        "id": "jfb8_JGbNeQg",
        "outputId": "8b1efea9-42e1-4f2e-9550-56ec33d19258"
      },
      "source": [
        "train(model, loss_func, train_dataset, test_dataset, optimizer, device=0, epochs=100, batch_size=256, on_val_epoch=on_epoch)"
      ],
      "execution_count": 8,
      "outputs": [
        {
          "output_type": "stream",
          "text": [
            "  1%|          | 2/235 [00:00<00:12, 18.81it/s]"
          ],
          "name": "stderr"
        },
        {
          "output_type": "stream",
          "text": [
            "Epoch #1\n"
          ],
          "name": "stdout"
        },
        {
          "output_type": "stream",
          "text": [
            "100%|██████████| 235/235 [00:09<00:00, 25.26it/s]\n",
            " 10%|█         | 4/40 [00:00<00:00, 36.73it/s]"
          ],
          "name": "stderr"
        },
        {
          "output_type": "stream",
          "text": [
            "\tTrain Loss = 0.5257179239543818\n",
            "\tTrain Accuracy = 0.8483333333333347\n"
          ],
          "name": "stdout"
        },
        {
          "output_type": "stream",
          "text": [
            "100%|██████████| 40/40 [00:01<00:00, 39.28it/s]\n",
            "  1%|▏         | 3/235 [00:00<00:09, 25.55it/s]"
          ],
          "name": "stderr"
        },
        {
          "output_type": "stream",
          "text": [
            "\tValidation Loss = 0.1551273852677607\n",
            "\tValidation Accuracy = 0.9526\n",
            "Model saved!\n",
            "Epoch #2\n"
          ],
          "name": "stdout"
        },
        {
          "output_type": "stream",
          "text": [
            "100%|██████████| 235/235 [00:09<00:00, 25.62it/s]\n",
            " 12%|█▎        | 5/40 [00:00<00:00, 41.25it/s]"
          ],
          "name": "stderr"
        },
        {
          "output_type": "stream",
          "text": [
            "\tTrain Loss = 0.1599114058476131\n",
            "\tTrain Accuracy = 0.9523833333333324\n"
          ],
          "name": "stdout"
        },
        {
          "output_type": "stream",
          "text": [
            "100%|██████████| 40/40 [00:00<00:00, 43.23it/s]\n",
            "  1%|▏         | 3/235 [00:00<00:08, 27.38it/s]"
          ],
          "name": "stderr"
        },
        {
          "output_type": "stream",
          "text": [
            "\tValidation Loss = 0.08137601848532695\n",
            "\tValidation Accuracy = 0.9750999999999997\n",
            "Model saved!\n",
            "Epoch #3\n"
          ],
          "name": "stdout"
        },
        {
          "output_type": "stream",
          "text": [
            "100%|██████████| 235/235 [00:08<00:00, 26.52it/s]\n",
            " 10%|█         | 4/40 [00:00<00:00, 36.60it/s]"
          ],
          "name": "stderr"
        },
        {
          "output_type": "stream",
          "text": [
            "\tTrain Loss = 0.10901367367576745\n",
            "\tTrain Accuracy = 0.9674166666666647\n"
          ],
          "name": "stdout"
        },
        {
          "output_type": "stream",
          "text": [
            "100%|██████████| 40/40 [00:01<00:00, 39.44it/s]\n",
            "  1%|▏         | 3/235 [00:00<00:08, 27.33it/s]"
          ],
          "name": "stderr"
        },
        {
          "output_type": "stream",
          "text": [
            "\tValidation Loss = 0.057611908877223006\n",
            "\tValidation Accuracy = 0.9811999999999997\n",
            "Model saved!\n",
            "Epoch #4\n"
          ],
          "name": "stdout"
        },
        {
          "output_type": "stream",
          "text": [
            "100%|██████████| 235/235 [00:09<00:00, 25.90it/s]\n",
            " 10%|█         | 4/40 [00:00<00:00, 37.32it/s]"
          ],
          "name": "stderr"
        },
        {
          "output_type": "stream",
          "text": [
            "\tTrain Loss = 0.08256092029860464\n",
            "\tTrain Accuracy = 0.9752999999999976\n"
          ],
          "name": "stdout"
        },
        {
          "output_type": "stream",
          "text": [
            "100%|██████████| 40/40 [00:01<00:00, 37.26it/s]\n",
            "  1%|▏         | 3/235 [00:00<00:10, 23.12it/s]"
          ],
          "name": "stderr"
        },
        {
          "output_type": "stream",
          "text": [
            "\tValidation Loss = 0.0435631732320095\n",
            "\tValidation Accuracy = 0.9847999999999996\n",
            "Model saved!\n",
            "Epoch #5\n"
          ],
          "name": "stdout"
        },
        {
          "output_type": "stream",
          "text": [
            "100%|██████████| 235/235 [00:09<00:00, 25.53it/s]\n",
            " 12%|█▎        | 5/40 [00:00<00:00, 42.11it/s]"
          ],
          "name": "stderr"
        },
        {
          "output_type": "stream",
          "text": [
            "\tTrain Loss = 0.07223171924667085\n",
            "\tTrain Accuracy = 0.9783333333333307\n"
          ],
          "name": "stdout"
        },
        {
          "output_type": "stream",
          "text": [
            "100%|██████████| 40/40 [00:00<00:00, 42.92it/s]\n",
            "  1%|▏         | 3/235 [00:00<00:09, 23.55it/s]"
          ],
          "name": "stderr"
        },
        {
          "output_type": "stream",
          "text": [
            "\tValidation Loss = 0.040594550132149514\n",
            "\tValidation Accuracy = 0.9862999999999996\n",
            "Model saved!\n",
            "Epoch #6\n"
          ],
          "name": "stdout"
        },
        {
          "output_type": "stream",
          "text": [
            "100%|██████████| 235/235 [00:09<00:00, 25.98it/s]\n",
            " 12%|█▎        | 5/40 [00:00<00:00, 41.72it/s]"
          ],
          "name": "stderr"
        },
        {
          "output_type": "stream",
          "text": [
            "\tTrain Loss = 0.06358353515802803\n",
            "\tTrain Accuracy = 0.980316666666664\n"
          ],
          "name": "stdout"
        },
        {
          "output_type": "stream",
          "text": [
            "100%|██████████| 40/40 [00:00<00:00, 40.51it/s]\n",
            "  1%|▏         | 3/235 [00:00<00:10, 22.13it/s]"
          ],
          "name": "stderr"
        },
        {
          "output_type": "stream",
          "text": [
            "\tValidation Loss = 0.035499030245019395\n",
            "\tValidation Accuracy = 0.9875999999999997\n",
            "Model saved!\n",
            "Epoch #7\n"
          ],
          "name": "stdout"
        },
        {
          "output_type": "stream",
          "text": [
            "100%|██████████| 235/235 [00:09<00:00, 25.57it/s]\n",
            " 10%|█         | 4/40 [00:00<00:00, 39.55it/s]"
          ],
          "name": "stderr"
        },
        {
          "output_type": "stream",
          "text": [
            "\tTrain Loss = 0.057353619529502624\n",
            "\tTrain Accuracy = 0.9825833333333305\n"
          ],
          "name": "stdout"
        },
        {
          "output_type": "stream",
          "text": [
            "100%|██████████| 40/40 [00:01<00:00, 38.80it/s]\n",
            "  1%|▏         | 3/235 [00:00<00:10, 22.79it/s]"
          ],
          "name": "stderr"
        },
        {
          "output_type": "stream",
          "text": [
            "\tValidation Loss = 0.030068133685101823\n",
            "\tValidation Accuracy = 0.9891999999999994\n",
            "Model saved!\n",
            "Epoch #8\n"
          ],
          "name": "stdout"
        },
        {
          "output_type": "stream",
          "text": [
            "100%|██████████| 235/235 [00:08<00:00, 26.81it/s]\n",
            " 12%|█▎        | 5/40 [00:00<00:00, 43.31it/s]"
          ],
          "name": "stderr"
        },
        {
          "output_type": "stream",
          "text": [
            "\tTrain Loss = 0.05126229692566193\n",
            "\tTrain Accuracy = 0.9838666666666638\n"
          ],
          "name": "stdout"
        },
        {
          "output_type": "stream",
          "text": [
            "100%|██████████| 40/40 [00:00<00:00, 43.79it/s]\n",
            "  1%|▏         | 3/235 [00:00<00:08, 26.76it/s]"
          ],
          "name": "stderr"
        },
        {
          "output_type": "stream",
          "text": [
            "\tValidation Loss = 0.029022455612969834\n",
            "\tValidation Accuracy = 0.9893999999999995\n",
            "Model saved!\n",
            "Epoch #9\n"
          ],
          "name": "stdout"
        },
        {
          "output_type": "stream",
          "text": [
            "100%|██████████| 235/235 [00:09<00:00, 25.71it/s]\n",
            " 10%|█         | 4/40 [00:00<00:00, 37.00it/s]"
          ],
          "name": "stderr"
        },
        {
          "output_type": "stream",
          "text": [
            "\tTrain Loss = 0.04642610802804514\n",
            "\tTrain Accuracy = 0.9855333333333303\n"
          ],
          "name": "stdout"
        },
        {
          "output_type": "stream",
          "text": [
            "100%|██████████| 40/40 [00:01<00:00, 37.89it/s]\n",
            "  1%|▏         | 3/235 [00:00<00:09, 23.47it/s]"
          ],
          "name": "stderr"
        },
        {
          "output_type": "stream",
          "text": [
            "\tValidation Loss = 0.026839872751890387\n",
            "\tValidation Accuracy = 0.9906999999999994\n",
            "Model saved!\n",
            "Epoch #10\n"
          ],
          "name": "stdout"
        },
        {
          "output_type": "stream",
          "text": [
            "100%|██████████| 235/235 [00:09<00:00, 25.78it/s]\n",
            " 12%|█▎        | 5/40 [00:00<00:00, 43.15it/s]"
          ],
          "name": "stderr"
        },
        {
          "output_type": "stream",
          "text": [
            "\tTrain Loss = 0.04403102515123279\n",
            "\tTrain Accuracy = 0.9857666666666637\n"
          ],
          "name": "stdout"
        },
        {
          "output_type": "stream",
          "text": [
            "100%|██████████| 40/40 [00:00<00:00, 44.57it/s]\n",
            "  1%|▏         | 3/235 [00:00<00:08, 27.59it/s]"
          ],
          "name": "stderr"
        },
        {
          "output_type": "stream",
          "text": [
            "\tValidation Loss = 0.026610383507298736\n",
            "\tValidation Accuracy = 0.9918999999999996\n",
            "Model saved!\n",
            "Epoch #11\n"
          ],
          "name": "stdout"
        },
        {
          "output_type": "stream",
          "text": [
            "100%|██████████| 235/235 [00:09<00:00, 25.62it/s]\n",
            " 12%|█▎        | 5/40 [00:00<00:00, 44.39it/s]"
          ],
          "name": "stderr"
        },
        {
          "output_type": "stream",
          "text": [
            "\tTrain Loss = 0.042799862851467675\n",
            "\tTrain Accuracy = 0.9867333333333302\n"
          ],
          "name": "stdout"
        },
        {
          "output_type": "stream",
          "text": [
            "100%|██████████| 40/40 [00:00<00:00, 41.86it/s]\n",
            "  1%|▏         | 3/235 [00:00<00:09, 23.53it/s]"
          ],
          "name": "stderr"
        },
        {
          "output_type": "stream",
          "text": [
            "\tValidation Loss = 0.025113608298408686\n",
            "\tValidation Accuracy = 0.9924999999999993\n",
            "Model saved!\n",
            "Epoch #12\n"
          ],
          "name": "stdout"
        },
        {
          "output_type": "stream",
          "text": [
            "100%|██████████| 235/235 [00:08<00:00, 26.43it/s]\n",
            " 12%|█▎        | 5/40 [00:00<00:00, 43.52it/s]"
          ],
          "name": "stderr"
        },
        {
          "output_type": "stream",
          "text": [
            "\tTrain Loss = 0.038073998664789915\n",
            "\tTrain Accuracy = 0.9878499999999967\n"
          ],
          "name": "stdout"
        },
        {
          "output_type": "stream",
          "text": [
            "100%|██████████| 40/40 [00:00<00:00, 44.74it/s]\n",
            "  1%|▏         | 3/235 [00:00<00:08, 26.92it/s]"
          ],
          "name": "stderr"
        },
        {
          "output_type": "stream",
          "text": [
            "\tValidation Loss = 0.02328104497126599\n",
            "\tValidation Accuracy = 0.9923999999999994\n",
            "Epoch #13\n"
          ],
          "name": "stdout"
        },
        {
          "output_type": "stream",
          "text": [
            "100%|██████████| 235/235 [00:08<00:00, 26.13it/s]\n",
            " 12%|█▎        | 5/40 [00:00<00:00, 43.43it/s]"
          ],
          "name": "stderr"
        },
        {
          "output_type": "stream",
          "text": [
            "\tTrain Loss = 0.03595513683522783\n",
            "\tTrain Accuracy = 0.9885166666666633\n"
          ],
          "name": "stdout"
        },
        {
          "output_type": "stream",
          "text": [
            "100%|██████████| 40/40 [00:00<00:00, 42.95it/s]\n",
            "  1%|▏         | 3/235 [00:00<00:10, 23.09it/s]"
          ],
          "name": "stderr"
        },
        {
          "output_type": "stream",
          "text": [
            "\tValidation Loss = 0.021857357143123476\n",
            "\tValidation Accuracy = 0.9920999999999993\n",
            "Epoch #14\n"
          ],
          "name": "stdout"
        },
        {
          "output_type": "stream",
          "text": [
            "100%|██████████| 235/235 [00:09<00:00, 25.59it/s]\n",
            " 12%|█▎        | 5/40 [00:00<00:00, 43.69it/s]"
          ],
          "name": "stderr"
        },
        {
          "output_type": "stream",
          "text": [
            "\tTrain Loss = 0.03326831485926158\n",
            "\tTrain Accuracy = 0.98933333333333\n"
          ],
          "name": "stdout"
        },
        {
          "output_type": "stream",
          "text": [
            "100%|██████████| 40/40 [00:00<00:00, 44.07it/s]\n",
            "  1%|▏         | 3/235 [00:00<00:08, 26.41it/s]"
          ],
          "name": "stderr"
        },
        {
          "output_type": "stream",
          "text": [
            "\tValidation Loss = 0.02200538104701015\n",
            "\tValidation Accuracy = 0.9926999999999992\n",
            "Model saved!\n",
            "Epoch #15\n"
          ],
          "name": "stdout"
        },
        {
          "output_type": "stream",
          "text": [
            "100%|██████████| 235/235 [00:09<00:00, 25.98it/s]\n",
            " 12%|█▎        | 5/40 [00:00<00:00, 41.03it/s]"
          ],
          "name": "stderr"
        },
        {
          "output_type": "stream",
          "text": [
            "\tTrain Loss = 0.03211921581335492\n",
            "\tTrain Accuracy = 0.9899999999999965\n"
          ],
          "name": "stdout"
        },
        {
          "output_type": "stream",
          "text": [
            "100%|██████████| 40/40 [00:00<00:00, 41.71it/s]\n",
            "  1%|▏         | 3/235 [00:00<00:09, 23.63it/s]"
          ],
          "name": "stderr"
        },
        {
          "output_type": "stream",
          "text": [
            "\tValidation Loss = 0.020988346035088264\n",
            "\tValidation Accuracy = 0.9927999999999993\n",
            "Model saved!\n",
            "Epoch #16\n"
          ],
          "name": "stdout"
        },
        {
          "output_type": "stream",
          "text": [
            "100%|██████████| 235/235 [00:09<00:00, 24.81it/s]\n",
            " 12%|█▎        | 5/40 [00:00<00:00, 44.45it/s]"
          ],
          "name": "stderr"
        },
        {
          "output_type": "stream",
          "text": [
            "\tTrain Loss = 0.03121138879461056\n",
            "\tTrain Accuracy = 0.9898666666666632\n"
          ],
          "name": "stdout"
        },
        {
          "output_type": "stream",
          "text": [
            "100%|██████████| 40/40 [00:00<00:00, 43.04it/s]\n",
            "  1%|▏         | 3/235 [00:00<00:08, 26.87it/s]"
          ],
          "name": "stderr"
        },
        {
          "output_type": "stream",
          "text": [
            "\tValidation Loss = 0.021862333808867998\n",
            "\tValidation Accuracy = 0.9920999999999993\n",
            "Epoch #17\n"
          ],
          "name": "stdout"
        },
        {
          "output_type": "stream",
          "text": [
            "100%|██████████| 235/235 [00:09<00:00, 25.90it/s]\n",
            " 12%|█▎        | 5/40 [00:00<00:00, 43.85it/s]"
          ],
          "name": "stderr"
        },
        {
          "output_type": "stream",
          "text": [
            "\tTrain Loss = 0.03060205542616609\n",
            "\tTrain Accuracy = 0.9903333333333298\n"
          ],
          "name": "stdout"
        },
        {
          "output_type": "stream",
          "text": [
            "100%|██████████| 40/40 [00:01<00:00, 39.49it/s]\n",
            "  1%|▏         | 3/235 [00:00<00:09, 23.90it/s]"
          ],
          "name": "stderr"
        },
        {
          "output_type": "stream",
          "text": [
            "\tValidation Loss = 0.018293200961879183\n",
            "\tValidation Accuracy = 0.9936999999999993\n",
            "Model saved!\n",
            "Epoch #18\n"
          ],
          "name": "stdout"
        },
        {
          "output_type": "stream",
          "text": [
            "100%|██████████| 235/235 [00:08<00:00, 26.56it/s]\n",
            " 12%|█▎        | 5/40 [00:00<00:00, 42.64it/s]"
          ],
          "name": "stderr"
        },
        {
          "output_type": "stream",
          "text": [
            "\tTrain Loss = 0.02748578896753932\n",
            "\tTrain Accuracy = 0.9916333333333298\n"
          ],
          "name": "stdout"
        },
        {
          "output_type": "stream",
          "text": [
            "100%|██████████| 40/40 [00:00<00:00, 44.03it/s]\n",
            "  1%|▏         | 3/235 [00:00<00:09, 24.60it/s]"
          ],
          "name": "stderr"
        },
        {
          "output_type": "stream",
          "text": [
            "\tValidation Loss = 0.02112653086717218\n",
            "\tValidation Accuracy = 0.9927999999999992\n",
            "Epoch #19\n"
          ],
          "name": "stdout"
        },
        {
          "output_type": "stream",
          "text": [
            "100%|██████████| 235/235 [00:09<00:00, 25.26it/s]\n",
            " 12%|█▎        | 5/40 [00:00<00:00, 42.21it/s]"
          ],
          "name": "stderr"
        },
        {
          "output_type": "stream",
          "text": [
            "\tTrain Loss = 0.027996483544021906\n",
            "\tTrain Accuracy = 0.9910666666666632\n"
          ],
          "name": "stdout"
        },
        {
          "output_type": "stream",
          "text": [
            "100%|██████████| 40/40 [00:00<00:00, 41.31it/s]\n",
            "  1%|▏         | 3/235 [00:00<00:08, 25.92it/s]"
          ],
          "name": "stderr"
        },
        {
          "output_type": "stream",
          "text": [
            "\tValidation Loss = 0.01852465961139121\n",
            "\tValidation Accuracy = 0.9935999999999994\n",
            "Epoch #20\n"
          ],
          "name": "stdout"
        },
        {
          "output_type": "stream",
          "text": [
            "100%|██████████| 235/235 [00:08<00:00, 26.42it/s]\n",
            " 12%|█▎        | 5/40 [00:00<00:00, 44.81it/s]"
          ],
          "name": "stderr"
        },
        {
          "output_type": "stream",
          "text": [
            "\tTrain Loss = 0.024988394061900614\n",
            "\tTrain Accuracy = 0.9916333333333297\n"
          ],
          "name": "stdout"
        },
        {
          "output_type": "stream",
          "text": [
            "100%|██████████| 40/40 [00:00<00:00, 42.60it/s]\n",
            "  1%|▏         | 3/235 [00:00<00:09, 23.60it/s]"
          ],
          "name": "stderr"
        },
        {
          "output_type": "stream",
          "text": [
            "\tValidation Loss = 0.02055106747830883\n",
            "\tValidation Accuracy = 0.9935999999999994\n",
            "Epoch #21\n"
          ],
          "name": "stdout"
        },
        {
          "output_type": "stream",
          "text": [
            "100%|██████████| 235/235 [00:09<00:00, 24.99it/s]\n",
            " 10%|█         | 4/40 [00:00<00:01, 31.70it/s]"
          ],
          "name": "stderr"
        },
        {
          "output_type": "stream",
          "text": [
            "\tTrain Loss = 0.024553373861481768\n",
            "\tTrain Accuracy = 0.9916666666666631\n"
          ],
          "name": "stdout"
        },
        {
          "output_type": "stream",
          "text": [
            "100%|██████████| 40/40 [00:01<00:00, 38.60it/s]\n",
            "  1%|▏         | 3/235 [00:00<00:09, 25.73it/s]"
          ],
          "name": "stderr"
        },
        {
          "output_type": "stream",
          "text": [
            "\tValidation Loss = 0.018194492401451542\n",
            "\tValidation Accuracy = 0.9938999999999993\n",
            "Model saved!\n",
            "Epoch #22\n"
          ],
          "name": "stdout"
        },
        {
          "output_type": "stream",
          "text": [
            "100%|██████████| 235/235 [00:09<00:00, 25.79it/s]\n",
            " 12%|█▎        | 5/40 [00:00<00:00, 40.45it/s]"
          ],
          "name": "stderr"
        },
        {
          "output_type": "stream",
          "text": [
            "\tTrain Loss = 0.022815987724274144\n",
            "\tTrain Accuracy = 0.9926333333333297\n"
          ],
          "name": "stdout"
        },
        {
          "output_type": "stream",
          "text": [
            "100%|██████████| 40/40 [00:00<00:00, 41.50it/s]\n",
            "  1%|▏         | 3/235 [00:00<00:09, 25.36it/s]"
          ],
          "name": "stderr"
        },
        {
          "output_type": "stream",
          "text": [
            "\tValidation Loss = 0.018732850011274865\n",
            "\tValidation Accuracy = 0.9939999999999993\n",
            "Model saved!\n",
            "Epoch #23\n"
          ],
          "name": "stdout"
        },
        {
          "output_type": "stream",
          "text": [
            "100%|██████████| 235/235 [00:09<00:00, 26.02it/s]\n",
            " 10%|█         | 4/40 [00:00<00:00, 36.27it/s]"
          ],
          "name": "stderr"
        },
        {
          "output_type": "stream",
          "text": [
            "\tTrain Loss = 0.023577782738819657\n",
            "\tTrain Accuracy = 0.9923333333333297\n"
          ],
          "name": "stdout"
        },
        {
          "output_type": "stream",
          "text": [
            "100%|██████████| 40/40 [00:00<00:00, 40.26it/s]\n",
            "  1%|▏         | 3/235 [00:00<00:08, 26.92it/s]"
          ],
          "name": "stderr"
        },
        {
          "output_type": "stream",
          "text": [
            "\tValidation Loss = 0.01681534572211293\n",
            "\tValidation Accuracy = 0.9941999999999993\n",
            "Model saved!\n",
            "Epoch #24\n"
          ],
          "name": "stdout"
        },
        {
          "output_type": "stream",
          "text": [
            "100%|██████████| 235/235 [00:08<00:00, 26.32it/s]\n",
            " 12%|█▎        | 5/40 [00:00<00:00, 44.41it/s]"
          ],
          "name": "stderr"
        },
        {
          "output_type": "stream",
          "text": [
            "\tTrain Loss = 0.02167049808658549\n",
            "\tTrain Accuracy = 0.9927833333333297\n"
          ],
          "name": "stdout"
        },
        {
          "output_type": "stream",
          "text": [
            "100%|██████████| 40/40 [00:00<00:00, 42.59it/s]\n",
            "  1%|▏         | 3/235 [00:00<00:08, 27.30it/s]"
          ],
          "name": "stderr"
        },
        {
          "output_type": "stream",
          "text": [
            "\tValidation Loss = 0.01884735553690783\n",
            "\tValidation Accuracy = 0.9938999999999992\n",
            "Epoch #25\n"
          ],
          "name": "stdout"
        },
        {
          "output_type": "stream",
          "text": [
            "100%|██████████| 235/235 [00:08<00:00, 26.28it/s]\n",
            " 10%|█         | 4/40 [00:00<00:00, 38.28it/s]"
          ],
          "name": "stderr"
        },
        {
          "output_type": "stream",
          "text": [
            "\tTrain Loss = 0.02196322703217077\n",
            "\tTrain Accuracy = 0.9926999999999964\n"
          ],
          "name": "stdout"
        },
        {
          "output_type": "stream",
          "text": [
            "100%|██████████| 40/40 [00:01<00:00, 37.26it/s]\n",
            "  1%|▏         | 3/235 [00:00<00:09, 24.19it/s]"
          ],
          "name": "stderr"
        },
        {
          "output_type": "stream",
          "text": [
            "\tValidation Loss = 0.01918827273535809\n",
            "\tValidation Accuracy = 0.9936999999999993\n",
            "Epoch #26\n"
          ],
          "name": "stdout"
        },
        {
          "output_type": "stream",
          "text": [
            "100%|██████████| 235/235 [00:09<00:00, 25.80it/s]\n",
            " 12%|█▎        | 5/40 [00:00<00:00, 44.75it/s]"
          ],
          "name": "stderr"
        },
        {
          "output_type": "stream",
          "text": [
            "\tTrain Loss = 0.020963131917751062\n",
            "\tTrain Accuracy = 0.9932833333333296\n"
          ],
          "name": "stdout"
        },
        {
          "output_type": "stream",
          "text": [
            "100%|██████████| 40/40 [00:00<00:00, 42.53it/s]\n",
            "  1%|▏         | 3/235 [00:00<00:08, 26.51it/s]"
          ],
          "name": "stderr"
        },
        {
          "output_type": "stream",
          "text": [
            "\tValidation Loss = 0.017694638342019484\n",
            "\tValidation Accuracy = 0.9940999999999993\n",
            "Epoch #27\n"
          ],
          "name": "stdout"
        },
        {
          "output_type": "stream",
          "text": [
            "100%|██████████| 235/235 [00:08<00:00, 26.25it/s]\n",
            " 10%|█         | 4/40 [00:00<00:00, 37.32it/s]"
          ],
          "name": "stderr"
        },
        {
          "output_type": "stream",
          "text": [
            "\tTrain Loss = 0.019785024866982664\n",
            "\tTrain Accuracy = 0.9931999999999963\n"
          ],
          "name": "stdout"
        },
        {
          "output_type": "stream",
          "text": [
            "100%|██████████| 40/40 [00:01<00:00, 37.45it/s]\n",
            "  1%|▏         | 3/235 [00:00<00:09, 23.85it/s]"
          ],
          "name": "stderr"
        },
        {
          "output_type": "stream",
          "text": [
            "\tValidation Loss = 0.01770597939942424\n",
            "\tValidation Accuracy = 0.9937999999999992\n",
            "Epoch #28\n"
          ],
          "name": "stdout"
        },
        {
          "output_type": "stream",
          "text": [
            "100%|██████████| 235/235 [00:09<00:00, 25.91it/s]\n",
            " 12%|█▎        | 5/40 [00:00<00:00, 44.67it/s]"
          ],
          "name": "stderr"
        },
        {
          "output_type": "stream",
          "text": [
            "\tTrain Loss = 0.01858105929864381\n",
            "\tTrain Accuracy = 0.9937833333333296\n"
          ],
          "name": "stdout"
        },
        {
          "output_type": "stream",
          "text": [
            "100%|██████████| 40/40 [00:00<00:00, 43.78it/s]\n",
            "  1%|▏         | 3/235 [00:00<00:08, 27.35it/s]"
          ],
          "name": "stderr"
        },
        {
          "output_type": "stream",
          "text": [
            "\tValidation Loss = 0.01777504932237562\n",
            "\tValidation Accuracy = 0.9942999999999994\n",
            "Model saved!\n",
            "Epoch #29\n"
          ],
          "name": "stdout"
        },
        {
          "output_type": "stream",
          "text": [
            "100%|██████████| 235/235 [00:09<00:00, 26.03it/s]\n",
            " 10%|█         | 4/40 [00:00<00:00, 36.87it/s]"
          ],
          "name": "stderr"
        },
        {
          "output_type": "stream",
          "text": [
            "\tTrain Loss = 0.018806490042815142\n",
            "\tTrain Accuracy = 0.9940999999999962\n"
          ],
          "name": "stdout"
        },
        {
          "output_type": "stream",
          "text": [
            "100%|██████████| 40/40 [00:01<00:00, 36.67it/s]\n",
            "  1%|▏         | 3/235 [00:00<00:09, 23.85it/s]"
          ],
          "name": "stderr"
        },
        {
          "output_type": "stream",
          "text": [
            "\tValidation Loss = 0.018397216449313154\n",
            "\tValidation Accuracy = 0.9944999999999993\n",
            "Model saved!\n",
            "Epoch #30\n"
          ],
          "name": "stdout"
        },
        {
          "output_type": "stream",
          "text": [
            "100%|██████████| 235/235 [00:09<00:00, 25.72it/s]\n",
            " 12%|█▎        | 5/40 [00:00<00:00, 42.87it/s]"
          ],
          "name": "stderr"
        },
        {
          "output_type": "stream",
          "text": [
            "\tTrain Loss = 0.016566400951903187\n",
            "\tTrain Accuracy = 0.9945166666666629\n"
          ],
          "name": "stdout"
        },
        {
          "output_type": "stream",
          "text": [
            "100%|██████████| 40/40 [00:00<00:00, 44.06it/s]\n",
            "  1%|▏         | 3/235 [00:00<00:09, 24.84it/s]"
          ],
          "name": "stderr"
        },
        {
          "output_type": "stream",
          "text": [
            "\tValidation Loss = 0.0160703842801279\n",
            "\tValidation Accuracy = 0.9942999999999994\n",
            "Epoch #31\n"
          ],
          "name": "stdout"
        },
        {
          "output_type": "stream",
          "text": [
            "100%|██████████| 235/235 [00:08<00:00, 26.58it/s]\n",
            " 10%|█         | 4/40 [00:00<00:01, 34.41it/s]"
          ],
          "name": "stderr"
        },
        {
          "output_type": "stream",
          "text": [
            "\tTrain Loss = 0.0171172138911739\n",
            "\tTrain Accuracy = 0.9943833333333295\n"
          ],
          "name": "stdout"
        },
        {
          "output_type": "stream",
          "text": [
            "100%|██████████| 40/40 [00:01<00:00, 35.57it/s]\n",
            "  1%|▏         | 3/235 [00:00<00:09, 24.65it/s]"
          ],
          "name": "stderr"
        },
        {
          "output_type": "stream",
          "text": [
            "\tValidation Loss = 0.018187190166627704\n",
            "\tValidation Accuracy = 0.9937999999999992\n",
            "Epoch #32\n"
          ],
          "name": "stdout"
        },
        {
          "output_type": "stream",
          "text": [
            "100%|██████████| 235/235 [00:08<00:00, 26.32it/s]\n",
            " 12%|█▎        | 5/40 [00:00<00:00, 42.88it/s]"
          ],
          "name": "stderr"
        },
        {
          "output_type": "stream",
          "text": [
            "\tTrain Loss = 0.016931904285506866\n",
            "\tTrain Accuracy = 0.9944833333333295\n"
          ],
          "name": "stdout"
        },
        {
          "output_type": "stream",
          "text": [
            "100%|██████████| 40/40 [00:01<00:00, 37.92it/s]\n",
            "  1%|▏         | 3/235 [00:00<00:09, 23.39it/s]"
          ],
          "name": "stderr"
        },
        {
          "output_type": "stream",
          "text": [
            "\tValidation Loss = 0.018293844323879302\n",
            "\tValidation Accuracy = 0.9946999999999993\n",
            "Model saved!\n",
            "Epoch #33\n"
          ],
          "name": "stdout"
        },
        {
          "output_type": "stream",
          "text": [
            "100%|██████████| 235/235 [00:09<00:00, 26.07it/s]\n",
            " 10%|█         | 4/40 [00:00<00:01, 34.65it/s]"
          ],
          "name": "stderr"
        },
        {
          "output_type": "stream",
          "text": [
            "\tTrain Loss = 0.015990137376366734\n",
            "\tTrain Accuracy = 0.9947499999999961\n"
          ],
          "name": "stdout"
        },
        {
          "output_type": "stream",
          "text": [
            "100%|██████████| 40/40 [00:00<00:00, 42.29it/s]\n",
            "  1%|▏         | 3/235 [00:00<00:08, 27.21it/s]"
          ],
          "name": "stderr"
        },
        {
          "output_type": "stream",
          "text": [
            "\tValidation Loss = 0.019644682352497136\n",
            "\tValidation Accuracy = 0.9939999999999993\n",
            "Epoch #34\n"
          ],
          "name": "stdout"
        },
        {
          "output_type": "stream",
          "text": [
            "100%|██████████| 235/235 [00:08<00:00, 26.74it/s]\n",
            " 10%|█         | 4/40 [00:00<00:00, 37.21it/s]"
          ],
          "name": "stderr"
        },
        {
          "output_type": "stream",
          "text": [
            "\tTrain Loss = 0.013608255706257897\n",
            "\tTrain Accuracy = 0.9955166666666627\n"
          ],
          "name": "stdout"
        },
        {
          "output_type": "stream",
          "text": [
            "100%|██████████| 40/40 [00:01<00:00, 37.19it/s]\n",
            "  1%|▏         | 3/235 [00:00<00:09, 23.93it/s]"
          ],
          "name": "stderr"
        },
        {
          "output_type": "stream",
          "text": [
            "\tValidation Loss = 0.018277966169684655\n",
            "\tValidation Accuracy = 0.9944999999999993\n",
            "Epoch #35\n"
          ],
          "name": "stdout"
        },
        {
          "output_type": "stream",
          "text": [
            "100%|██████████| 235/235 [00:09<00:00, 25.71it/s]\n",
            " 10%|█         | 4/40 [00:00<00:00, 36.06it/s]"
          ],
          "name": "stderr"
        },
        {
          "output_type": "stream",
          "text": [
            "\tTrain Loss = 0.014216809570532828\n",
            "\tTrain Accuracy = 0.9955166666666628\n"
          ],
          "name": "stdout"
        },
        {
          "output_type": "stream",
          "text": [
            "100%|██████████| 40/40 [00:01<00:00, 36.39it/s]\n",
            "  1%|▏         | 3/235 [00:00<00:08, 26.88it/s]"
          ],
          "name": "stderr"
        },
        {
          "output_type": "stream",
          "text": [
            "\tValidation Loss = 0.018481754807996877\n",
            "\tValidation Accuracy = 0.9942999999999993\n",
            "Epoch #36\n"
          ],
          "name": "stdout"
        },
        {
          "output_type": "stream",
          "text": [
            "100%|██████████| 235/235 [00:09<00:00, 25.85it/s]\n",
            " 10%|█         | 4/40 [00:00<00:01, 35.87it/s]"
          ],
          "name": "stderr"
        },
        {
          "output_type": "stream",
          "text": [
            "\tTrain Loss = 0.014779888405474456\n",
            "\tTrain Accuracy = 0.9947833333333295\n"
          ],
          "name": "stdout"
        },
        {
          "output_type": "stream",
          "text": [
            "100%|██████████| 40/40 [00:01<00:00, 37.43it/s]\n",
            "  1%|▏         | 3/235 [00:00<00:08, 26.57it/s]"
          ],
          "name": "stderr"
        },
        {
          "output_type": "stream",
          "text": [
            "\tValidation Loss = 0.018597999838631238\n",
            "\tValidation Accuracy = 0.9939999999999992\n",
            "Epoch #37\n"
          ],
          "name": "stdout"
        },
        {
          "output_type": "stream",
          "text": [
            "100%|██████████| 235/235 [00:09<00:00, 25.15it/s]\n",
            " 10%|█         | 4/40 [00:00<00:01, 35.81it/s]"
          ],
          "name": "stderr"
        },
        {
          "output_type": "stream",
          "text": [
            "\tTrain Loss = 0.01646809239370622\n",
            "\tTrain Accuracy = 0.9948499999999961\n"
          ],
          "name": "stdout"
        },
        {
          "output_type": "stream",
          "text": [
            "100%|██████████| 40/40 [00:00<00:00, 40.11it/s]\n",
            "  1%|▏         | 3/235 [00:00<00:09, 25.69it/s]"
          ],
          "name": "stderr"
        },
        {
          "output_type": "stream",
          "text": [
            "\tValidation Loss = 0.017878350328751035\n",
            "\tValidation Accuracy = 0.9942999999999994\n",
            "Epoch #38\n"
          ],
          "name": "stdout"
        },
        {
          "output_type": "stream",
          "text": [
            "100%|██████████| 235/235 [00:08<00:00, 26.41it/s]\n",
            " 10%|█         | 4/40 [00:00<00:00, 36.66it/s]"
          ],
          "name": "stderr"
        },
        {
          "output_type": "stream",
          "text": [
            "\tTrain Loss = 0.014724302547342555\n",
            "\tTrain Accuracy = 0.9951999999999961\n"
          ],
          "name": "stdout"
        },
        {
          "output_type": "stream",
          "text": [
            "100%|██████████| 40/40 [00:00<00:00, 40.12it/s]\n",
            "  1%|▏         | 3/235 [00:00<00:08, 27.18it/s]"
          ],
          "name": "stderr"
        },
        {
          "output_type": "stream",
          "text": [
            "\tValidation Loss = 0.018165175178249383\n",
            "\tValidation Accuracy = 0.9938999999999993\n",
            "Epoch #39\n"
          ],
          "name": "stdout"
        },
        {
          "output_type": "stream",
          "text": [
            "100%|██████████| 235/235 [00:09<00:00, 25.38it/s]\n",
            " 10%|█         | 4/40 [00:00<00:00, 36.24it/s]"
          ],
          "name": "stderr"
        },
        {
          "output_type": "stream",
          "text": [
            "\tTrain Loss = 0.013191313335452017\n",
            "\tTrain Accuracy = 0.995699999999996\n"
          ],
          "name": "stdout"
        },
        {
          "output_type": "stream",
          "text": [
            "100%|██████████| 40/40 [00:00<00:00, 41.21it/s]\n",
            "  1%|▏         | 3/235 [00:00<00:08, 26.59it/s]"
          ],
          "name": "stderr"
        },
        {
          "output_type": "stream",
          "text": [
            "\tValidation Loss = 0.015223708347725844\n",
            "\tValidation Accuracy = 0.9943999999999993\n",
            "Epoch #40\n"
          ],
          "name": "stdout"
        },
        {
          "output_type": "stream",
          "text": [
            "100%|██████████| 235/235 [00:09<00:00, 25.18it/s]\n",
            " 12%|█▎        | 5/40 [00:00<00:00, 41.99it/s]"
          ],
          "name": "stderr"
        },
        {
          "output_type": "stream",
          "text": [
            "\tTrain Loss = 0.01416257971165686\n",
            "\tTrain Accuracy = 0.9951999999999961\n"
          ],
          "name": "stdout"
        },
        {
          "output_type": "stream",
          "text": [
            "100%|██████████| 40/40 [00:00<00:00, 44.53it/s]\n",
            "  1%|▏         | 3/235 [00:00<00:08, 26.31it/s]"
          ],
          "name": "stderr"
        },
        {
          "output_type": "stream",
          "text": [
            "\tValidation Loss = 0.016046038664448932\n",
            "\tValidation Accuracy = 0.9950999999999992\n",
            "Model saved!\n",
            "Epoch #41\n"
          ],
          "name": "stdout"
        },
        {
          "output_type": "stream",
          "text": [
            "100%|██████████| 235/235 [00:08<00:00, 26.22it/s]\n",
            " 12%|█▎        | 5/40 [00:00<00:00, 44.63it/s]"
          ],
          "name": "stderr"
        },
        {
          "output_type": "stream",
          "text": [
            "\tTrain Loss = 0.014309700965926729\n",
            "\tTrain Accuracy = 0.9952499999999961\n"
          ],
          "name": "stdout"
        },
        {
          "output_type": "stream",
          "text": [
            "100%|██████████| 40/40 [00:00<00:00, 44.14it/s]\n",
            "  1%|▏         | 3/235 [00:00<00:08, 26.69it/s]"
          ],
          "name": "stderr"
        },
        {
          "output_type": "stream",
          "text": [
            "\tValidation Loss = 0.017851636808101343\n",
            "\tValidation Accuracy = 0.9942999999999993\n",
            "Epoch #42\n"
          ],
          "name": "stdout"
        },
        {
          "output_type": "stream",
          "text": [
            "100%|██████████| 235/235 [00:09<00:00, 24.96it/s]\n",
            " 10%|█         | 4/40 [00:00<00:00, 39.21it/s]"
          ],
          "name": "stderr"
        },
        {
          "output_type": "stream",
          "text": [
            "\tTrain Loss = 0.01286088245831059\n",
            "\tTrain Accuracy = 0.9954666666666627\n"
          ],
          "name": "stdout"
        },
        {
          "output_type": "stream",
          "text": [
            "100%|██████████| 40/40 [00:00<00:00, 43.63it/s]\n",
            "  1%|▏         | 3/235 [00:00<00:09, 24.56it/s]"
          ],
          "name": "stderr"
        },
        {
          "output_type": "stream",
          "text": [
            "\tValidation Loss = 0.01714083161667121\n",
            "\tValidation Accuracy = 0.9946999999999993\n",
            "Epoch #43\n"
          ],
          "name": "stdout"
        },
        {
          "output_type": "stream",
          "text": [
            "100%|██████████| 235/235 [00:08<00:00, 26.71it/s]\n",
            " 10%|█         | 4/40 [00:00<00:00, 38.95it/s]"
          ],
          "name": "stderr"
        },
        {
          "output_type": "stream",
          "text": [
            "\tTrain Loss = 0.011809675018026856\n",
            "\tTrain Accuracy = 0.9961833333333293\n"
          ],
          "name": "stdout"
        },
        {
          "output_type": "stream",
          "text": [
            "100%|██████████| 40/40 [00:00<00:00, 43.57it/s]\n",
            "  1%|▏         | 3/235 [00:00<00:08, 26.76it/s]"
          ],
          "name": "stderr"
        },
        {
          "output_type": "stream",
          "text": [
            "\tValidation Loss = 0.01711373184754138\n",
            "\tValidation Accuracy = 0.9946999999999994\n",
            "Epoch #44\n"
          ],
          "name": "stdout"
        },
        {
          "output_type": "stream",
          "text": [
            "100%|██████████| 235/235 [00:08<00:00, 26.59it/s]\n",
            " 12%|█▎        | 5/40 [00:00<00:00, 45.27it/s]"
          ],
          "name": "stderr"
        },
        {
          "output_type": "stream",
          "text": [
            "\tTrain Loss = 0.01373178747216717\n",
            "\tTrain Accuracy = 0.9952833333333294\n"
          ],
          "name": "stdout"
        },
        {
          "output_type": "stream",
          "text": [
            "100%|██████████| 40/40 [00:00<00:00, 44.91it/s]\n",
            "  1%|▏         | 3/235 [00:00<00:08, 27.10it/s]"
          ],
          "name": "stderr"
        },
        {
          "output_type": "stream",
          "text": [
            "\tValidation Loss = 0.01856581072002527\n",
            "\tValidation Accuracy = 0.9946999999999993\n",
            "Epoch #45\n"
          ],
          "name": "stdout"
        },
        {
          "output_type": "stream",
          "text": [
            "100%|██████████| 235/235 [00:08<00:00, 26.31it/s]\n",
            " 10%|█         | 4/40 [00:00<00:00, 36.16it/s]"
          ],
          "name": "stderr"
        },
        {
          "output_type": "stream",
          "text": [
            "\tTrain Loss = 0.010546805122738973\n",
            "\tTrain Accuracy = 0.9963166666666626\n"
          ],
          "name": "stdout"
        },
        {
          "output_type": "stream",
          "text": [
            "100%|██████████| 40/40 [00:00<00:00, 41.25it/s]\n",
            "  1%|▏         | 3/235 [00:00<00:08, 26.11it/s]"
          ],
          "name": "stderr"
        },
        {
          "output_type": "stream",
          "text": [
            "\tValidation Loss = 0.01810674684674734\n",
            "\tValidation Accuracy = 0.9949999999999993\n",
            "Epoch #46\n"
          ],
          "name": "stdout"
        },
        {
          "output_type": "stream",
          "text": [
            "100%|██████████| 235/235 [00:09<00:00, 25.61it/s]\n",
            " 10%|█         | 4/40 [00:00<00:01, 34.32it/s]"
          ],
          "name": "stderr"
        },
        {
          "output_type": "stream",
          "text": [
            "\tTrain Loss = 0.011415919648104553\n",
            "\tTrain Accuracy = 0.996049999999996\n"
          ],
          "name": "stdout"
        },
        {
          "output_type": "stream",
          "text": [
            "100%|██████████| 40/40 [00:00<00:00, 41.21it/s]\n",
            "  1%|▏         | 3/235 [00:00<00:09, 24.95it/s]"
          ],
          "name": "stderr"
        },
        {
          "output_type": "stream",
          "text": [
            "\tValidation Loss = 0.018515675485154932\n",
            "\tValidation Accuracy = 0.9944999999999993\n",
            "Epoch #47\n"
          ],
          "name": "stdout"
        },
        {
          "output_type": "stream",
          "text": [
            "100%|██████████| 235/235 [00:09<00:00, 25.90it/s]\n",
            " 12%|█▎        | 5/40 [00:00<00:00, 42.56it/s]"
          ],
          "name": "stderr"
        },
        {
          "output_type": "stream",
          "text": [
            "\tTrain Loss = 0.011306130281408807\n",
            "\tTrain Accuracy = 0.996149999999996\n"
          ],
          "name": "stdout"
        },
        {
          "output_type": "stream",
          "text": [
            "100%|██████████| 40/40 [00:00<00:00, 43.72it/s]\n",
            "  1%|▏         | 3/235 [00:00<00:08, 27.54it/s]"
          ],
          "name": "stderr"
        },
        {
          "output_type": "stream",
          "text": [
            "\tValidation Loss = 0.019793388450715967\n",
            "\tValidation Accuracy = 0.9939999999999993\n",
            "Epoch #48\n"
          ],
          "name": "stdout"
        },
        {
          "output_type": "stream",
          "text": [
            "100%|██████████| 235/235 [00:08<00:00, 26.29it/s]\n",
            " 12%|█▎        | 5/40 [00:00<00:00, 43.47it/s]"
          ],
          "name": "stderr"
        },
        {
          "output_type": "stream",
          "text": [
            "\tTrain Loss = 0.010848514676011183\n",
            "\tTrain Accuracy = 0.9963166666666626\n"
          ],
          "name": "stdout"
        },
        {
          "output_type": "stream",
          "text": [
            "100%|██████████| 40/40 [00:00<00:00, 42.38it/s]\n",
            "  1%|▏         | 3/235 [00:00<00:09, 24.24it/s]"
          ],
          "name": "stderr"
        },
        {
          "output_type": "stream",
          "text": [
            "\tValidation Loss = 0.015860152270808458\n",
            "\tValidation Accuracy = 0.9947999999999994\n",
            "Epoch #49\n"
          ],
          "name": "stdout"
        },
        {
          "output_type": "stream",
          "text": [
            "100%|██████████| 235/235 [00:08<00:00, 26.57it/s]\n",
            " 12%|█▎        | 5/40 [00:00<00:00, 44.67it/s]"
          ],
          "name": "stderr"
        },
        {
          "output_type": "stream",
          "text": [
            "\tTrain Loss = 0.011364408914232627\n",
            "\tTrain Accuracy = 0.9961333333333293\n"
          ],
          "name": "stdout"
        },
        {
          "output_type": "stream",
          "text": [
            "100%|██████████| 40/40 [00:00<00:00, 44.83it/s]\n",
            "  1%|▏         | 3/235 [00:00<00:08, 26.37it/s]"
          ],
          "name": "stderr"
        },
        {
          "output_type": "stream",
          "text": [
            "\tValidation Loss = 0.016895137383100032\n",
            "\tValidation Accuracy = 0.9946999999999994\n",
            "Epoch #50\n"
          ],
          "name": "stdout"
        },
        {
          "output_type": "stream",
          "text": [
            "100%|██████████| 235/235 [00:09<00:00, 25.78it/s]\n",
            " 12%|█▎        | 5/40 [00:00<00:00, 43.97it/s]"
          ],
          "name": "stderr"
        },
        {
          "output_type": "stream",
          "text": [
            "\tTrain Loss = 0.00995056259976621\n",
            "\tTrain Accuracy = 0.996499999999996\n"
          ],
          "name": "stdout"
        },
        {
          "output_type": "stream",
          "text": [
            "100%|██████████| 40/40 [00:00<00:00, 43.82it/s]\n",
            "  1%|▏         | 3/235 [00:00<00:08, 26.83it/s]"
          ],
          "name": "stderr"
        },
        {
          "output_type": "stream",
          "text": [
            "\tValidation Loss = 0.01796065096246549\n",
            "\tValidation Accuracy = 0.9948999999999993\n",
            "Epoch #51\n"
          ],
          "name": "stdout"
        },
        {
          "output_type": "stream",
          "text": [
            "100%|██████████| 235/235 [00:09<00:00, 25.80it/s]\n",
            " 12%|█▎        | 5/40 [00:00<00:00, 43.96it/s]"
          ],
          "name": "stderr"
        },
        {
          "output_type": "stream",
          "text": [
            "\tTrain Loss = 0.011342026305733194\n",
            "\tTrain Accuracy = 0.9964333333333293\n"
          ],
          "name": "stdout"
        },
        {
          "output_type": "stream",
          "text": [
            "100%|██████████| 40/40 [00:00<00:00, 43.89it/s]\n",
            "  1%|▏         | 3/235 [00:00<00:08, 27.23it/s]"
          ],
          "name": "stderr"
        },
        {
          "output_type": "stream",
          "text": [
            "\tValidation Loss = 0.018215230573038598\n",
            "\tValidation Accuracy = 0.9939999999999993\n",
            "Epoch #52\n"
          ],
          "name": "stdout"
        },
        {
          "output_type": "stream",
          "text": [
            "100%|██████████| 235/235 [00:08<00:00, 26.42it/s]\n",
            " 12%|█▎        | 5/40 [00:00<00:00, 43.45it/s]"
          ],
          "name": "stderr"
        },
        {
          "output_type": "stream",
          "text": [
            "\tTrain Loss = 0.010791251709032607\n",
            "\tTrain Accuracy = 0.9964666666666626\n"
          ],
          "name": "stdout"
        },
        {
          "output_type": "stream",
          "text": [
            "100%|██████████| 40/40 [00:00<00:00, 43.65it/s]\n",
            "  1%|▏         | 3/235 [00:00<00:09, 23.97it/s]"
          ],
          "name": "stderr"
        },
        {
          "output_type": "stream",
          "text": [
            "\tValidation Loss = 0.018467723672612433\n",
            "\tValidation Accuracy = 0.9944999999999993\n",
            "Epoch #53\n"
          ],
          "name": "stdout"
        },
        {
          "output_type": "stream",
          "text": [
            "100%|██████████| 235/235 [00:09<00:00, 25.49it/s]\n",
            " 12%|█▎        | 5/40 [00:00<00:00, 44.28it/s]"
          ],
          "name": "stderr"
        },
        {
          "output_type": "stream",
          "text": [
            "\tTrain Loss = 0.011592537988351177\n",
            "\tTrain Accuracy = 0.996049999999996\n"
          ],
          "name": "stdout"
        },
        {
          "output_type": "stream",
          "text": [
            "100%|██████████| 40/40 [00:00<00:00, 43.59it/s]\n",
            "  1%|▏         | 3/235 [00:00<00:08, 26.93it/s]"
          ],
          "name": "stderr"
        },
        {
          "output_type": "stream",
          "text": [
            "\tValidation Loss = 0.016998505761756773\n",
            "\tValidation Accuracy = 0.9948999999999992\n",
            "Epoch #54\n"
          ],
          "name": "stdout"
        },
        {
          "output_type": "stream",
          "text": [
            "100%|██████████| 235/235 [00:08<00:00, 26.18it/s]\n",
            " 10%|█         | 4/40 [00:00<00:00, 39.76it/s]"
          ],
          "name": "stderr"
        },
        {
          "output_type": "stream",
          "text": [
            "\tTrain Loss = 0.009845244065341461\n",
            "\tTrain Accuracy = 0.9966999999999959\n"
          ],
          "name": "stdout"
        },
        {
          "output_type": "stream",
          "text": [
            "100%|██████████| 40/40 [00:00<00:00, 43.71it/s]\n",
            "  1%|▏         | 3/235 [00:00<00:08, 26.97it/s]"
          ],
          "name": "stderr"
        },
        {
          "output_type": "stream",
          "text": [
            "\tValidation Loss = 0.01735520650700204\n",
            "\tValidation Accuracy = 0.9952999999999993\n",
            "Model saved!\n",
            "Epoch #55\n"
          ],
          "name": "stdout"
        },
        {
          "output_type": "stream",
          "text": [
            "100%|██████████| 235/235 [00:08<00:00, 26.38it/s]\n",
            " 10%|█         | 4/40 [00:00<00:00, 37.39it/s]"
          ],
          "name": "stderr"
        },
        {
          "output_type": "stream",
          "text": [
            "\tTrain Loss = 0.010676016046476187\n",
            "\tTrain Accuracy = 0.996199999999996\n"
          ],
          "name": "stdout"
        },
        {
          "output_type": "stream",
          "text": [
            "100%|██████████| 40/40 [00:00<00:00, 42.38it/s]\n",
            "  1%|▏         | 3/235 [00:00<00:09, 24.80it/s]"
          ],
          "name": "stderr"
        },
        {
          "output_type": "stream",
          "text": [
            "\tValidation Loss = 0.015660804730664606\n",
            "\tValidation Accuracy = 0.9945999999999994\n",
            "Epoch #56\n"
          ],
          "name": "stdout"
        },
        {
          "output_type": "stream",
          "text": [
            "100%|██████████| 235/235 [00:08<00:00, 26.30it/s]\n",
            " 12%|█▎        | 5/40 [00:00<00:00, 41.51it/s]"
          ],
          "name": "stderr"
        },
        {
          "output_type": "stream",
          "text": [
            "\tTrain Loss = 0.00931046555959225\n",
            "\tTrain Accuracy = 0.996449999999996\n"
          ],
          "name": "stdout"
        },
        {
          "output_type": "stream",
          "text": [
            "100%|██████████| 40/40 [00:00<00:00, 43.91it/s]\n",
            "  1%|▏         | 3/235 [00:00<00:08, 27.07it/s]"
          ],
          "name": "stderr"
        },
        {
          "output_type": "stream",
          "text": [
            "\tValidation Loss = 0.015352026878585504\n",
            "\tValidation Accuracy = 0.9945999999999993\n",
            "Epoch #57\n"
          ],
          "name": "stdout"
        },
        {
          "output_type": "stream",
          "text": [
            "100%|██████████| 235/235 [00:09<00:00, 25.81it/s]\n",
            " 12%|█▎        | 5/40 [00:00<00:00, 43.98it/s]"
          ],
          "name": "stderr"
        },
        {
          "output_type": "stream",
          "text": [
            "\tTrain Loss = 0.009902807851854743\n",
            "\tTrain Accuracy = 0.996449999999996\n"
          ],
          "name": "stdout"
        },
        {
          "output_type": "stream",
          "text": [
            "100%|██████████| 40/40 [00:00<00:00, 44.84it/s]\n",
            "  1%|▏         | 3/235 [00:00<00:08, 25.86it/s]"
          ],
          "name": "stderr"
        },
        {
          "output_type": "stream",
          "text": [
            "\tValidation Loss = 0.016889001898071333\n",
            "\tValidation Accuracy = 0.9950999999999993\n",
            "Epoch #58\n"
          ],
          "name": "stdout"
        },
        {
          "output_type": "stream",
          "text": [
            "100%|██████████| 235/235 [00:09<00:00, 26.07it/s]\n",
            " 12%|█▎        | 5/40 [00:00<00:00, 43.46it/s]"
          ],
          "name": "stderr"
        },
        {
          "output_type": "stream",
          "text": [
            "\tTrain Loss = 0.00999612013099792\n",
            "\tTrain Accuracy = 0.9965999999999959\n"
          ],
          "name": "stdout"
        },
        {
          "output_type": "stream",
          "text": [
            "100%|██████████| 40/40 [00:00<00:00, 43.47it/s]\n",
            "  1%|▏         | 3/235 [00:00<00:08, 26.84it/s]"
          ],
          "name": "stderr"
        },
        {
          "output_type": "stream",
          "text": [
            "\tValidation Loss = 0.016547537843895798\n",
            "\tValidation Accuracy = 0.9944999999999992\n",
            "Epoch #59\n"
          ],
          "name": "stdout"
        },
        {
          "output_type": "stream",
          "text": [
            "100%|██████████| 235/235 [00:08<00:00, 26.72it/s]\n",
            " 10%|█         | 4/40 [00:00<00:00, 37.78it/s]"
          ],
          "name": "stderr"
        },
        {
          "output_type": "stream",
          "text": [
            "\tTrain Loss = 0.010125349824640148\n",
            "\tTrain Accuracy = 0.9965499999999959\n"
          ],
          "name": "stdout"
        },
        {
          "output_type": "stream",
          "text": [
            "100%|██████████| 40/40 [00:01<00:00, 38.03it/s]\n",
            "  1%|▏         | 3/235 [00:00<00:09, 24.19it/s]"
          ],
          "name": "stderr"
        },
        {
          "output_type": "stream",
          "text": [
            "\tValidation Loss = 0.016210618803585278\n",
            "\tValidation Accuracy = 0.9951999999999993\n",
            "Epoch #60\n"
          ],
          "name": "stdout"
        },
        {
          "output_type": "stream",
          "text": [
            "100%|██████████| 235/235 [00:08<00:00, 26.58it/s]\n",
            " 12%|█▎        | 5/40 [00:00<00:00, 40.93it/s]"
          ],
          "name": "stderr"
        },
        {
          "output_type": "stream",
          "text": [
            "\tTrain Loss = 0.009092795643097153\n",
            "\tTrain Accuracy = 0.9970166666666626\n"
          ],
          "name": "stdout"
        },
        {
          "output_type": "stream",
          "text": [
            "100%|██████████| 40/40 [00:00<00:00, 43.49it/s]\n",
            "  1%|▏         | 3/235 [00:00<00:08, 26.66it/s]"
          ],
          "name": "stderr"
        },
        {
          "output_type": "stream",
          "text": [
            "\tValidation Loss = 0.016169143575905032\n",
            "\tValidation Accuracy = 0.9947999999999994\n",
            "Epoch #61\n"
          ],
          "name": "stdout"
        },
        {
          "output_type": "stream",
          "text": [
            "100%|██████████| 235/235 [00:08<00:00, 26.84it/s]\n",
            " 12%|█▎        | 5/40 [00:00<00:00, 44.50it/s]"
          ],
          "name": "stderr"
        },
        {
          "output_type": "stream",
          "text": [
            "\tTrain Loss = 0.009552476678282355\n",
            "\tTrain Accuracy = 0.9967166666666626\n"
          ],
          "name": "stdout"
        },
        {
          "output_type": "stream",
          "text": [
            "100%|██████████| 40/40 [00:00<00:00, 41.99it/s]\n",
            "  1%|▏         | 3/235 [00:00<00:08, 27.04it/s]"
          ],
          "name": "stderr"
        },
        {
          "output_type": "stream",
          "text": [
            "\tValidation Loss = 0.01637762882557204\n",
            "\tValidation Accuracy = 0.9949999999999992\n",
            "Epoch #62\n"
          ],
          "name": "stdout"
        },
        {
          "output_type": "stream",
          "text": [
            "100%|██████████| 235/235 [00:08<00:00, 26.55it/s]\n",
            " 10%|█         | 4/40 [00:00<00:01, 34.78it/s]"
          ],
          "name": "stderr"
        },
        {
          "output_type": "stream",
          "text": [
            "\tTrain Loss = 0.007893269579222236\n",
            "\tTrain Accuracy = 0.9972666666666626\n"
          ],
          "name": "stdout"
        },
        {
          "output_type": "stream",
          "text": [
            "100%|██████████| 40/40 [00:00<00:00, 43.08it/s]\n",
            "  1%|▏         | 3/235 [00:00<00:08, 27.27it/s]"
          ],
          "name": "stderr"
        },
        {
          "output_type": "stream",
          "text": [
            "\tValidation Loss = 0.01626143194807366\n",
            "\tValidation Accuracy = 0.9957999999999994\n",
            "Model saved!\n",
            "Epoch #63\n"
          ],
          "name": "stdout"
        },
        {
          "output_type": "stream",
          "text": [
            "100%|██████████| 235/235 [00:08<00:00, 26.55it/s]\n",
            " 12%|█▎        | 5/40 [00:00<00:00, 44.44it/s]"
          ],
          "name": "stderr"
        },
        {
          "output_type": "stream",
          "text": [
            "\tTrain Loss = 0.008992272467027869\n",
            "\tTrain Accuracy = 0.9973333333333293\n"
          ],
          "name": "stdout"
        },
        {
          "output_type": "stream",
          "text": [
            "100%|██████████| 40/40 [00:00<00:00, 43.24it/s]\n",
            "  1%|▏         | 3/235 [00:00<00:08, 26.71it/s]"
          ],
          "name": "stderr"
        },
        {
          "output_type": "stream",
          "text": [
            "\tValidation Loss = 0.01614976001679324\n",
            "\tValidation Accuracy = 0.9955999999999993\n",
            "Epoch #64\n"
          ],
          "name": "stdout"
        },
        {
          "output_type": "stream",
          "text": [
            "100%|██████████| 235/235 [00:09<00:00, 25.78it/s]\n",
            " 10%|█         | 4/40 [00:00<00:00, 36.17it/s]"
          ],
          "name": "stderr"
        },
        {
          "output_type": "stream",
          "text": [
            "\tTrain Loss = 0.008469078446500659\n",
            "\tTrain Accuracy = 0.997099999999996\n"
          ],
          "name": "stdout"
        },
        {
          "output_type": "stream",
          "text": [
            "100%|██████████| 40/40 [00:00<00:00, 41.28it/s]\n",
            "  1%|▏         | 3/235 [00:00<00:08, 27.28it/s]"
          ],
          "name": "stderr"
        },
        {
          "output_type": "stream",
          "text": [
            "\tValidation Loss = 0.018391937001901747\n",
            "\tValidation Accuracy = 0.9949999999999992\n",
            "Epoch #65\n"
          ],
          "name": "stdout"
        },
        {
          "output_type": "stream",
          "text": [
            "100%|██████████| 235/235 [00:08<00:00, 26.31it/s]\n",
            " 12%|█▎        | 5/40 [00:00<00:00, 44.61it/s]"
          ],
          "name": "stderr"
        },
        {
          "output_type": "stream",
          "text": [
            "\tTrain Loss = 0.008382023821283483\n",
            "\tTrain Accuracy = 0.9971833333333293\n"
          ],
          "name": "stdout"
        },
        {
          "output_type": "stream",
          "text": [
            "100%|██████████| 40/40 [00:00<00:00, 43.14it/s]\n",
            "  1%|▏         | 3/235 [00:00<00:10, 22.40it/s]"
          ],
          "name": "stderr"
        },
        {
          "output_type": "stream",
          "text": [
            "\tValidation Loss = 0.015636641290600935\n",
            "\tValidation Accuracy = 0.9954999999999992\n",
            "Epoch #66\n"
          ],
          "name": "stdout"
        },
        {
          "output_type": "stream",
          "text": [
            "100%|██████████| 235/235 [00:09<00:00, 25.97it/s]\n",
            " 12%|█▎        | 5/40 [00:00<00:00, 44.74it/s]"
          ],
          "name": "stderr"
        },
        {
          "output_type": "stream",
          "text": [
            "\tTrain Loss = 0.008652358171352485\n",
            "\tTrain Accuracy = 0.9970833333333293\n"
          ],
          "name": "stdout"
        },
        {
          "output_type": "stream",
          "text": [
            "100%|██████████| 40/40 [00:00<00:00, 44.32it/s]\n",
            "  1%|▏         | 3/235 [00:00<00:09, 25.07it/s]"
          ],
          "name": "stderr"
        },
        {
          "output_type": "stream",
          "text": [
            "\tValidation Loss = 0.0183251110906957\n",
            "\tValidation Accuracy = 0.9948999999999992\n",
            "Epoch #67\n"
          ],
          "name": "stdout"
        },
        {
          "output_type": "stream",
          "text": [
            "100%|██████████| 235/235 [00:08<00:00, 26.87it/s]\n",
            " 10%|█         | 4/40 [00:00<00:00, 36.94it/s]"
          ],
          "name": "stderr"
        },
        {
          "output_type": "stream",
          "text": [
            "\tTrain Loss = 0.008760976681052421\n",
            "\tTrain Accuracy = 0.997199999999996\n"
          ],
          "name": "stdout"
        },
        {
          "output_type": "stream",
          "text": [
            "100%|██████████| 40/40 [00:01<00:00, 39.80it/s]\n",
            "  1%|▏         | 3/235 [00:00<00:08, 27.47it/s]"
          ],
          "name": "stderr"
        },
        {
          "output_type": "stream",
          "text": [
            "\tValidation Loss = 0.01646240205576671\n",
            "\tValidation Accuracy = 0.9949999999999994\n",
            "Epoch #68\n"
          ],
          "name": "stdout"
        },
        {
          "output_type": "stream",
          "text": [
            "100%|██████████| 235/235 [00:08<00:00, 26.18it/s]\n",
            " 12%|█▎        | 5/40 [00:00<00:00, 44.77it/s]"
          ],
          "name": "stderr"
        },
        {
          "output_type": "stream",
          "text": [
            "\tTrain Loss = 0.008301658160620472\n",
            "\tTrain Accuracy = 0.9968999999999959\n"
          ],
          "name": "stdout"
        },
        {
          "output_type": "stream",
          "text": [
            "100%|██████████| 40/40 [00:00<00:00, 43.44it/s]\n",
            "  1%|▏         | 3/235 [00:00<00:08, 26.82it/s]"
          ],
          "name": "stderr"
        },
        {
          "output_type": "stream",
          "text": [
            "\tValidation Loss = 0.01927866241969862\n",
            "\tValidation Accuracy = 0.9945999999999993\n",
            "Epoch #69\n"
          ],
          "name": "stdout"
        },
        {
          "output_type": "stream",
          "text": [
            "100%|██████████| 235/235 [00:09<00:00, 25.89it/s]\n",
            " 12%|█▎        | 5/40 [00:00<00:00, 43.96it/s]"
          ],
          "name": "stderr"
        },
        {
          "output_type": "stream",
          "text": [
            "\tTrain Loss = 0.00915400825492802\n",
            "\tTrain Accuracy = 0.9969666666666626\n"
          ],
          "name": "stdout"
        },
        {
          "output_type": "stream",
          "text": [
            "100%|██████████| 40/40 [00:00<00:00, 44.05it/s]\n",
            "  1%|▏         | 3/235 [00:00<00:08, 26.00it/s]"
          ],
          "name": "stderr"
        },
        {
          "output_type": "stream",
          "text": [
            "\tValidation Loss = 0.017949048218403135\n",
            "\tValidation Accuracy = 0.9949999999999993\n",
            "Epoch #70\n"
          ],
          "name": "stdout"
        },
        {
          "output_type": "stream",
          "text": [
            "100%|██████████| 235/235 [00:08<00:00, 26.24it/s]\n",
            " 12%|█▎        | 5/40 [00:00<00:00, 44.53it/s]"
          ],
          "name": "stderr"
        },
        {
          "output_type": "stream",
          "text": [
            "\tTrain Loss = 0.007816390947821565\n",
            "\tTrain Accuracy = 0.9973333333333292\n"
          ],
          "name": "stdout"
        },
        {
          "output_type": "stream",
          "text": [
            "100%|██████████| 40/40 [00:00<00:00, 44.52it/s]\n",
            "  1%|▏         | 3/235 [00:00<00:08, 26.85it/s]"
          ],
          "name": "stderr"
        },
        {
          "output_type": "stream",
          "text": [
            "\tValidation Loss = 0.018773371327610658\n",
            "\tValidation Accuracy = 0.9946999999999993\n",
            "Epoch #71\n"
          ],
          "name": "stdout"
        },
        {
          "output_type": "stream",
          "text": [
            "100%|██████████| 235/235 [00:09<00:00, 25.51it/s]\n",
            " 12%|█▎        | 5/40 [00:00<00:00, 43.38it/s]"
          ],
          "name": "stderr"
        },
        {
          "output_type": "stream",
          "text": [
            "\tTrain Loss = 0.008211058065402756\n",
            "\tTrain Accuracy = 0.9970999999999959\n"
          ],
          "name": "stdout"
        },
        {
          "output_type": "stream",
          "text": [
            "100%|██████████| 40/40 [00:00<00:00, 43.78it/s]\n",
            "  1%|▏         | 3/235 [00:00<00:08, 27.13it/s]"
          ],
          "name": "stderr"
        },
        {
          "output_type": "stream",
          "text": [
            "\tValidation Loss = 0.01755291194079793\n",
            "\tValidation Accuracy = 0.9949999999999993\n",
            "Epoch #72\n"
          ],
          "name": "stdout"
        },
        {
          "output_type": "stream",
          "text": [
            "100%|██████████| 235/235 [00:08<00:00, 26.75it/s]\n",
            " 12%|█▎        | 5/40 [00:00<00:00, 43.93it/s]"
          ],
          "name": "stderr"
        },
        {
          "output_type": "stream",
          "text": [
            "\tTrain Loss = 0.008617274968424156\n",
            "\tTrain Accuracy = 0.9970166666666626\n"
          ],
          "name": "stdout"
        },
        {
          "output_type": "stream",
          "text": [
            "100%|██████████| 40/40 [00:00<00:00, 44.79it/s]\n",
            "  1%|▏         | 3/235 [00:00<00:09, 25.66it/s]"
          ],
          "name": "stderr"
        },
        {
          "output_type": "stream",
          "text": [
            "\tValidation Loss = 0.01823078087853091\n",
            "\tValidation Accuracy = 0.9951999999999993\n",
            "Epoch #73\n"
          ],
          "name": "stdout"
        },
        {
          "output_type": "stream",
          "text": [
            "100%|██████████| 235/235 [00:08<00:00, 26.16it/s]\n",
            " 10%|█         | 4/40 [00:00<00:00, 39.33it/s]"
          ],
          "name": "stderr"
        },
        {
          "output_type": "stream",
          "text": [
            "\tTrain Loss = 0.007332246839507854\n",
            "\tTrain Accuracy = 0.997499999999996\n"
          ],
          "name": "stdout"
        },
        {
          "output_type": "stream",
          "text": [
            "100%|██████████| 40/40 [00:01<00:00, 37.85it/s]\n",
            "  1%|▏         | 3/235 [00:00<00:09, 25.08it/s]"
          ],
          "name": "stderr"
        },
        {
          "output_type": "stream",
          "text": [
            "\tValidation Loss = 0.015242960038920767\n",
            "\tValidation Accuracy = 0.9954999999999994\n",
            "Epoch #74\n"
          ],
          "name": "stdout"
        },
        {
          "output_type": "stream",
          "text": [
            "100%|██████████| 235/235 [00:08<00:00, 26.57it/s]\n",
            " 12%|█▎        | 5/40 [00:00<00:00, 42.28it/s]"
          ],
          "name": "stderr"
        },
        {
          "output_type": "stream",
          "text": [
            "\tTrain Loss = 0.008100093665943551\n",
            "\tTrain Accuracy = 0.9973166666666626\n"
          ],
          "name": "stdout"
        },
        {
          "output_type": "stream",
          "text": [
            "100%|██████████| 40/40 [00:01<00:00, 38.77it/s]\n",
            "  1%|▏         | 3/235 [00:00<00:09, 23.50it/s]"
          ],
          "name": "stderr"
        },
        {
          "output_type": "stream",
          "text": [
            "\tValidation Loss = 0.015840772124525622\n",
            "\tValidation Accuracy = 0.9952999999999993\n",
            "Epoch #75\n"
          ],
          "name": "stdout"
        },
        {
          "output_type": "stream",
          "text": [
            "100%|██████████| 235/235 [00:09<00:00, 26.06it/s]\n",
            " 12%|█▎        | 5/40 [00:00<00:00, 43.59it/s]"
          ],
          "name": "stderr"
        },
        {
          "output_type": "stream",
          "text": [
            "\tTrain Loss = 0.007839228726309449\n",
            "\tTrain Accuracy = 0.9972833333333293\n"
          ],
          "name": "stdout"
        },
        {
          "output_type": "stream",
          "text": [
            "100%|██████████| 40/40 [00:00<00:00, 44.20it/s]\n",
            "  1%|▏         | 3/235 [00:00<00:08, 26.83it/s]"
          ],
          "name": "stderr"
        },
        {
          "output_type": "stream",
          "text": [
            "\tValidation Loss = 0.016924789626830538\n",
            "\tValidation Accuracy = 0.9947999999999994\n",
            "Epoch #76\n"
          ],
          "name": "stdout"
        },
        {
          "output_type": "stream",
          "text": [
            "100%|██████████| 235/235 [00:08<00:00, 26.56it/s]\n",
            " 12%|█▎        | 5/40 [00:00<00:00, 43.28it/s]"
          ],
          "name": "stderr"
        },
        {
          "output_type": "stream",
          "text": [
            "\tTrain Loss = 0.0062840940763635444\n",
            "\tTrain Accuracy = 0.9977833333333292\n"
          ],
          "name": "stdout"
        },
        {
          "output_type": "stream",
          "text": [
            "100%|██████████| 40/40 [00:01<00:00, 39.45it/s]\n",
            "  1%|▏         | 3/235 [00:00<00:09, 23.43it/s]"
          ],
          "name": "stderr"
        },
        {
          "output_type": "stream",
          "text": [
            "\tValidation Loss = 0.015814278453896137\n",
            "\tValidation Accuracy = 0.9950999999999992\n",
            "Epoch #77\n"
          ],
          "name": "stdout"
        },
        {
          "output_type": "stream",
          "text": [
            "100%|██████████| 235/235 [00:08<00:00, 26.88it/s]\n",
            " 12%|█▎        | 5/40 [00:00<00:00, 43.29it/s]"
          ],
          "name": "stderr"
        },
        {
          "output_type": "stream",
          "text": [
            "\tTrain Loss = 0.006676582736086487\n",
            "\tTrain Accuracy = 0.9976166666666625\n"
          ],
          "name": "stdout"
        },
        {
          "output_type": "stream",
          "text": [
            "100%|██████████| 40/40 [00:00<00:00, 44.61it/s]\n",
            "  1%|▏         | 3/235 [00:00<00:08, 27.13it/s]"
          ],
          "name": "stderr"
        },
        {
          "output_type": "stream",
          "text": [
            "\tValidation Loss = 0.014856020772758324\n",
            "\tValidation Accuracy = 0.9952999999999993\n",
            "Epoch #78\n"
          ],
          "name": "stdout"
        },
        {
          "output_type": "stream",
          "text": [
            "100%|██████████| 235/235 [00:08<00:00, 26.66it/s]\n",
            " 12%|█▎        | 5/40 [00:00<00:00, 43.76it/s]"
          ],
          "name": "stderr"
        },
        {
          "output_type": "stream",
          "text": [
            "\tTrain Loss = 0.0061502152190260565\n",
            "\tTrain Accuracy = 0.9980666666666625\n"
          ],
          "name": "stdout"
        },
        {
          "output_type": "stream",
          "text": [
            "100%|██████████| 40/40 [00:00<00:00, 44.77it/s]\n",
            "  1%|▏         | 3/235 [00:00<00:08, 26.21it/s]"
          ],
          "name": "stderr"
        },
        {
          "output_type": "stream",
          "text": [
            "\tValidation Loss = 0.016899485970345556\n",
            "\tValidation Accuracy = 0.9947999999999992\n",
            "Epoch #79\n"
          ],
          "name": "stdout"
        },
        {
          "output_type": "stream",
          "text": [
            "100%|██████████| 235/235 [00:09<00:00, 25.86it/s]\n",
            " 12%|█▎        | 5/40 [00:00<00:00, 43.91it/s]"
          ],
          "name": "stderr"
        },
        {
          "output_type": "stream",
          "text": [
            "\tTrain Loss = 0.007113995773409951\n",
            "\tTrain Accuracy = 0.9975333333333293\n"
          ],
          "name": "stdout"
        },
        {
          "output_type": "stream",
          "text": [
            "100%|██████████| 40/40 [00:00<00:00, 44.12it/s]\n",
            "  1%|▏         | 3/235 [00:00<00:08, 26.15it/s]"
          ],
          "name": "stderr"
        },
        {
          "output_type": "stream",
          "text": [
            "\tValidation Loss = 0.01663330104248616\n",
            "\tValidation Accuracy = 0.9953999999999992\n",
            "Epoch #80\n"
          ],
          "name": "stdout"
        },
        {
          "output_type": "stream",
          "text": [
            "100%|██████████| 235/235 [00:08<00:00, 26.23it/s]\n",
            " 10%|█         | 4/40 [00:00<00:00, 36.10it/s]"
          ],
          "name": "stderr"
        },
        {
          "output_type": "stream",
          "text": [
            "\tTrain Loss = 0.007928627555298528\n",
            "\tTrain Accuracy = 0.9972999999999959\n"
          ],
          "name": "stdout"
        },
        {
          "output_type": "stream",
          "text": [
            "100%|██████████| 40/40 [00:01<00:00, 38.04it/s]\n",
            "  1%|▏         | 3/235 [00:00<00:08, 26.88it/s]"
          ],
          "name": "stderr"
        },
        {
          "output_type": "stream",
          "text": [
            "\tValidation Loss = 0.01853799730522718\n",
            "\tValidation Accuracy = 0.9947999999999992\n",
            "Epoch #81\n"
          ],
          "name": "stdout"
        },
        {
          "output_type": "stream",
          "text": [
            "100%|██████████| 235/235 [00:08<00:00, 26.87it/s]\n",
            " 12%|█▎        | 5/40 [00:00<00:00, 44.41it/s]"
          ],
          "name": "stderr"
        },
        {
          "output_type": "stream",
          "text": [
            "\tTrain Loss = 0.006834340879337968\n",
            "\tTrain Accuracy = 0.9975666666666626\n"
          ],
          "name": "stdout"
        },
        {
          "output_type": "stream",
          "text": [
            "100%|██████████| 40/40 [00:00<00:00, 44.33it/s]\n",
            "  1%|▏         | 3/235 [00:00<00:09, 25.56it/s]"
          ],
          "name": "stderr"
        },
        {
          "output_type": "stream",
          "text": [
            "\tValidation Loss = 0.018548216006896347\n",
            "\tValidation Accuracy = 0.9951999999999993\n",
            "Epoch #82\n"
          ],
          "name": "stdout"
        },
        {
          "output_type": "stream",
          "text": [
            "100%|██████████| 235/235 [00:08<00:00, 26.38it/s]\n",
            " 12%|█▎        | 5/40 [00:00<00:00, 44.87it/s]"
          ],
          "name": "stderr"
        },
        {
          "output_type": "stream",
          "text": [
            "\tTrain Loss = 0.006652479980957805\n",
            "\tTrain Accuracy = 0.9977499999999959\n"
          ],
          "name": "stdout"
        },
        {
          "output_type": "stream",
          "text": [
            "100%|██████████| 40/40 [00:00<00:00, 44.37it/s]\n",
            "  1%|▏         | 3/235 [00:00<00:08, 27.44it/s]"
          ],
          "name": "stderr"
        },
        {
          "output_type": "stream",
          "text": [
            "\tValidation Loss = 0.0162663358395449\n",
            "\tValidation Accuracy = 0.9956999999999991\n",
            "Epoch #83\n"
          ],
          "name": "stdout"
        },
        {
          "output_type": "stream",
          "text": [
            "100%|██████████| 235/235 [00:09<00:00, 25.79it/s]\n",
            " 10%|█         | 4/40 [00:00<00:01, 34.64it/s]"
          ],
          "name": "stderr"
        },
        {
          "output_type": "stream",
          "text": [
            "\tTrain Loss = 0.006641911097515623\n",
            "\tTrain Accuracy = 0.9977333333333291\n"
          ],
          "name": "stdout"
        },
        {
          "output_type": "stream",
          "text": [
            "100%|██████████| 40/40 [00:00<00:00, 40.58it/s]\n",
            "  1%|▏         | 3/235 [00:00<00:08, 26.95it/s]"
          ],
          "name": "stderr"
        },
        {
          "output_type": "stream",
          "text": [
            "\tValidation Loss = 0.016602534828000056\n",
            "\tValidation Accuracy = 0.9954999999999994\n",
            "Epoch #84\n"
          ],
          "name": "stdout"
        },
        {
          "output_type": "stream",
          "text": [
            "100%|██████████| 235/235 [00:09<00:00, 25.54it/s]\n",
            " 10%|█         | 4/40 [00:00<00:00, 36.42it/s]"
          ],
          "name": "stderr"
        },
        {
          "output_type": "stream",
          "text": [
            "\tTrain Loss = 0.0070524019137014025\n",
            "\tTrain Accuracy = 0.9977333333333293\n"
          ],
          "name": "stdout"
        },
        {
          "output_type": "stream",
          "text": [
            "100%|██████████| 40/40 [00:01<00:00, 36.51it/s]\n",
            "  1%|▏         | 3/235 [00:00<00:10, 21.94it/s]"
          ],
          "name": "stderr"
        },
        {
          "output_type": "stream",
          "text": [
            "\tValidation Loss = 0.014707001112922365\n",
            "\tValidation Accuracy = 0.9962999999999993\n",
            "Model saved!\n",
            "Epoch #85\n"
          ],
          "name": "stdout"
        },
        {
          "output_type": "stream",
          "text": [
            "100%|██████████| 235/235 [00:08<00:00, 26.14it/s]\n",
            " 10%|█         | 4/40 [00:00<00:01, 35.28it/s]"
          ],
          "name": "stderr"
        },
        {
          "output_type": "stream",
          "text": [
            "\tTrain Loss = 0.006793878531317529\n",
            "\tTrain Accuracy = 0.9976666666666625\n"
          ],
          "name": "stdout"
        },
        {
          "output_type": "stream",
          "text": [
            "100%|██████████| 40/40 [00:00<00:00, 42.90it/s]\n",
            "  1%|▏         | 3/235 [00:00<00:08, 26.86it/s]"
          ],
          "name": "stderr"
        },
        {
          "output_type": "stream",
          "text": [
            "\tValidation Loss = 0.015015199901872356\n",
            "\tValidation Accuracy = 0.9954999999999994\n",
            "Epoch #86\n"
          ],
          "name": "stdout"
        },
        {
          "output_type": "stream",
          "text": [
            "100%|██████████| 235/235 [00:09<00:00, 25.89it/s]\n",
            " 12%|█▎        | 5/40 [00:00<00:00, 41.13it/s]"
          ],
          "name": "stderr"
        },
        {
          "output_type": "stream",
          "text": [
            "\tTrain Loss = 0.006822652837970162\n",
            "\tTrain Accuracy = 0.9977999999999959\n"
          ],
          "name": "stdout"
        },
        {
          "output_type": "stream",
          "text": [
            "100%|██████████| 40/40 [00:00<00:00, 44.36it/s]\n",
            "  1%|▏         | 3/235 [00:00<00:09, 25.72it/s]"
          ],
          "name": "stderr"
        },
        {
          "output_type": "stream",
          "text": [
            "\tValidation Loss = 0.016075086196561814\n",
            "\tValidation Accuracy = 0.9951999999999993\n",
            "Epoch #87\n"
          ],
          "name": "stdout"
        },
        {
          "output_type": "stream",
          "text": [
            "100%|██████████| 235/235 [00:08<00:00, 26.14it/s]\n",
            " 12%|█▎        | 5/40 [00:00<00:00, 40.84it/s]"
          ],
          "name": "stderr"
        },
        {
          "output_type": "stream",
          "text": [
            "\tTrain Loss = 0.006266156400300334\n",
            "\tTrain Accuracy = 0.9980333333333292\n"
          ],
          "name": "stdout"
        },
        {
          "output_type": "stream",
          "text": [
            "100%|██████████| 40/40 [00:00<00:00, 42.79it/s]\n",
            "  1%|▏         | 3/235 [00:00<00:08, 27.21it/s]"
          ],
          "name": "stderr"
        },
        {
          "output_type": "stream",
          "text": [
            "\tValidation Loss = 0.017011005621061493\n",
            "\tValidation Accuracy = 0.9956999999999994\n",
            "Epoch #88\n"
          ],
          "name": "stdout"
        },
        {
          "output_type": "stream",
          "text": [
            "100%|██████████| 235/235 [00:08<00:00, 26.38it/s]\n",
            " 10%|█         | 4/40 [00:00<00:00, 37.30it/s]"
          ],
          "name": "stderr"
        },
        {
          "output_type": "stream",
          "text": [
            "\tTrain Loss = 0.006400334873633564\n",
            "\tTrain Accuracy = 0.9978499999999959\n"
          ],
          "name": "stdout"
        },
        {
          "output_type": "stream",
          "text": [
            "100%|██████████| 40/40 [00:00<00:00, 40.17it/s]\n",
            "  1%|▏         | 3/235 [00:00<00:08, 26.67it/s]"
          ],
          "name": "stderr"
        },
        {
          "output_type": "stream",
          "text": [
            "\tValidation Loss = 0.018684946915760434\n",
            "\tValidation Accuracy = 0.9946999999999993\n",
            "Epoch #89\n"
          ],
          "name": "stdout"
        },
        {
          "output_type": "stream",
          "text": [
            "100%|██████████| 235/235 [00:08<00:00, 26.58it/s]\n",
            " 10%|█         | 4/40 [00:00<00:00, 36.24it/s]"
          ],
          "name": "stderr"
        },
        {
          "output_type": "stream",
          "text": [
            "\tTrain Loss = 0.007265345815108434\n",
            "\tTrain Accuracy = 0.997499999999996\n"
          ],
          "name": "stdout"
        },
        {
          "output_type": "stream",
          "text": [
            "100%|██████████| 40/40 [00:00<00:00, 40.26it/s]\n",
            "  1%|▏         | 3/235 [00:00<00:08, 27.26it/s]"
          ],
          "name": "stderr"
        },
        {
          "output_type": "stream",
          "text": [
            "\tValidation Loss = 0.017037604020605345\n",
            "\tValidation Accuracy = 0.9953999999999993\n",
            "Epoch #90\n"
          ],
          "name": "stdout"
        },
        {
          "output_type": "stream",
          "text": [
            "100%|██████████| 235/235 [00:08<00:00, 26.63it/s]\n",
            " 12%|█▎        | 5/40 [00:00<00:00, 44.36it/s]"
          ],
          "name": "stderr"
        },
        {
          "output_type": "stream",
          "text": [
            "\tTrain Loss = 0.00640004069334852\n",
            "\tTrain Accuracy = 0.9977999999999958\n"
          ],
          "name": "stdout"
        },
        {
          "output_type": "stream",
          "text": [
            "100%|██████████| 40/40 [00:00<00:00, 42.07it/s]\n",
            "  1%|▏         | 3/235 [00:00<00:09, 25.42it/s]"
          ],
          "name": "stderr"
        },
        {
          "output_type": "stream",
          "text": [
            "\tValidation Loss = 0.016211115049040842\n",
            "\tValidation Accuracy = 0.9961999999999993\n",
            "Epoch #91\n"
          ],
          "name": "stdout"
        },
        {
          "output_type": "stream",
          "text": [
            "100%|██████████| 235/235 [00:09<00:00, 26.07it/s]\n",
            " 10%|█         | 4/40 [00:00<00:00, 36.50it/s]"
          ],
          "name": "stderr"
        },
        {
          "output_type": "stream",
          "text": [
            "\tTrain Loss = 0.00534446581230564\n",
            "\tTrain Accuracy = 0.9980999999999958\n"
          ],
          "name": "stdout"
        },
        {
          "output_type": "stream",
          "text": [
            "100%|██████████| 40/40 [00:01<00:00, 39.11it/s]\n",
            "  1%|▏         | 3/235 [00:00<00:08, 27.16it/s]"
          ],
          "name": "stderr"
        },
        {
          "output_type": "stream",
          "text": [
            "\tValidation Loss = 0.019833052680055564\n",
            "\tValidation Accuracy = 0.9946999999999994\n",
            "Epoch #92\n"
          ],
          "name": "stdout"
        },
        {
          "output_type": "stream",
          "text": [
            "100%|██████████| 235/235 [00:08<00:00, 26.79it/s]\n",
            " 12%|█▎        | 5/40 [00:00<00:00, 40.88it/s]"
          ],
          "name": "stderr"
        },
        {
          "output_type": "stream",
          "text": [
            "\tTrain Loss = 0.00602196383165315\n",
            "\tTrain Accuracy = 0.9978666666666625\n"
          ],
          "name": "stdout"
        },
        {
          "output_type": "stream",
          "text": [
            "100%|██████████| 40/40 [00:00<00:00, 43.36it/s]\n",
            "  1%|▏         | 3/235 [00:00<00:08, 27.01it/s]"
          ],
          "name": "stderr"
        },
        {
          "output_type": "stream",
          "text": [
            "\tValidation Loss = 0.016394435295650774\n",
            "\tValidation Accuracy = 0.9960999999999993\n",
            "Epoch #93\n"
          ],
          "name": "stdout"
        },
        {
          "output_type": "stream",
          "text": [
            "100%|██████████| 235/235 [00:08<00:00, 26.63it/s]\n",
            " 12%|█▎        | 5/40 [00:00<00:00, 42.27it/s]"
          ],
          "name": "stderr"
        },
        {
          "output_type": "stream",
          "text": [
            "\tTrain Loss = 0.007538826335680284\n",
            "\tTrain Accuracy = 0.9976166666666626\n"
          ],
          "name": "stdout"
        },
        {
          "output_type": "stream",
          "text": [
            "100%|██████████| 40/40 [00:00<00:00, 43.69it/s]\n",
            "  1%|▏         | 3/235 [00:00<00:08, 27.39it/s]"
          ],
          "name": "stderr"
        },
        {
          "output_type": "stream",
          "text": [
            "\tValidation Loss = 0.01620636401527381\n",
            "\tValidation Accuracy = 0.9954999999999992\n",
            "Epoch #94\n"
          ],
          "name": "stdout"
        },
        {
          "output_type": "stream",
          "text": [
            "100%|██████████| 235/235 [00:09<00:00, 25.82it/s]\n",
            " 10%|█         | 4/40 [00:00<00:00, 38.76it/s]"
          ],
          "name": "stderr"
        },
        {
          "output_type": "stream",
          "text": [
            "\tTrain Loss = 0.005628262894680444\n",
            "\tTrain Accuracy = 0.9982666666666625\n"
          ],
          "name": "stdout"
        },
        {
          "output_type": "stream",
          "text": [
            "100%|██████████| 40/40 [00:01<00:00, 37.32it/s]\n",
            "  1%|▏         | 3/235 [00:00<00:09, 23.95it/s]"
          ],
          "name": "stderr"
        },
        {
          "output_type": "stream",
          "text": [
            "\tValidation Loss = 0.016687106980970087\n",
            "\tValidation Accuracy = 0.9953999999999993\n",
            "Epoch #95\n"
          ],
          "name": "stdout"
        },
        {
          "output_type": "stream",
          "text": [
            "100%|██████████| 235/235 [00:08<00:00, 26.69it/s]\n",
            " 12%|█▎        | 5/40 [00:00<00:00, 43.81it/s]"
          ],
          "name": "stderr"
        },
        {
          "output_type": "stream",
          "text": [
            "\tTrain Loss = 0.006272659492100563\n",
            "\tTrain Accuracy = 0.9977333333333293\n"
          ],
          "name": "stdout"
        },
        {
          "output_type": "stream",
          "text": [
            "100%|██████████| 40/40 [00:00<00:00, 43.02it/s]\n",
            "  1%|▏         | 3/235 [00:00<00:08, 26.22it/s]"
          ],
          "name": "stderr"
        },
        {
          "output_type": "stream",
          "text": [
            "\tValidation Loss = 0.017667435635777853\n",
            "\tValidation Accuracy = 0.9954999999999993\n",
            "Epoch #96\n"
          ],
          "name": "stdout"
        },
        {
          "output_type": "stream",
          "text": [
            "100%|██████████| 235/235 [00:08<00:00, 26.60it/s]\n",
            " 12%|█▎        | 5/40 [00:00<00:00, 43.69it/s]"
          ],
          "name": "stderr"
        },
        {
          "output_type": "stream",
          "text": [
            "\tTrain Loss = 0.00507835195325458\n",
            "\tTrain Accuracy = 0.9981499999999959\n"
          ],
          "name": "stdout"
        },
        {
          "output_type": "stream",
          "text": [
            "100%|██████████| 40/40 [00:00<00:00, 44.36it/s]\n",
            "  1%|▏         | 3/235 [00:00<00:08, 25.92it/s]"
          ],
          "name": "stderr"
        },
        {
          "output_type": "stream",
          "text": [
            "\tValidation Loss = 0.017535414202328504\n",
            "\tValidation Accuracy = 0.9953999999999992\n",
            "Epoch #97\n"
          ],
          "name": "stdout"
        },
        {
          "output_type": "stream",
          "text": [
            "100%|██████████| 235/235 [00:08<00:00, 26.37it/s]\n",
            " 12%|█▎        | 5/40 [00:00<00:00, 44.56it/s]"
          ],
          "name": "stderr"
        },
        {
          "output_type": "stream",
          "text": [
            "\tTrain Loss = 0.0051873058213829405\n",
            "\tTrain Accuracy = 0.9982166666666625\n"
          ],
          "name": "stdout"
        },
        {
          "output_type": "stream",
          "text": [
            "100%|██████████| 40/40 [00:00<00:00, 44.01it/s]\n",
            "  1%|▏         | 3/235 [00:00<00:09, 25.27it/s]"
          ],
          "name": "stderr"
        },
        {
          "output_type": "stream",
          "text": [
            "\tValidation Loss = 0.016865766254831358\n",
            "\tValidation Accuracy = 0.9954999999999993\n",
            "Epoch #98\n"
          ],
          "name": "stdout"
        },
        {
          "output_type": "stream",
          "text": [
            "100%|██████████| 235/235 [00:08<00:00, 26.12it/s]\n",
            " 12%|█▎        | 5/40 [00:00<00:00, 44.29it/s]"
          ],
          "name": "stderr"
        },
        {
          "output_type": "stream",
          "text": [
            "\tTrain Loss = 0.005180795325648402\n",
            "\tTrain Accuracy = 0.9981499999999959\n"
          ],
          "name": "stdout"
        },
        {
          "output_type": "stream",
          "text": [
            "100%|██████████| 40/40 [00:00<00:00, 42.90it/s]\n",
            "  1%|▏         | 3/235 [00:00<00:09, 25.66it/s]"
          ],
          "name": "stderr"
        },
        {
          "output_type": "stream",
          "text": [
            "\tValidation Loss = 0.018016251299717095\n",
            "\tValidation Accuracy = 0.9958999999999992\n",
            "Epoch #99\n"
          ],
          "name": "stdout"
        },
        {
          "output_type": "stream",
          "text": [
            "100%|██████████| 235/235 [00:08<00:00, 26.21it/s]\n",
            " 12%|█▎        | 5/40 [00:00<00:00, 43.94it/s]"
          ],
          "name": "stderr"
        },
        {
          "output_type": "stream",
          "text": [
            "\tTrain Loss = 0.005652819423299291\n",
            "\tTrain Accuracy = 0.9983666666666625\n"
          ],
          "name": "stdout"
        },
        {
          "output_type": "stream",
          "text": [
            "100%|██████████| 40/40 [00:00<00:00, 44.11it/s]\n",
            "  1%|▏         | 3/235 [00:00<00:08, 26.85it/s]"
          ],
          "name": "stderr"
        },
        {
          "output_type": "stream",
          "text": [
            "\tValidation Loss = 0.016791544145095583\n",
            "\tValidation Accuracy = 0.9951999999999993\n",
            "Epoch #100\n"
          ],
          "name": "stdout"
        },
        {
          "output_type": "stream",
          "text": [
            "100%|██████████| 235/235 [00:08<00:00, 26.67it/s]\n",
            " 10%|█         | 4/40 [00:00<00:00, 38.95it/s]"
          ],
          "name": "stderr"
        },
        {
          "output_type": "stream",
          "text": [
            "\tTrain Loss = 0.00587170996978954\n",
            "\tTrain Accuracy = 0.9979499999999958\n"
          ],
          "name": "stdout"
        },
        {
          "output_type": "stream",
          "text": [
            "100%|██████████| 40/40 [00:00<00:00, 43.65it/s]"
          ],
          "name": "stderr"
        },
        {
          "output_type": "stream",
          "text": [
            "\tValidation Loss = 0.018194401331021213\n",
            "\tValidation Accuracy = 0.9956999999999993\n"
          ],
          "name": "stdout"
        },
        {
          "output_type": "stream",
          "text": [
            "\n"
          ],
          "name": "stderr"
        },
        {
          "output_type": "execute_result",
          "data": {
            "text/plain": [
              "Sequential(\n",
              "  (0): ZConv2d(\n",
              "    (layer): Conv2d(1, 64, kernel_size=(5, 5), stride=(1, 1))\n",
              "  )\n",
              "  (1): SoftPool2d()\n",
              "  (2): ZConv2d(\n",
              "    (layer): Conv2d(16, 128, kernel_size=(5, 5), stride=(1, 1))\n",
              "  )\n",
              "  (3): SoftPool2d()\n",
              "  (4): Flatten(start_dim=1, end_dim=-1)\n",
              "  (5): Dropout(p=0.5, inplace=False)\n",
              "  (6): ZLinear(\n",
              "    (layer): Linear(in_features=512, out_features=40, bias=True)\n",
              "  )\n",
              ")"
            ]
          },
          "metadata": {
            "tags": []
          },
          "execution_count": 8
        }
      ]
    },
    {
      "cell_type": "code",
      "metadata": {
        "colab": {
          "base_uri": "https://localhost:8080/"
        },
        "id": "Hh_xlv68NgXX",
        "outputId": "50e17224-dc4e-4fc0-f6d6-df955b0418a5"
      },
      "source": [
        "print(\"Best Accuracy = \" + str(acc))"
      ],
      "execution_count": 9,
      "outputs": [
        {
          "output_type": "stream",
          "text": [
            "Best Accuracy = 0.9962999999999993\n"
          ],
          "name": "stdout"
        }
      ]
    },
    {
      "cell_type": "code",
      "metadata": {
        "id": "bv0YuahwOmgf"
      },
      "source": [
        ""
      ],
      "execution_count": 9,
      "outputs": []
    }
  ]
}