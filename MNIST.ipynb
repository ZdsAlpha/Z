{
 "cells": [
  {
   "cell_type": "code",
   "execution_count": 3,
   "metadata": {
    "id": "VSQ-HvMzMTfl"
   },
   "outputs": [],
   "source": [
    "from z import *\n",
    "from trainer import *\n",
    "from torchvision import datasets, transforms\n",
    "from torchsummary import summary"
   ]
  },
  {
   "cell_type": "code",
   "execution_count": 4,
   "metadata": {
    "id": "3IuJquSiMnmZ"
   },
   "outputs": [
    {
     "name": "stdout",
     "output_type": "stream",
     "text": [
      "Downloading http://yann.lecun.com/exdb/mnist/train-images-idx3-ubyte.gz to ./MNIST\\MNIST\\raw\\train-images-idx3-ubyte.gz\n"
     ]
    },
    {
     "data": {
      "application/vnd.jupyter.widget-view+json": {
       "model_id": "b493799adc4f4579947033cf3d97960e",
       "version_major": 2,
       "version_minor": 0
      },
      "text/plain": [
       "HBox(children=(FloatProgress(value=1.0, bar_style='info', max=1.0), HTML(value='')))"
      ]
     },
     "metadata": {},
     "output_type": "display_data"
    },
    {
     "name": "stdout",
     "output_type": "stream",
     "text": [
      "Extracting ./MNIST\\MNIST\\raw\\train-images-idx3-ubyte.gz to ./MNIST\\MNIST\\raw\n",
      "Downloading http://yann.lecun.com/exdb/mnist/train-labels-idx1-ubyte.gz to ./MNIST\\MNIST\\raw\\train-labels-idx1-ubyte.gz\n"
     ]
    },
    {
     "data": {
      "application/vnd.jupyter.widget-view+json": {
       "model_id": "6b85b6db36ec4a7aaddfd6b0613db623",
       "version_major": 2,
       "version_minor": 0
      },
      "text/plain": [
       "HBox(children=(FloatProgress(value=1.0, bar_style='info', max=1.0), HTML(value='')))"
      ]
     },
     "metadata": {},
     "output_type": "display_data"
    },
    {
     "name": "stdout",
     "output_type": "stream",
     "text": [
      "Extracting ./MNIST\\MNIST\\raw\\train-labels-idx1-ubyte.gz to ./MNIST\\MNIST\\raw\n",
      "Downloading http://yann.lecun.com/exdb/mnist/t10k-images-idx3-ubyte.gz to ./MNIST\\MNIST\\raw\\t10k-images-idx3-ubyte.gz\n"
     ]
    },
    {
     "data": {
      "application/vnd.jupyter.widget-view+json": {
       "model_id": "00db716635a54e9e940a4ad88d6aa960",
       "version_major": 2,
       "version_minor": 0
      },
      "text/plain": [
       "HBox(children=(FloatProgress(value=1.0, bar_style='info', max=1.0), HTML(value='')))"
      ]
     },
     "metadata": {},
     "output_type": "display_data"
    },
    {
     "name": "stdout",
     "output_type": "stream",
     "text": [
      "Extracting ./MNIST\\MNIST\\raw\\t10k-images-idx3-ubyte.gz to ./MNIST\\MNIST\\raw\n",
      "Downloading http://yann.lecun.com/exdb/mnist/t10k-labels-idx1-ubyte.gz to ./MNIST\\MNIST\\raw\\t10k-labels-idx1-ubyte.gz\n"
     ]
    },
    {
     "data": {
      "application/vnd.jupyter.widget-view+json": {
       "model_id": "1d86a84fa6e44ce5a28616e5437d97e9",
       "version_major": 2,
       "version_minor": 0
      },
      "text/plain": [
       "HBox(children=(FloatProgress(value=1.0, bar_style='info', max=1.0), HTML(value='')))"
      ]
     },
     "metadata": {},
     "output_type": "display_data"
    },
    {
     "name": "stdout",
     "output_type": "stream",
     "text": [
      "Extracting ./MNIST\\MNIST\\raw\\t10k-labels-idx1-ubyte.gz to ./MNIST\\MNIST\\raw\n",
      "Processing...\n"
     ]
    },
    {
     "name": "stderr",
     "output_type": "stream",
     "text": [
      "C:\\ProgramData\\Anaconda3\\lib\\site-packages\\torchvision\\datasets\\mnist.py:469: UserWarning: The given NumPy array is not writeable, and PyTorch does not support non-writeable tensors. This means you can write to the underlying (supposedly non-writeable) NumPy array using the tensor. You may want to copy the array to protect its data or make it writeable before converting it to a tensor. This type of warning will be suppressed for the rest of this program. (Triggered internally at  ..\\torch\\csrc\\utils\\tensor_numpy.cpp:141.)\n",
      "  return torch.from_numpy(parsed.astype(m[2], copy=False)).view(*s)\n"
     ]
    },
    {
     "name": "stdout",
     "output_type": "stream",
     "text": [
      "Done!\n"
     ]
    }
   ],
   "source": [
    "train_dataset = datasets.MNIST('./MNIST', train=True, download=True,\n",
    "                               transform=transforms.Compose([transforms.ToTensor()]))\n",
    "test_dataset = datasets.MNIST('./MNIST', train=False, \n",
    "                              transform=transforms.Compose([transforms.ToTensor()]))"
   ]
  },
  {
   "cell_type": "code",
   "execution_count": 5,
   "metadata": {
    "id": "d8hvJ1b-M79_"
   },
   "outputs": [],
   "source": [
    "model = nn.Sequential(\n",
    "    ZConv2d(1, 16, 4, 5),\n",
    "    SoftPool2d(16, 2, 2),\n",
    "    ZConv2d(16, 32, 4, 5),\n",
    "    SoftPool2d(32, 2, 2),\n",
    "    nn.Flatten(),\n",
    "    nn.Dropout(0.5),\n",
    "    ZLinear(32 * 4 * 4, 10, 4)\n",
    ").to(0)"
   ]
  },
  {
   "cell_type": "code",
   "execution_count": 6,
   "metadata": {
    "colab": {
     "base_uri": "https://localhost:8080/"
    },
    "id": "hbwq0nzSPWYh",
    "outputId": "33e22840-4497-4c20-83b7-0f109ae15cd1"
   },
   "outputs": [
    {
     "name": "stdout",
     "output_type": "stream",
     "text": [
      "----------------------------------------------------------------\n",
      "        Layer (type)               Output Shape         Param #\n",
      "================================================================\n",
      "            Conv2d-1           [-1, 64, 24, 24]           1,664\n",
      "           ZConv2d-2           [-1, 16, 24, 24]               0\n",
      "        SoftPool2d-3           [-1, 16, 12, 12]               0\n",
      "            Conv2d-4            [-1, 128, 8, 8]          51,328\n",
      "           ZConv2d-5             [-1, 32, 8, 8]               0\n",
      "        SoftPool2d-6             [-1, 32, 4, 4]               0\n",
      "           Flatten-7                  [-1, 512]               0\n",
      "           Dropout-8                  [-1, 512]               0\n",
      "            Linear-9                   [-1, 40]          20,520\n",
      "          ZLinear-10                   [-1, 10]               0\n",
      "================================================================\n",
      "Total params: 73,512\n",
      "Trainable params: 73,512\n",
      "Non-trainable params: 0\n",
      "----------------------------------------------------------------\n",
      "Input size (MB): 0.00\n",
      "Forward/backward pass size (MB): 0.46\n",
      "Params size (MB): 0.28\n",
      "Estimated Total Size (MB): 0.74\n",
      "----------------------------------------------------------------\n"
     ]
    }
   ],
   "source": [
    "summary(model, (1, 28, 28))"
   ]
  },
  {
   "cell_type": "code",
   "execution_count": 7,
   "metadata": {
    "id": "uUHrcytbNNmm"
   },
   "outputs": [],
   "source": [
    "def loss_func(model, batch, scope):\n",
    "    x, y = batch\n",
    "    _y = model(x)\n",
    "    loss = F.cross_entropy(_y, y)\n",
    "    scope[\"metrics\"][\"Accuracy\"] = float(torch.sum((torch.argmax(_y, dim=1) == y).type(torch.float))) / len(scope[\"dataset\"])\n",
    "    return loss, _y"
   ]
  },
  {
   "cell_type": "code",
   "execution_count": 8,
   "metadata": {
    "id": "1x_-6TUENagj"
   },
   "outputs": [],
   "source": [
    "optimizer = torch.optim.AdamW(model.parameters(), lr=0.001)"
   ]
  },
  {
   "cell_type": "code",
   "execution_count": 9,
   "metadata": {
    "id": "qaZ8psB6N0zI"
   },
   "outputs": [],
   "source": [
    "acc = 0\n",
    "def on_epoch(scope):\n",
    "    global acc\n",
    "    _acc = scope[\"val_metrics\"][\"Accuracy\"]\n",
    "    if _acc > acc:\n",
    "        acc = _acc\n",
    "        torch.save(model.state_dict(), \"mnist.model\")\n",
    "        print(\"Model saved!\")"
   ]
  },
  {
   "cell_type": "code",
   "execution_count": 10,
   "metadata": {
    "colab": {
     "base_uri": "https://localhost:8080/"
    },
    "id": "jfb8_JGbNeQg",
    "outputId": "8b1efea9-42e1-4f2e-9550-56ec33d19258"
   },
   "outputs": [
    {
     "name": "stderr",
     "output_type": "stream",
     "text": [
      "  1%|█▎                                                                                                                                                   | 2/235 [00:00<00:17, 13.26it/s]"
     ]
    },
    {
     "name": "stdout",
     "output_type": "stream",
     "text": [
      "Epoch #1\n"
     ]
    },
    {
     "name": "stderr",
     "output_type": "stream",
     "text": [
      "100%|███████████████████████████████████████████████████████████████████████████████████████████████████████████████████████████████████████████████████| 235/235 [00:13<00:00, 18.03it/s]\n",
      "  8%|███████████▎                                                                                                                                          | 3/40 [00:00<00:01, 29.94it/s]"
     ]
    },
    {
     "name": "stdout",
     "output_type": "stream",
     "text": [
      "\tTrain Loss = 0.519930924967689\n",
      "\tTrain Accuracy = 0.8426833333333346\n"
     ]
    },
    {
     "name": "stderr",
     "output_type": "stream",
     "text": [
      "100%|█████████████████████████████████████████████████████████████████████████████████████████████████████████████████████████████████████████████████████| 40/40 [00:01<00:00, 30.51it/s]\n",
      "  0%|                                                                                                                                                             | 0/235 [00:00<?, ?it/s]"
     ]
    },
    {
     "name": "stdout",
     "output_type": "stream",
     "text": [
      "\tValidation Loss = 0.1468155708436559\n",
      "\tValidation Accuracy = 0.9520000000000003\n",
      "Model saved!\n",
      "Epoch #2\n"
     ]
    },
    {
     "name": "stderr",
     "output_type": "stream",
     "text": [
      "100%|███████████████████████████████████████████████████████████████████████████████████████████████████████████████████████████████████████████████████| 235/235 [00:12<00:00, 18.12it/s]\n",
      " 10%|███████████████                                                                                                                                       | 4/40 [00:00<00:01, 30.78it/s]"
     ]
    },
    {
     "name": "stdout",
     "output_type": "stream",
     "text": [
      "\tTrain Loss = 0.1544643218581707\n",
      "\tTrain Accuracy = 0.9543999999999989\n"
     ]
    },
    {
     "name": "stderr",
     "output_type": "stream",
     "text": [
      "100%|█████████████████████████████████████████████████████████████████████████████████████████████████████████████████████████████████████████████████████| 40/40 [00:01<00:00, 30.30it/s]\n",
      "  1%|█▎                                                                                                                                                   | 2/235 [00:00<00:13, 16.77it/s]"
     ]
    },
    {
     "name": "stdout",
     "output_type": "stream",
     "text": [
      "\tValidation Loss = 0.07466418451697725\n",
      "\tValidation Accuracy = 0.9757999999999999\n",
      "Model saved!\n",
      "Epoch #3\n"
     ]
    },
    {
     "name": "stderr",
     "output_type": "stream",
     "text": [
      "100%|███████████████████████████████████████████████████████████████████████████████████████████████████████████████████████████████████████████████████| 235/235 [00:12<00:00, 18.44it/s]\n",
      "  8%|███████████▎                                                                                                                                          | 3/40 [00:00<00:01, 29.90it/s]"
     ]
    },
    {
     "name": "stdout",
     "output_type": "stream",
     "text": [
      "\tTrain Loss = 0.10221177036479367\n",
      "\tTrain Accuracy = 0.9687999999999981\n"
     ]
    },
    {
     "name": "stderr",
     "output_type": "stream",
     "text": [
      "100%|█████████████████████████████████████████████████████████████████████████████████████████████████████████████████████████████████████████████████████| 40/40 [00:01<00:00, 31.49it/s]\n",
      "  1%|█▎                                                                                                                                                   | 2/235 [00:00<00:13, 17.65it/s]"
     ]
    },
    {
     "name": "stdout",
     "output_type": "stream",
     "text": [
      "\tValidation Loss = 0.052827706814618645\n",
      "\tValidation Accuracy = 0.9818999999999996\n",
      "Model saved!\n",
      "Epoch #4\n"
     ]
    },
    {
     "name": "stderr",
     "output_type": "stream",
     "text": [
      "100%|███████████████████████████████████████████████████████████████████████████████████████████████████████████████████████████████████████████████████| 235/235 [00:13<00:00, 16.81it/s]\n",
      "  8%|███████████▎                                                                                                                                          | 3/40 [00:00<00:01, 24.50it/s]"
     ]
    },
    {
     "name": "stdout",
     "output_type": "stream",
     "text": [
      "\tTrain Loss = 0.0779410502005179\n",
      "\tTrain Accuracy = 0.9761666666666641\n"
     ]
    },
    {
     "name": "stderr",
     "output_type": "stream",
     "text": [
      "100%|█████████████████████████████████████████████████████████████████████████████████████████████████████████████████████████████████████████████████████| 40/40 [00:01<00:00, 23.02it/s]\n",
      "  1%|█▎                                                                                                                                                   | 2/235 [00:00<00:13, 16.67it/s]"
     ]
    },
    {
     "name": "stdout",
     "output_type": "stream",
     "text": [
      "\tValidation Loss = 0.039441888410847906\n",
      "\tValidation Accuracy = 0.9865999999999996\n",
      "Model saved!\n",
      "Epoch #5\n"
     ]
    },
    {
     "name": "stderr",
     "output_type": "stream",
     "text": [
      "100%|███████████████████████████████████████████████████████████████████████████████████████████████████████████████████████████████████████████████████| 235/235 [00:15<00:00, 15.30it/s]\n",
      "  8%|███████████▎                                                                                                                                          | 3/40 [00:00<00:01, 25.05it/s]"
     ]
    },
    {
     "name": "stdout",
     "output_type": "stream",
     "text": [
      "\tTrain Loss = 0.06635319554420599\n",
      "\tTrain Accuracy = 0.9794333333333306\n"
     ]
    },
    {
     "name": "stderr",
     "output_type": "stream",
     "text": [
      "100%|█████████████████████████████████████████████████████████████████████████████████████████████████████████████████████████████████████████████████████| 40/40 [00:01<00:00, 25.48it/s]\n",
      "  1%|█▎                                                                                                                                                   | 2/235 [00:00<00:14, 16.52it/s]"
     ]
    },
    {
     "name": "stdout",
     "output_type": "stream",
     "text": [
      "\tValidation Loss = 0.03387269094904385\n",
      "\tValidation Accuracy = 0.9885999999999996\n",
      "Model saved!\n",
      "Epoch #6\n"
     ]
    },
    {
     "name": "stderr",
     "output_type": "stream",
     "text": [
      "100%|███████████████████████████████████████████████████████████████████████████████████████████████████████████████████████████████████████████████████| 235/235 [00:14<00:00, 15.80it/s]\n",
      "  8%|███████████▎                                                                                                                                          | 3/40 [00:00<00:01, 24.43it/s]"
     ]
    },
    {
     "name": "stdout",
     "output_type": "stream",
     "text": [
      "\tTrain Loss = 0.05591059373533827\n",
      "\tTrain Accuracy = 0.9827166666666638\n"
     ]
    },
    {
     "name": "stderr",
     "output_type": "stream",
     "text": [
      "100%|█████████████████████████████████████████████████████████████████████████████████████████████████████████████████████████████████████████████████████| 40/40 [00:01<00:00, 24.39it/s]\n",
      "  1%|█▎                                                                                                                                                   | 2/235 [00:00<00:15, 15.40it/s]"
     ]
    },
    {
     "name": "stdout",
     "output_type": "stream",
     "text": [
      "\tValidation Loss = 0.03193156199143609\n",
      "\tValidation Accuracy = 0.9894999999999995\n",
      "Model saved!\n",
      "Epoch #7\n"
     ]
    },
    {
     "name": "stderr",
     "output_type": "stream",
     "text": [
      "100%|███████████████████████████████████████████████████████████████████████████████████████████████████████████████████████████████████████████████████| 235/235 [00:14<00:00, 15.71it/s]\n",
      "  8%|███████████▎                                                                                                                                          | 3/40 [00:00<00:01, 24.90it/s]"
     ]
    },
    {
     "name": "stdout",
     "output_type": "stream",
     "text": [
      "\tTrain Loss = 0.05037719237428727\n",
      "\tTrain Accuracy = 0.9838999999999971\n"
     ]
    },
    {
     "name": "stderr",
     "output_type": "stream",
     "text": [
      "100%|█████████████████████████████████████████████████████████████████████████████████████████████████████████████████████████████████████████████████████| 40/40 [00:01<00:00, 24.86it/s]\n",
      "  1%|█▎                                                                                                                                                   | 2/235 [00:00<00:15, 15.41it/s]"
     ]
    },
    {
     "name": "stdout",
     "output_type": "stream",
     "text": [
      "\tValidation Loss = 0.02781264674771725\n",
      "\tValidation Accuracy = 0.9909999999999994\n",
      "Model saved!\n",
      "Epoch #8\n"
     ]
    },
    {
     "name": "stderr",
     "output_type": "stream",
     "text": [
      "100%|███████████████████████████████████████████████████████████████████████████████████████████████████████████████████████████████████████████████████| 235/235 [00:14<00:00, 16.22it/s]\n",
      "  8%|███████████▎                                                                                                                                          | 3/40 [00:00<00:01, 25.17it/s]"
     ]
    },
    {
     "name": "stdout",
     "output_type": "stream",
     "text": [
      "\tTrain Loss = 0.04515360933097111\n",
      "\tTrain Accuracy = 0.9858333333333302\n"
     ]
    },
    {
     "name": "stderr",
     "output_type": "stream",
     "text": [
      "100%|█████████████████████████████████████████████████████████████████████████████████████████████████████████████████████████████████████████████████████| 40/40 [00:01<00:00, 24.55it/s]\n",
      "  1%|█▎                                                                                                                                                   | 2/235 [00:00<00:15, 15.26it/s]"
     ]
    },
    {
     "name": "stdout",
     "output_type": "stream",
     "text": [
      "\tValidation Loss = 0.027582824185828497\n",
      "\tValidation Accuracy = 0.9903999999999995\n",
      "Epoch #9\n"
     ]
    },
    {
     "name": "stderr",
     "output_type": "stream",
     "text": [
      "100%|███████████████████████████████████████████████████████████████████████████████████████████████████████████████████████████████████████████████████| 235/235 [00:14<00:00, 16.01it/s]\n",
      "  8%|███████████▎                                                                                                                                          | 3/40 [00:00<00:01, 21.49it/s]"
     ]
    },
    {
     "name": "stdout",
     "output_type": "stream",
     "text": [
      "\tTrain Loss = 0.042382921386210214\n",
      "\tTrain Accuracy = 0.9865999999999968\n"
     ]
    },
    {
     "name": "stderr",
     "output_type": "stream",
     "text": [
      "100%|█████████████████████████████████████████████████████████████████████████████████████████████████████████████████████████████████████████████████████| 40/40 [00:01<00:00, 24.69it/s]\n",
      "  1%|█▎                                                                                                                                                   | 2/235 [00:00<00:16, 14.55it/s]"
     ]
    },
    {
     "name": "stdout",
     "output_type": "stream",
     "text": [
      "\tValidation Loss = 0.025520451279234982\n",
      "\tValidation Accuracy = 0.9913999999999994\n",
      "Model saved!\n",
      "Epoch #10\n"
     ]
    },
    {
     "name": "stderr",
     "output_type": "stream",
     "text": [
      "100%|███████████████████████████████████████████████████████████████████████████████████████████████████████████████████████████████████████████████████| 235/235 [00:14<00:00, 16.28it/s]\n",
      "  8%|███████████▎                                                                                                                                          | 3/40 [00:00<00:01, 25.92it/s]"
     ]
    },
    {
     "name": "stdout",
     "output_type": "stream",
     "text": [
      "\tTrain Loss = 0.03915282916987978\n",
      "\tTrain Accuracy = 0.9870999999999968\n"
     ]
    },
    {
     "name": "stderr",
     "output_type": "stream",
     "text": [
      "100%|█████████████████████████████████████████████████████████████████████████████████████████████████████████████████████████████████████████████████████| 40/40 [00:01<00:00, 24.47it/s]\n",
      "  1%|█▎                                                                                                                                                   | 2/235 [00:00<00:15, 15.08it/s]"
     ]
    },
    {
     "name": "stdout",
     "output_type": "stream",
     "text": [
      "\tValidation Loss = 0.024103719474380076\n",
      "\tValidation Accuracy = 0.9917999999999993\n",
      "Model saved!\n",
      "Epoch #11\n"
     ]
    },
    {
     "name": "stderr",
     "output_type": "stream",
     "text": [
      "100%|███████████████████████████████████████████████████████████████████████████████████████████████████████████████████████████████████████████████████| 235/235 [00:15<00:00, 15.59it/s]\n",
      "  8%|███████████▎                                                                                                                                          | 3/40 [00:00<00:01, 25.96it/s]"
     ]
    },
    {
     "name": "stdout",
     "output_type": "stream",
     "text": [
      "\tTrain Loss = 0.03609957049158796\n",
      "\tTrain Accuracy = 0.98848333333333\n"
     ]
    },
    {
     "name": "stderr",
     "output_type": "stream",
     "text": [
      "100%|█████████████████████████████████████████████████████████████████████████████████████████████████████████████████████████████████████████████████████| 40/40 [00:01<00:00, 26.60it/s]\n",
      "  1%|█▎                                                                                                                                                   | 2/235 [00:00<00:13, 17.26it/s]"
     ]
    },
    {
     "name": "stdout",
     "output_type": "stream",
     "text": [
      "\tValidation Loss = 0.022849730784023782\n",
      "\tValidation Accuracy = 0.9924999999999994\n",
      "Model saved!\n",
      "Epoch #12\n"
     ]
    },
    {
     "name": "stderr",
     "output_type": "stream",
     "text": [
      "100%|███████████████████████████████████████████████████████████████████████████████████████████████████████████████████████████████████████████████████| 235/235 [00:14<00:00, 16.36it/s]\n",
      "  8%|███████████▎                                                                                                                                          | 3/40 [00:00<00:01, 29.93it/s]"
     ]
    },
    {
     "name": "stdout",
     "output_type": "stream",
     "text": [
      "\tTrain Loss = 0.033738965908523204\n",
      "\tTrain Accuracy = 0.9887999999999967\n"
     ]
    },
    {
     "name": "stderr",
     "output_type": "stream",
     "text": [
      "100%|█████████████████████████████████████████████████████████████████████████████████████████████████████████████████████████████████████████████████████| 40/40 [00:01<00:00, 21.31it/s]\n",
      "  1%|█▎                                                                                                                                                   | 2/235 [00:00<00:16, 14.17it/s]"
     ]
    },
    {
     "name": "stdout",
     "output_type": "stream",
     "text": [
      "\tValidation Loss = 0.020304467219564065\n",
      "\tValidation Accuracy = 0.9936999999999994\n",
      "Model saved!\n",
      "Epoch #13\n"
     ]
    },
    {
     "name": "stderr",
     "output_type": "stream",
     "text": [
      "100%|███████████████████████████████████████████████████████████████████████████████████████████████████████████████████████████████████████████████████| 235/235 [00:14<00:00, 16.13it/s]\n",
      "  8%|███████████▎                                                                                                                                          | 3/40 [00:00<00:01, 25.88it/s]"
     ]
    },
    {
     "name": "stdout",
     "output_type": "stream",
     "text": [
      "\tTrain Loss = 0.030615406588382892\n",
      "\tTrain Accuracy = 0.9904666666666632\n"
     ]
    },
    {
     "name": "stderr",
     "output_type": "stream",
     "text": [
      "100%|█████████████████████████████████████████████████████████████████████████████████████████████████████████████████████████████████████████████████████| 40/40 [00:01<00:00, 26.06it/s]\n",
      "  1%|█▎                                                                                                                                                   | 2/235 [00:00<00:15, 14.87it/s]"
     ]
    },
    {
     "name": "stdout",
     "output_type": "stream",
     "text": [
      "\tValidation Loss = 0.022957473390639145\n",
      "\tValidation Accuracy = 0.9927999999999993\n",
      "Epoch #14\n"
     ]
    },
    {
     "name": "stderr",
     "output_type": "stream",
     "text": [
      "100%|███████████████████████████████████████████████████████████████████████████████████████████████████████████████████████████████████████████████████| 235/235 [00:14<00:00, 16.49it/s]\n",
      "  8%|███████████▎                                                                                                                                          | 3/40 [00:00<00:01, 25.88it/s]"
     ]
    },
    {
     "name": "stdout",
     "output_type": "stream",
     "text": [
      "\tTrain Loss = 0.02925081135531477\n",
      "\tTrain Accuracy = 0.9905499999999965\n"
     ]
    },
    {
     "name": "stderr",
     "output_type": "stream",
     "text": [
      "100%|█████████████████████████████████████████████████████████████████████████████████████████████████████████████████████████████████████████████████████| 40/40 [00:01<00:00, 26.21it/s]\n",
      "  1%|█▎                                                                                                                                                   | 2/235 [00:00<00:15, 15.21it/s]"
     ]
    },
    {
     "name": "stdout",
     "output_type": "stream",
     "text": [
      "\tValidation Loss = 0.020353376197773485\n",
      "\tValidation Accuracy = 0.9928999999999993\n",
      "Epoch #15\n"
     ]
    },
    {
     "name": "stderr",
     "output_type": "stream",
     "text": [
      "100%|███████████████████████████████████████████████████████████████████████████████████████████████████████████████████████████████████████████████████| 235/235 [00:14<00:00, 16.54it/s]\n",
      "  8%|███████████▎                                                                                                                                          | 3/40 [00:00<00:01, 24.50it/s]"
     ]
    },
    {
     "name": "stdout",
     "output_type": "stream",
     "text": [
      "\tTrain Loss = 0.028079140408485498\n",
      "\tTrain Accuracy = 0.9910666666666632\n"
     ]
    },
    {
     "name": "stderr",
     "output_type": "stream",
     "text": [
      "100%|█████████████████████████████████████████████████████████████████████████████████████████████████████████████████████████████████████████████████████| 40/40 [00:01<00:00, 26.59it/s]\n",
      "  1%|█▎                                                                                                                                                   | 2/235 [00:00<00:14, 16.08it/s]"
     ]
    },
    {
     "name": "stdout",
     "output_type": "stream",
     "text": [
      "\tValidation Loss = 0.020406029237719628\n",
      "\tValidation Accuracy = 0.9933999999999994\n",
      "Epoch #16\n"
     ]
    },
    {
     "name": "stderr",
     "output_type": "stream",
     "text": [
      "100%|███████████████████████████████████████████████████████████████████████████████████████████████████████████████████████████████████████████████████| 235/235 [00:14<00:00, 16.65it/s]\n",
      "  8%|███████████▎                                                                                                                                          | 3/40 [00:00<00:01, 25.89it/s]"
     ]
    },
    {
     "name": "stdout",
     "output_type": "stream",
     "text": [
      "\tTrain Loss = 0.02681102766063443\n",
      "\tTrain Accuracy = 0.9916166666666631\n"
     ]
    },
    {
     "name": "stderr",
     "output_type": "stream",
     "text": [
      "100%|█████████████████████████████████████████████████████████████████████████████████████████████████████████████████████████████████████████████████████| 40/40 [00:01<00:00, 26.59it/s]\n",
      "  1%|█▎                                                                                                                                                   | 2/235 [00:00<00:13, 17.26it/s]"
     ]
    },
    {
     "name": "stdout",
     "output_type": "stream",
     "text": [
      "\tValidation Loss = 0.01963751140381025\n",
      "\tValidation Accuracy = 0.9938999999999992\n",
      "Model saved!\n",
      "Epoch #17\n"
     ]
    },
    {
     "name": "stderr",
     "output_type": "stream",
     "text": [
      "100%|███████████████████████████████████████████████████████████████████████████████████████████████████████████████████████████████████████████████████| 235/235 [00:14<00:00, 16.42it/s]\n",
      "  8%|███████████▎                                                                                                                                          | 3/40 [00:00<00:01, 25.89it/s]"
     ]
    },
    {
     "name": "stdout",
     "output_type": "stream",
     "text": [
      "\tTrain Loss = 0.02537003112364939\n",
      "\tTrain Accuracy = 0.9916333333333298\n"
     ]
    },
    {
     "name": "stderr",
     "output_type": "stream",
     "text": [
      "100%|█████████████████████████████████████████████████████████████████████████████████████████████████████████████████████████████████████████████████████| 40/40 [00:01<00:00, 25.43it/s]\n",
      "  1%|█▎                                                                                                                                                   | 2/235 [00:00<00:13, 17.26it/s]"
     ]
    },
    {
     "name": "stdout",
     "output_type": "stream",
     "text": [
      "\tValidation Loss = 0.018263779285029515\n",
      "\tValidation Accuracy = 0.9939999999999993\n",
      "Model saved!\n",
      "Epoch #18\n"
     ]
    },
    {
     "name": "stderr",
     "output_type": "stream",
     "text": [
      "100%|███████████████████████████████████████████████████████████████████████████████████████████████████████████████████████████████████████████████████| 235/235 [00:13<00:00, 16.81it/s]\n",
      "  8%|███████████▎                                                                                                                                          | 3/40 [00:00<00:01, 25.89it/s]"
     ]
    },
    {
     "name": "stdout",
     "output_type": "stream",
     "text": [
      "\tTrain Loss = 0.024488325974651438\n",
      "\tTrain Accuracy = 0.9916499999999965\n"
     ]
    },
    {
     "name": "stderr",
     "output_type": "stream",
     "text": [
      "100%|█████████████████████████████████████████████████████████████████████████████████████████████████████████████████████████████████████████████████████| 40/40 [00:01<00:00, 26.33it/s]\n",
      "  1%|█▎                                                                                                                                                   | 2/235 [00:00<00:15, 15.21it/s]"
     ]
    },
    {
     "name": "stdout",
     "output_type": "stream",
     "text": [
      "\tValidation Loss = 0.018049530512631997\n",
      "\tValidation Accuracy = 0.9932999999999993\n",
      "Epoch #19\n"
     ]
    },
    {
     "name": "stderr",
     "output_type": "stream",
     "text": [
      "100%|███████████████████████████████████████████████████████████████████████████████████████████████████████████████████████████████████████████████████| 235/235 [00:14<00:00, 16.26it/s]\n",
      "  8%|███████████▎                                                                                                                                          | 3/40 [00:00<00:01, 25.19it/s]"
     ]
    },
    {
     "name": "stdout",
     "output_type": "stream",
     "text": [
      "\tTrain Loss = 0.02236125647717834\n",
      "\tTrain Accuracy = 0.9927499999999964\n"
     ]
    },
    {
     "name": "stderr",
     "output_type": "stream",
     "text": [
      "100%|█████████████████████████████████████████████████████████████████████████████████████████████████████████████████████████████████████████████████████| 40/40 [00:01<00:00, 24.85it/s]\n",
      "  1%|█▎                                                                                                                                                   | 2/235 [00:00<00:17, 13.02it/s]"
     ]
    },
    {
     "name": "stdout",
     "output_type": "stream",
     "text": [
      "\tValidation Loss = 0.0194139384741392\n",
      "\tValidation Accuracy = 0.9935999999999994\n",
      "Epoch #20\n"
     ]
    },
    {
     "name": "stderr",
     "output_type": "stream",
     "text": [
      "100%|███████████████████████████████████████████████████████████████████████████████████████████████████████████████████████████████████████████████████| 235/235 [00:14<00:00, 15.74it/s]\n",
      "  8%|███████████▎                                                                                                                                          | 3/40 [00:00<00:01, 25.64it/s]"
     ]
    },
    {
     "name": "stdout",
     "output_type": "stream",
     "text": [
      "\tTrain Loss = 0.022871509382809053\n",
      "\tTrain Accuracy = 0.992416666666663\n"
     ]
    },
    {
     "name": "stderr",
     "output_type": "stream",
     "text": [
      "100%|█████████████████████████████████████████████████████████████████████████████████████████████████████████████████████████████████████████████████████| 40/40 [00:01<00:00, 24.46it/s]\n",
      "  1%|█▎                                                                                                                                                   | 2/235 [00:00<00:15, 14.89it/s]"
     ]
    },
    {
     "name": "stdout",
     "output_type": "stream",
     "text": [
      "\tValidation Loss = 0.017599842891197513\n",
      "\tValidation Accuracy = 0.9934999999999994\n",
      "Epoch #21\n"
     ]
    },
    {
     "name": "stderr",
     "output_type": "stream",
     "text": [
      "100%|███████████████████████████████████████████████████████████████████████████████████████████████████████████████████████████████████████████████████| 235/235 [00:15<00:00, 15.15it/s]\n",
      "  8%|███████████▎                                                                                                                                          | 3/40 [00:00<00:01, 25.14it/s]"
     ]
    },
    {
     "name": "stdout",
     "output_type": "stream",
     "text": [
      "\tTrain Loss = 0.02035815255140286\n",
      "\tTrain Accuracy = 0.9932333333333296\n"
     ]
    },
    {
     "name": "stderr",
     "output_type": "stream",
     "text": [
      "100%|█████████████████████████████████████████████████████████████████████████████████████████████████████████████████████████████████████████████████████| 40/40 [00:01<00:00, 24.84it/s]\n",
      "  1%|█▎                                                                                                                                                   | 2/235 [00:00<00:16, 14.49it/s]"
     ]
    },
    {
     "name": "stdout",
     "output_type": "stream",
     "text": [
      "\tValidation Loss = 0.018096709945206298\n",
      "\tValidation Accuracy = 0.9940999999999993\n",
      "Model saved!\n",
      "Epoch #22\n"
     ]
    },
    {
     "name": "stderr",
     "output_type": "stream",
     "text": [
      "100%|███████████████████████████████████████████████████████████████████████████████████████████████████████████████████████████████████████████████████| 235/235 [00:14<00:00, 16.07it/s]\n",
      "  8%|███████████▎                                                                                                                                          | 3/40 [00:00<00:01, 25.21it/s]"
     ]
    },
    {
     "name": "stdout",
     "output_type": "stream",
     "text": [
      "\tTrain Loss = 0.02068525208633835\n",
      "\tTrain Accuracy = 0.9931833333333296\n"
     ]
    },
    {
     "name": "stderr",
     "output_type": "stream",
     "text": [
      "100%|█████████████████████████████████████████████████████████████████████████████████████████████████████████████████████████████████████████████████████| 40/40 [00:01<00:00, 25.61it/s]\n",
      "  1%|█▎                                                                                                                                                   | 2/235 [00:00<00:14, 16.04it/s]"
     ]
    },
    {
     "name": "stdout",
     "output_type": "stream",
     "text": [
      "\tValidation Loss = 0.017332943341543575\n",
      "\tValidation Accuracy = 0.9945999999999994\n",
      "Model saved!\n",
      "Epoch #23\n"
     ]
    },
    {
     "name": "stderr",
     "output_type": "stream",
     "text": [
      "100%|███████████████████████████████████████████████████████████████████████████████████████████████████████████████████████████████████████████████████| 235/235 [00:14<00:00, 16.01it/s]\n",
      "  8%|███████████▎                                                                                                                                          | 3/40 [00:00<00:01, 25.53it/s]"
     ]
    },
    {
     "name": "stdout",
     "output_type": "stream",
     "text": [
      "\tTrain Loss = 0.019848090410528516\n",
      "\tTrain Accuracy = 0.9931333333333296\n"
     ]
    },
    {
     "name": "stderr",
     "output_type": "stream",
     "text": [
      "100%|█████████████████████████████████████████████████████████████████████████████████████████████████████████████████████████████████████████████████████| 40/40 [00:01<00:00, 26.18it/s]\n",
      "  1%|█▎                                                                                                                                                   | 2/235 [00:00<00:15, 14.97it/s]"
     ]
    },
    {
     "name": "stdout",
     "output_type": "stream",
     "text": [
      "\tValidation Loss = 0.01785730148123282\n",
      "\tValidation Accuracy = 0.9936999999999995\n",
      "Epoch #24\n"
     ]
    },
    {
     "name": "stderr",
     "output_type": "stream",
     "text": [
      "100%|███████████████████████████████████████████████████████████████████████████████████████████████████████████████████████████████████████████████████| 235/235 [00:14<00:00, 15.75it/s]\n",
      "  8%|███████████▎                                                                                                                                          | 3/40 [00:00<00:01, 25.37it/s]"
     ]
    },
    {
     "name": "stdout",
     "output_type": "stream",
     "text": [
      "\tTrain Loss = 0.019948397093192058\n",
      "\tTrain Accuracy = 0.9932333333333296\n"
     ]
    },
    {
     "name": "stderr",
     "output_type": "stream",
     "text": [
      "100%|█████████████████████████████████████████████████████████████████████████████████████████████████████████████████████████████████████████████████████| 40/40 [00:01<00:00, 25.95it/s]\n",
      "  1%|█▎                                                                                                                                                   | 2/235 [00:00<00:16, 14.22it/s]"
     ]
    },
    {
     "name": "stdout",
     "output_type": "stream",
     "text": [
      "\tValidation Loss = 0.01768122977165792\n",
      "\tValidation Accuracy = 0.9937999999999994\n",
      "Epoch #25\n"
     ]
    },
    {
     "name": "stderr",
     "output_type": "stream",
     "text": [
      "100%|███████████████████████████████████████████████████████████████████████████████████████████████████████████████████████████████████████████████████| 235/235 [00:14<00:00, 15.72it/s]\n",
      "  8%|███████████▎                                                                                                                                          | 3/40 [00:00<00:01, 23.08it/s]"
     ]
    },
    {
     "name": "stdout",
     "output_type": "stream",
     "text": [
      "\tTrain Loss = 0.018798087723059895\n",
      "\tTrain Accuracy = 0.9938499999999962\n"
     ]
    },
    {
     "name": "stderr",
     "output_type": "stream",
     "text": [
      "100%|█████████████████████████████████████████████████████████████████████████████████████████████████████████████████████████████████████████████████████| 40/40 [00:01<00:00, 25.20it/s]\n",
      "  1%|█▎                                                                                                                                                   | 2/235 [00:00<00:15, 15.51it/s]"
     ]
    },
    {
     "name": "stdout",
     "output_type": "stream",
     "text": [
      "\tValidation Loss = 0.01796456839955925\n",
      "\tValidation Accuracy = 0.9941999999999994\n",
      "Epoch #26\n"
     ]
    },
    {
     "name": "stderr",
     "output_type": "stream",
     "text": [
      "100%|███████████████████████████████████████████████████████████████████████████████████████████████████████████████████████████████████████████████████| 235/235 [00:14<00:00, 16.36it/s]\n",
      "  8%|███████████▎                                                                                                                                          | 3/40 [00:00<00:01, 24.97it/s]"
     ]
    },
    {
     "name": "stdout",
     "output_type": "stream",
     "text": [
      "\tTrain Loss = 0.019168172331558445\n",
      "\tTrain Accuracy = 0.9939333333333296\n"
     ]
    },
    {
     "name": "stderr",
     "output_type": "stream",
     "text": [
      "100%|█████████████████████████████████████████████████████████████████████████████████████████████████████████████████████████████████████████████████████| 40/40 [00:01<00:00, 25.38it/s]\n",
      "  1%|█▎                                                                                                                                                   | 2/235 [00:00<00:14, 15.79it/s]"
     ]
    },
    {
     "name": "stdout",
     "output_type": "stream",
     "text": [
      "\tValidation Loss = 0.016967067464154353\n",
      "\tValidation Accuracy = 0.9937999999999994\n",
      "Epoch #27\n"
     ]
    },
    {
     "name": "stderr",
     "output_type": "stream",
     "text": [
      "100%|███████████████████████████████████████████████████████████████████████████████████████████████████████████████████████████████████████████████████| 235/235 [00:14<00:00, 16.03it/s]\n",
      "  8%|███████████▎                                                                                                                                          | 3/40 [00:00<00:01, 25.37it/s]"
     ]
    },
    {
     "name": "stdout",
     "output_type": "stream",
     "text": [
      "\tTrain Loss = 0.018185346261538976\n",
      "\tTrain Accuracy = 0.9941999999999962\n"
     ]
    },
    {
     "name": "stderr",
     "output_type": "stream",
     "text": [
      "100%|█████████████████████████████████████████████████████████████████████████████████████████████████████████████████████████████████████████████████████| 40/40 [00:01<00:00, 25.84it/s]\n",
      "  1%|█▎                                                                                                                                                   | 2/235 [00:00<00:14, 16.04it/s]"
     ]
    },
    {
     "name": "stdout",
     "output_type": "stream",
     "text": [
      "\tValidation Loss = 0.017111325991475208\n",
      "\tValidation Accuracy = 0.9942999999999993\n",
      "Epoch #28\n"
     ]
    },
    {
     "name": "stderr",
     "output_type": "stream",
     "text": [
      "100%|███████████████████████████████████████████████████████████████████████████████████████████████████████████████████████████████████████████████████| 235/235 [00:14<00:00, 16.21it/s]\n",
      "  8%|███████████▎                                                                                                                                          | 3/40 [00:00<00:01, 22.85it/s]"
     ]
    },
    {
     "name": "stdout",
     "output_type": "stream",
     "text": [
      "\tTrain Loss = 0.015896641132342865\n",
      "\tTrain Accuracy = 0.9948333333333295\n"
     ]
    },
    {
     "name": "stderr",
     "output_type": "stream",
     "text": [
      "100%|█████████████████████████████████████████████████████████████████████████████████████████████████████████████████████████████████████████████████████| 40/40 [00:01<00:00, 20.73it/s]\n",
      "  1%|█▎                                                                                                                                                   | 2/235 [00:00<00:15, 14.64it/s]"
     ]
    },
    {
     "name": "stdout",
     "output_type": "stream",
     "text": [
      "\tValidation Loss = 0.01559077938087817\n",
      "\tValidation Accuracy = 0.9949999999999993\n",
      "Model saved!\n",
      "Epoch #29\n"
     ]
    },
    {
     "name": "stderr",
     "output_type": "stream",
     "text": [
      "100%|███████████████████████████████████████████████████████████████████████████████████████████████████████████████████████████████████████████████████| 235/235 [00:15<00:00, 15.52it/s]\n",
      "  8%|███████████▎                                                                                                                                          | 3/40 [00:00<00:01, 21.77it/s]"
     ]
    },
    {
     "name": "stdout",
     "output_type": "stream",
     "text": [
      "\tTrain Loss = 0.016034968650181603\n",
      "\tTrain Accuracy = 0.9945666666666628\n"
     ]
    },
    {
     "name": "stderr",
     "output_type": "stream",
     "text": [
      "100%|█████████████████████████████████████████████████████████████████████████████████████████████████████████████████████████████████████████████████████| 40/40 [00:01<00:00, 24.15it/s]\n",
      "  1%|█▎                                                                                                                                                   | 2/235 [00:00<00:14, 15.73it/s]"
     ]
    },
    {
     "name": "stdout",
     "output_type": "stream",
     "text": [
      "\tValidation Loss = 0.01593912183517848\n",
      "\tValidation Accuracy = 0.9947999999999994\n",
      "Epoch #30\n"
     ]
    },
    {
     "name": "stderr",
     "output_type": "stream",
     "text": [
      "100%|███████████████████████████████████████████████████████████████████████████████████████████████████████████████████████████████████████████████████| 235/235 [00:14<00:00, 16.16it/s]\n",
      "  8%|███████████▎                                                                                                                                          | 3/40 [00:00<00:01, 25.88it/s]"
     ]
    },
    {
     "name": "stdout",
     "output_type": "stream",
     "text": [
      "\tTrain Loss = 0.0154984737228468\n",
      "\tTrain Accuracy = 0.9947499999999961\n"
     ]
    },
    {
     "name": "stderr",
     "output_type": "stream",
     "text": [
      "100%|█████████████████████████████████████████████████████████████████████████████████████████████████████████████████████████████████████████████████████| 40/40 [00:01<00:00, 26.32it/s]\n",
      "  1%|█▎                                                                                                                                                   | 2/235 [00:00<00:14, 15.92it/s]"
     ]
    },
    {
     "name": "stdout",
     "output_type": "stream",
     "text": [
      "\tValidation Loss = 0.015046857860597368\n",
      "\tValidation Accuracy = 0.9952999999999993\n",
      "Model saved!\n",
      "Epoch #31\n"
     ]
    },
    {
     "name": "stderr",
     "output_type": "stream",
     "text": [
      "100%|███████████████████████████████████████████████████████████████████████████████████████████████████████████████████████████████████████████████████| 235/235 [00:14<00:00, 15.87it/s]\n",
      "  8%|███████████▎                                                                                                                                          | 3/40 [00:00<00:01, 23.53it/s]"
     ]
    },
    {
     "name": "stdout",
     "output_type": "stream",
     "text": [
      "\tTrain Loss = 0.015178214084560257\n",
      "\tTrain Accuracy = 0.9947333333333295\n"
     ]
    },
    {
     "name": "stderr",
     "output_type": "stream",
     "text": [
      "100%|█████████████████████████████████████████████████████████████████████████████████████████████████████████████████████████████████████████████████████| 40/40 [00:01<00:00, 25.35it/s]\n",
      "  1%|█▎                                                                                                                                                   | 2/235 [00:00<00:15, 15.08it/s]"
     ]
    },
    {
     "name": "stdout",
     "output_type": "stream",
     "text": [
      "\tValidation Loss = 0.01603904549283914\n",
      "\tValidation Accuracy = 0.9947999999999994\n",
      "Epoch #32\n"
     ]
    },
    {
     "name": "stderr",
     "output_type": "stream",
     "text": [
      "100%|███████████████████████████████████████████████████████████████████████████████████████████████████████████████████████████████████████████████████| 235/235 [00:14<00:00, 15.92it/s]\n",
      "  8%|███████████▎                                                                                                                                          | 3/40 [00:00<00:01, 23.55it/s]"
     ]
    },
    {
     "name": "stdout",
     "output_type": "stream",
     "text": [
      "\tTrain Loss = 0.015009357812972265\n",
      "\tTrain Accuracy = 0.9947833333333295\n"
     ]
    },
    {
     "name": "stderr",
     "output_type": "stream",
     "text": [
      "100%|█████████████████████████████████████████████████████████████████████████████████████████████████████████████████████████████████████████████████████| 40/40 [00:01<00:00, 25.22it/s]\n",
      "  1%|█▎                                                                                                                                                   | 2/235 [00:00<00:14, 15.85it/s]"
     ]
    },
    {
     "name": "stdout",
     "output_type": "stream",
     "text": [
      "\tValidation Loss = 0.015060436943890747\n",
      "\tValidation Accuracy = 0.9950999999999993\n",
      "Epoch #33\n"
     ]
    },
    {
     "name": "stderr",
     "output_type": "stream",
     "text": [
      "100%|███████████████████████████████████████████████████████████████████████████████████████████████████████████████████████████████████████████████████| 235/235 [00:15<00:00, 15.43it/s]\n",
      "  8%|███████████▎                                                                                                                                          | 3/40 [00:00<00:01, 24.99it/s]"
     ]
    },
    {
     "name": "stdout",
     "output_type": "stream",
     "text": [
      "\tTrain Loss = 0.017292971118013926\n",
      "\tTrain Accuracy = 0.9940499999999962\n"
     ]
    },
    {
     "name": "stderr",
     "output_type": "stream",
     "text": [
      "100%|█████████████████████████████████████████████████████████████████████████████████████████████████████████████████████████████████████████████████████| 40/40 [00:01<00:00, 25.10it/s]\n",
      "  1%|█▎                                                                                                                                                   | 2/235 [00:00<00:14, 15.67it/s]"
     ]
    },
    {
     "name": "stdout",
     "output_type": "stream",
     "text": [
      "\tValidation Loss = 0.01684497335543533\n",
      "\tValidation Accuracy = 0.9947999999999992\n",
      "Epoch #34\n"
     ]
    },
    {
     "name": "stderr",
     "output_type": "stream",
     "text": [
      "100%|███████████████████████████████████████████████████████████████████████████████████████████████████████████████████████████████████████████████████| 235/235 [00:15<00:00, 15.63it/s]\n",
      "  8%|███████████▎                                                                                                                                          | 3/40 [00:00<00:01, 25.01it/s]"
     ]
    },
    {
     "name": "stdout",
     "output_type": "stream",
     "text": [
      "\tTrain Loss = 0.01418790181973452\n",
      "\tTrain Accuracy = 0.9952999999999961\n"
     ]
    },
    {
     "name": "stderr",
     "output_type": "stream",
     "text": [
      "100%|█████████████████████████████████████████████████████████████████████████████████████████████████████████████████████████████████████████████████████| 40/40 [00:01<00:00, 26.05it/s]\n",
      "  1%|█▎                                                                                                                                                   | 2/235 [00:00<00:14, 15.94it/s]"
     ]
    },
    {
     "name": "stdout",
     "output_type": "stream",
     "text": [
      "\tValidation Loss = 0.017182105699547964\n",
      "\tValidation Accuracy = 0.9944999999999994\n",
      "Epoch #35\n"
     ]
    },
    {
     "name": "stderr",
     "output_type": "stream",
     "text": [
      "100%|███████████████████████████████████████████████████████████████████████████████████████████████████████████████████████████████████████████████████| 235/235 [00:14<00:00, 15.81it/s]\n",
      "  8%|███████████▎                                                                                                                                          | 3/40 [00:00<00:01, 25.22it/s]"
     ]
    },
    {
     "name": "stdout",
     "output_type": "stream",
     "text": [
      "\tTrain Loss = 0.01573752300452216\n",
      "\tTrain Accuracy = 0.9945833333333295\n"
     ]
    },
    {
     "name": "stderr",
     "output_type": "stream",
     "text": [
      "100%|█████████████████████████████████████████████████████████████████████████████████████████████████████████████████████████████████████████████████████| 40/40 [00:01<00:00, 24.91it/s]\n",
      "  1%|█▎                                                                                                                                                   | 2/235 [00:00<00:16, 13.83it/s]"
     ]
    },
    {
     "name": "stdout",
     "output_type": "stream",
     "text": [
      "\tValidation Loss = 0.016869480733453755\n",
      "\tValidation Accuracy = 0.9949999999999992\n",
      "Epoch #36\n"
     ]
    },
    {
     "name": "stderr",
     "output_type": "stream",
     "text": [
      "100%|███████████████████████████████████████████████████████████████████████████████████████████████████████████████████████████████████████████████████| 235/235 [00:14<00:00, 15.99it/s]\n",
      "  8%|███████████▎                                                                                                                                          | 3/40 [00:00<00:01, 25.42it/s]"
     ]
    },
    {
     "name": "stdout",
     "output_type": "stream",
     "text": [
      "\tTrain Loss = 0.012356196315090913\n",
      "\tTrain Accuracy = 0.9958666666666627\n"
     ]
    },
    {
     "name": "stderr",
     "output_type": "stream",
     "text": [
      "100%|█████████████████████████████████████████████████████████████████████████████████████████████████████████████████████████████████████████████████████| 40/40 [00:01<00:00, 24.71it/s]\n",
      "  1%|█▎                                                                                                                                                   | 2/235 [00:00<00:14, 15.90it/s]"
     ]
    },
    {
     "name": "stdout",
     "output_type": "stream",
     "text": [
      "\tValidation Loss = 0.0169038396327268\n",
      "\tValidation Accuracy = 0.9949999999999992\n",
      "Epoch #37\n"
     ]
    },
    {
     "name": "stderr",
     "output_type": "stream",
     "text": [
      "100%|███████████████████████████████████████████████████████████████████████████████████████████████████████████████████████████████████████████████████| 235/235 [00:15<00:00, 15.44it/s]\n",
      "  5%|███████▌                                                                                                                                              | 2/40 [00:00<00:02, 17.26it/s]"
     ]
    },
    {
     "name": "stdout",
     "output_type": "stream",
     "text": [
      "\tTrain Loss = 0.01306188932691022\n",
      "\tTrain Accuracy = 0.9954833333333294\n"
     ]
    },
    {
     "name": "stderr",
     "output_type": "stream",
     "text": [
      "100%|█████████████████████████████████████████████████████████████████████████████████████████████████████████████████████████████████████████████████████| 40/40 [00:01<00:00, 25.80it/s]\n",
      "  1%|█▎                                                                                                                                                   | 2/235 [00:00<00:15, 15.21it/s]"
     ]
    },
    {
     "name": "stdout",
     "output_type": "stream",
     "text": [
      "\tValidation Loss = 0.017386351040696777\n",
      "\tValidation Accuracy = 0.9949999999999993\n",
      "Epoch #38\n"
     ]
    },
    {
     "name": "stderr",
     "output_type": "stream",
     "text": [
      "100%|███████████████████████████████████████████████████████████████████████████████████████████████████████████████████████████████████████████████████| 235/235 [00:14<00:00, 15.78it/s]\n",
      "  8%|███████████▎                                                                                                                                          | 3/40 [00:00<00:01, 25.40it/s]"
     ]
    },
    {
     "name": "stdout",
     "output_type": "stream",
     "text": [
      "\tTrain Loss = 0.014063604212054288\n",
      "\tTrain Accuracy = 0.9953666666666627\n"
     ]
    },
    {
     "name": "stderr",
     "output_type": "stream",
     "text": [
      "100%|█████████████████████████████████████████████████████████████████████████████████████████████████████████████████████████████████████████████████████| 40/40 [00:01<00:00, 24.63it/s]\n",
      "  1%|█▎                                                                                                                                                   | 2/235 [00:00<00:15, 15.21it/s]"
     ]
    },
    {
     "name": "stdout",
     "output_type": "stream",
     "text": [
      "\tValidation Loss = 0.016998369863769056\n",
      "\tValidation Accuracy = 0.9945999999999993\n",
      "Epoch #39\n"
     ]
    },
    {
     "name": "stderr",
     "output_type": "stream",
     "text": [
      "100%|███████████████████████████████████████████████████████████████████████████████████████████████████████████████████████████████████████████████████| 235/235 [00:14<00:00, 16.46it/s]\n",
      "  8%|███████████▎                                                                                                                                          | 3/40 [00:00<00:01, 28.10it/s]"
     ]
    },
    {
     "name": "stdout",
     "output_type": "stream",
     "text": [
      "\tTrain Loss = 0.01317548276476712\n",
      "\tTrain Accuracy = 0.995899999999996\n"
     ]
    },
    {
     "name": "stderr",
     "output_type": "stream",
     "text": [
      "100%|█████████████████████████████████████████████████████████████████████████████████████████████████████████████████████████████████████████████████████| 40/40 [00:01<00:00, 26.60it/s]\n",
      "  1%|█▎                                                                                                                                                   | 2/235 [00:00<00:13, 17.26it/s]"
     ]
    },
    {
     "name": "stdout",
     "output_type": "stream",
     "text": [
      "\tValidation Loss = 0.016331306955016882\n",
      "\tValidation Accuracy = 0.9947999999999992\n",
      "Epoch #40\n"
     ]
    },
    {
     "name": "stderr",
     "output_type": "stream",
     "text": [
      "100%|███████████████████████████████████████████████████████████████████████████████████████████████████████████████████████████████████████████████████| 235/235 [00:14<00:00, 16.77it/s]\n",
      "  8%|███████████▎                                                                                                                                          | 3/40 [00:00<00:01, 25.90it/s]"
     ]
    },
    {
     "name": "stdout",
     "output_type": "stream",
     "text": [
      "\tTrain Loss = 0.011470332389531688\n",
      "\tTrain Accuracy = 0.9961166666666627\n"
     ]
    },
    {
     "name": "stderr",
     "output_type": "stream",
     "text": [
      "100%|█████████████████████████████████████████████████████████████████████████████████████████████████████████████████████████████████████████████████████| 40/40 [00:01<00:00, 26.88it/s]\n",
      "  1%|█▎                                                                                                                                                   | 2/235 [00:00<00:13, 17.26it/s]"
     ]
    },
    {
     "name": "stdout",
     "output_type": "stream",
     "text": [
      "\tValidation Loss = 0.016747755098649356\n",
      "\tValidation Accuracy = 0.9947999999999994\n",
      "Epoch #41\n"
     ]
    },
    {
     "name": "stderr",
     "output_type": "stream",
     "text": [
      "100%|███████████████████████████████████████████████████████████████████████████████████████████████████████████████████████████████████████████████████| 235/235 [00:14<00:00, 16.69it/s]\n",
      "  8%|███████████▎                                                                                                                                          | 3/40 [00:00<00:01, 25.87it/s]"
     ]
    },
    {
     "name": "stdout",
     "output_type": "stream",
     "text": [
      "\tTrain Loss = 0.01211325029232855\n",
      "\tTrain Accuracy = 0.9957833333333294\n"
     ]
    },
    {
     "name": "stderr",
     "output_type": "stream",
     "text": [
      "100%|█████████████████████████████████████████████████████████████████████████████████████████████████████████████████████████████████████████████████████| 40/40 [00:01<00:00, 26.32it/s]\n",
      "  1%|█▎                                                                                                                                                   | 2/235 [00:00<00:15, 15.21it/s]"
     ]
    },
    {
     "name": "stdout",
     "output_type": "stream",
     "text": [
      "\tValidation Loss = 0.015468411778406667\n",
      "\tValidation Accuracy = 0.9947999999999994\n",
      "Epoch #42\n"
     ]
    },
    {
     "name": "stderr",
     "output_type": "stream",
     "text": [
      "100%|███████████████████████████████████████████████████████████████████████████████████████████████████████████████████████████████████████████████████| 235/235 [00:14<00:00, 16.32it/s]\n",
      "  8%|███████████▎                                                                                                                                          | 3/40 [00:00<00:01, 25.88it/s]"
     ]
    },
    {
     "name": "stdout",
     "output_type": "stream",
     "text": [
      "\tTrain Loss = 0.012671617225751722\n",
      "\tTrain Accuracy = 0.9954333333333294\n"
     ]
    },
    {
     "name": "stderr",
     "output_type": "stream",
     "text": [
      "100%|█████████████████████████████████████████████████████████████████████████████████████████████████████████████████████████████████████████████████████| 40/40 [00:01<00:00, 26.32it/s]\n",
      "  1%|█▎                                                                                                                                                   | 2/235 [00:00<00:13, 17.27it/s]"
     ]
    },
    {
     "name": "stdout",
     "output_type": "stream",
     "text": [
      "\tValidation Loss = 0.015670400848936946\n",
      "\tValidation Accuracy = 0.9951999999999994\n",
      "Epoch #43\n"
     ]
    },
    {
     "name": "stderr",
     "output_type": "stream",
     "text": [
      "100%|███████████████████████████████████████████████████████████████████████████████████████████████████████████████████████████████████████████████████| 235/235 [00:14<00:00, 16.47it/s]\n",
      "  8%|███████████▎                                                                                                                                          | 3/40 [00:00<00:01, 25.89it/s]"
     ]
    },
    {
     "name": "stdout",
     "output_type": "stream",
     "text": [
      "\tTrain Loss = 0.012580563594198438\n",
      "\tTrain Accuracy = 0.9955833333333294\n"
     ]
    },
    {
     "name": "stderr",
     "output_type": "stream",
     "text": [
      "100%|█████████████████████████████████████████████████████████████████████████████████████████████████████████████████████████████████████████████████████| 40/40 [00:01<00:00, 26.88it/s]\n",
      "  1%|█▎                                                                                                                                                   | 2/235 [00:00<00:15, 15.21it/s]"
     ]
    },
    {
     "name": "stdout",
     "output_type": "stream",
     "text": [
      "\tValidation Loss = 0.01656215993543034\n",
      "\tValidation Accuracy = 0.9942999999999993\n",
      "Epoch #44\n"
     ]
    },
    {
     "name": "stderr",
     "output_type": "stream",
     "text": [
      "100%|███████████████████████████████████████████████████████████████████████████████████████████████████████████████████████████████████████████████████| 235/235 [00:14<00:00, 16.66it/s]\n",
      "  8%|███████████▎                                                                                                                                          | 3/40 [00:00<00:01, 25.88it/s]"
     ]
    },
    {
     "name": "stdout",
     "output_type": "stream",
     "text": [
      "\tTrain Loss = 0.012340922847338873\n",
      "\tTrain Accuracy = 0.995849999999996\n"
     ]
    },
    {
     "name": "stderr",
     "output_type": "stream",
     "text": [
      "100%|█████████████████████████████████████████████████████████████████████████████████████████████████████████████████████████████████████████████████████| 40/40 [00:01<00:00, 25.79it/s]\n",
      "  1%|█▎                                                                                                                                                   | 2/235 [00:00<00:14, 16.07it/s]"
     ]
    },
    {
     "name": "stdout",
     "output_type": "stream",
     "text": [
      "\tValidation Loss = 0.015049711922556969\n",
      "\tValidation Accuracy = 0.9951999999999993\n",
      "Epoch #45\n"
     ]
    },
    {
     "name": "stderr",
     "output_type": "stream",
     "text": [
      "100%|███████████████████████████████████████████████████████████████████████████████████████████████████████████████████████████████████████████████████| 235/235 [00:14<00:00, 16.60it/s]\n",
      "  8%|███████████▎                                                                                                                                          | 3/40 [00:00<00:01, 29.91it/s]"
     ]
    },
    {
     "name": "stdout",
     "output_type": "stream",
     "text": [
      "\tTrain Loss = 0.011393318929580253\n",
      "\tTrain Accuracy = 0.996049999999996\n"
     ]
    },
    {
     "name": "stderr",
     "output_type": "stream",
     "text": [
      "100%|█████████████████████████████████████████████████████████████████████████████████████████████████████████████████████████████████████████████████████| 40/40 [00:01<00:00, 26.59it/s]\n",
      "  1%|█▎                                                                                                                                                   | 2/235 [00:00<00:13, 17.26it/s]"
     ]
    },
    {
     "name": "stdout",
     "output_type": "stream",
     "text": [
      "\tValidation Loss = 0.015606937635358762\n",
      "\tValidation Accuracy = 0.9942999999999993\n",
      "Epoch #46\n"
     ]
    },
    {
     "name": "stderr",
     "output_type": "stream",
     "text": [
      "100%|███████████████████████████████████████████████████████████████████████████████████████████████████████████████████████████████████████████████████| 235/235 [00:14<00:00, 16.72it/s]\n",
      "  8%|███████████▎                                                                                                                                          | 3/40 [00:00<00:01, 25.87it/s]"
     ]
    },
    {
     "name": "stdout",
     "output_type": "stream",
     "text": [
      "\tTrain Loss = 0.01096659172568036\n",
      "\tTrain Accuracy = 0.9964166666666626\n"
     ]
    },
    {
     "name": "stderr",
     "output_type": "stream",
     "text": [
      "100%|█████████████████████████████████████████████████████████████████████████████████████████████████████████████████████████████████████████████████████| 40/40 [00:01<00:00, 26.99it/s]\n",
      "  1%|█▎                                                                                                                                                   | 2/235 [00:00<00:13, 16.82it/s]"
     ]
    },
    {
     "name": "stdout",
     "output_type": "stream",
     "text": [
      "\tValidation Loss = 0.016452965496416543\n",
      "\tValidation Accuracy = 0.9948999999999995\n",
      "Epoch #47\n"
     ]
    },
    {
     "name": "stderr",
     "output_type": "stream",
     "text": [
      "100%|███████████████████████████████████████████████████████████████████████████████████████████████████████████████████████████████████████████████████| 235/235 [00:14<00:00, 16.68it/s]\n",
      "  8%|███████████▎                                                                                                                                          | 3/40 [00:00<00:01, 25.89it/s]"
     ]
    },
    {
     "name": "stdout",
     "output_type": "stream",
     "text": [
      "\tTrain Loss = 0.011363857337944525\n",
      "\tTrain Accuracy = 0.996099999999996\n"
     ]
    },
    {
     "name": "stderr",
     "output_type": "stream",
     "text": [
      "100%|█████████████████████████████████████████████████████████████████████████████████████████████████████████████████████████████████████████████████████| 40/40 [00:01<00:00, 26.87it/s]\n",
      "  1%|█▎                                                                                                                                                   | 2/235 [00:00<00:13, 17.27it/s]"
     ]
    },
    {
     "name": "stdout",
     "output_type": "stream",
     "text": [
      "\tValidation Loss = 0.015399973973233767\n",
      "\tValidation Accuracy = 0.9948999999999993\n",
      "Epoch #48\n"
     ]
    },
    {
     "name": "stderr",
     "output_type": "stream",
     "text": [
      "100%|███████████████████████████████████████████████████████████████████████████████████████████████████████████████████████████████████████████████████| 235/235 [00:14<00:00, 16.66it/s]\n",
      "  5%|███████▌                                                                                                                                              | 2/40 [00:00<00:02, 17.26it/s]"
     ]
    },
    {
     "name": "stdout",
     "output_type": "stream",
     "text": [
      "\tTrain Loss = 0.010423502377707953\n",
      "\tTrain Accuracy = 0.9963666666666626\n"
     ]
    },
    {
     "name": "stderr",
     "output_type": "stream",
     "text": [
      "100%|█████████████████████████████████████████████████████████████████████████████████████████████████████████████████████████████████████████████████████| 40/40 [00:01<00:00, 24.69it/s]\n",
      "  1%|█▎                                                                                                                                                   | 2/235 [00:00<00:15, 15.21it/s]"
     ]
    },
    {
     "name": "stdout",
     "output_type": "stream",
     "text": [
      "\tValidation Loss = 0.014787262640321088\n",
      "\tValidation Accuracy = 0.9952999999999993\n",
      "Epoch #49\n"
     ]
    },
    {
     "name": "stderr",
     "output_type": "stream",
     "text": [
      "100%|███████████████████████████████████████████████████████████████████████████████████████████████████████████████████████████████████████████████████| 235/235 [00:14<00:00, 15.75it/s]\n",
      "  5%|███████▌                                                                                                                                              | 2/40 [00:00<00:01, 19.95it/s]"
     ]
    },
    {
     "name": "stdout",
     "output_type": "stream",
     "text": [
      "\tTrain Loss = 0.010922424565390013\n",
      "\tTrain Accuracy = 0.9966166666666626\n"
     ]
    },
    {
     "name": "stderr",
     "output_type": "stream",
     "text": [
      "100%|█████████████████████████████████████████████████████████████████████████████████████████████████████████████████████████████████████████████████████| 40/40 [00:01<00:00, 23.91it/s]\n",
      "  1%|█▎                                                                                                                                                   | 2/235 [00:00<00:15, 15.21it/s]"
     ]
    },
    {
     "name": "stdout",
     "output_type": "stream",
     "text": [
      "\tValidation Loss = 0.017519824785999734\n",
      "\tValidation Accuracy = 0.9947999999999994\n",
      "Epoch #50\n"
     ]
    },
    {
     "name": "stderr",
     "output_type": "stream",
     "text": [
      "100%|███████████████████████████████████████████████████████████████████████████████████████████████████████████████████████████████████████████████████| 235/235 [00:14<00:00, 15.86it/s]\n",
      "  8%|███████████▎                                                                                                                                          | 3/40 [00:00<00:01, 29.92it/s]"
     ]
    },
    {
     "name": "stdout",
     "output_type": "stream",
     "text": [
      "\tTrain Loss = 0.011769786220580593\n",
      "\tTrain Accuracy = 0.996099999999996\n"
     ]
    },
    {
     "name": "stderr",
     "output_type": "stream",
     "text": [
      "100%|█████████████████████████████████████████████████████████████████████████████████████████████████████████████████████████████████████████████████████| 40/40 [00:01<00:00, 26.59it/s]\n",
      "  1%|█▎                                                                                                                                                   | 2/235 [00:00<00:13, 17.26it/s]"
     ]
    },
    {
     "name": "stdout",
     "output_type": "stream",
     "text": [
      "\tValidation Loss = 0.016070421047197116\n",
      "\tValidation Accuracy = 0.9953999999999994\n",
      "Model saved!\n",
      "Epoch #51\n"
     ]
    },
    {
     "name": "stderr",
     "output_type": "stream",
     "text": [
      "100%|███████████████████████████████████████████████████████████████████████████████████████████████████████████████████████████████████████████████████| 235/235 [00:14<00:00, 16.63it/s]\n",
      "  8%|███████████▎                                                                                                                                          | 3/40 [00:00<00:01, 25.87it/s]"
     ]
    },
    {
     "name": "stdout",
     "output_type": "stream",
     "text": [
      "\tTrain Loss = 0.010111058564704716\n",
      "\tTrain Accuracy = 0.9964833333333293\n"
     ]
    },
    {
     "name": "stderr",
     "output_type": "stream",
     "text": [
      "100%|█████████████████████████████████████████████████████████████████████████████████████████████████████████████████████████████████████████████████████| 40/40 [00:01<00:00, 27.75it/s]\n",
      "  1%|█▎                                                                                                                                                   | 2/235 [00:00<00:13, 17.26it/s]"
     ]
    },
    {
     "name": "stdout",
     "output_type": "stream",
     "text": [
      "\tValidation Loss = 0.016746930630544252\n",
      "\tValidation Accuracy = 0.9952999999999993\n",
      "Epoch #52\n"
     ]
    },
    {
     "name": "stderr",
     "output_type": "stream",
     "text": [
      "100%|███████████████████████████████████████████████████████████████████████████████████████████████████████████████████████████████████████████████████| 235/235 [00:14<00:00, 16.46it/s]\n",
      "  8%|███████████▎                                                                                                                                          | 3/40 [00:00<00:01, 25.89it/s]"
     ]
    },
    {
     "name": "stdout",
     "output_type": "stream",
     "text": [
      "\tTrain Loss = 0.010726232383295625\n",
      "\tTrain Accuracy = 0.9962666666666626\n"
     ]
    },
    {
     "name": "stderr",
     "output_type": "stream",
     "text": [
      "100%|█████████████████████████████████████████████████████████████████████████████████████████████████████████████████████████████████████████████████████| 40/40 [00:01<00:00, 27.16it/s]\n",
      "  1%|█▎                                                                                                                                                   | 2/235 [00:00<00:15, 15.21it/s]"
     ]
    },
    {
     "name": "stdout",
     "output_type": "stream",
     "text": [
      "\tValidation Loss = 0.01759947263184497\n",
      "\tValidation Accuracy = 0.9943999999999993\n",
      "Epoch #53\n"
     ]
    },
    {
     "name": "stderr",
     "output_type": "stream",
     "text": [
      "100%|███████████████████████████████████████████████████████████████████████████████████████████████████████████████████████████████████████████████████| 235/235 [00:14<00:00, 16.46it/s]\n",
      "  8%|███████████▎                                                                                                                                          | 3/40 [00:00<00:01, 22.81it/s]"
     ]
    },
    {
     "name": "stdout",
     "output_type": "stream",
     "text": [
      "\tTrain Loss = 0.010095109567450659\n",
      "\tTrain Accuracy = 0.9963166666666626\n"
     ]
    },
    {
     "name": "stderr",
     "output_type": "stream",
     "text": [
      "100%|█████████████████████████████████████████████████████████████████████████████████████████████████████████████████████████████████████████████████████| 40/40 [00:01<00:00, 26.99it/s]\n",
      "  1%|█▎                                                                                                                                                   | 2/235 [00:00<00:15, 14.88it/s]"
     ]
    },
    {
     "name": "stdout",
     "output_type": "stream",
     "text": [
      "\tValidation Loss = 0.016058161052785912\n",
      "\tValidation Accuracy = 0.9950999999999992\n",
      "Epoch #54\n"
     ]
    },
    {
     "name": "stderr",
     "output_type": "stream",
     "text": [
      "100%|███████████████████████████████████████████████████████████████████████████████████████████████████████████████████████████████████████████████████| 235/235 [00:14<00:00, 16.55it/s]\n",
      "  8%|███████████▎                                                                                                                                          | 3/40 [00:00<00:01, 25.90it/s]"
     ]
    },
    {
     "name": "stdout",
     "output_type": "stream",
     "text": [
      "\tTrain Loss = 0.00955299783181853\n",
      "\tTrain Accuracy = 0.9964166666666626\n"
     ]
    },
    {
     "name": "stderr",
     "output_type": "stream",
     "text": [
      "100%|█████████████████████████████████████████████████████████████████████████████████████████████████████████████████████████████████████████████████████| 40/40 [00:01<00:00, 26.32it/s]\n",
      "  1%|█▎                                                                                                                                                   | 2/235 [00:00<00:15, 15.22it/s]"
     ]
    },
    {
     "name": "stdout",
     "output_type": "stream",
     "text": [
      "\tValidation Loss = 0.01843769078623598\n",
      "\tValidation Accuracy = 0.9947999999999994\n",
      "Epoch #55\n"
     ]
    },
    {
     "name": "stderr",
     "output_type": "stream",
     "text": [
      "100%|███████████████████████████████████████████████████████████████████████████████████████████████████████████████████████████████████████████████████| 235/235 [00:14<00:00, 16.50it/s]\n",
      "  8%|███████████▎                                                                                                                                          | 3/40 [00:00<00:01, 25.89it/s]"
     ]
    },
    {
     "name": "stdout",
     "output_type": "stream",
     "text": [
      "\tTrain Loss = 0.009375630448692206\n",
      "\tTrain Accuracy = 0.9969333333333292\n"
     ]
    },
    {
     "name": "stderr",
     "output_type": "stream",
     "text": [
      "100%|█████████████████████████████████████████████████████████████████████████████████████████████████████████████████████████████████████████████████████| 40/40 [00:01<00:00, 25.43it/s]\n",
      "  1%|█▎                                                                                                                                                   | 2/235 [00:00<00:15, 15.21it/s]"
     ]
    },
    {
     "name": "stdout",
     "output_type": "stream",
     "text": [
      "\tValidation Loss = 0.018058415007846922\n",
      "\tValidation Accuracy = 0.9945999999999993\n",
      "Epoch #56\n"
     ]
    },
    {
     "name": "stderr",
     "output_type": "stream",
     "text": [
      "100%|███████████████████████████████████████████████████████████████████████████████████████████████████████████████████████████████████████████████████| 235/235 [00:14<00:00, 16.68it/s]\n",
      "  8%|███████████▎                                                                                                                                          | 3/40 [00:00<00:01, 29.93it/s]"
     ]
    },
    {
     "name": "stdout",
     "output_type": "stream",
     "text": [
      "\tTrain Loss = 0.01021610710021208\n",
      "\tTrain Accuracy = 0.9964833333333293\n"
     ]
    },
    {
     "name": "stderr",
     "output_type": "stream",
     "text": [
      "100%|█████████████████████████████████████████████████████████████████████████████████████████████████████████████████████████████████████████████████████| 40/40 [00:01<00:00, 27.16it/s]\n",
      "  1%|█▎                                                                                                                                                   | 2/235 [00:00<00:13, 17.26it/s]"
     ]
    },
    {
     "name": "stdout",
     "output_type": "stream",
     "text": [
      "\tValidation Loss = 0.016852748060766937\n",
      "\tValidation Accuracy = 0.9949999999999993\n",
      "Epoch #57\n"
     ]
    },
    {
     "name": "stderr",
     "output_type": "stream",
     "text": [
      "100%|███████████████████████████████████████████████████████████████████████████████████████████████████████████████████████████████████████████████████| 235/235 [00:14<00:00, 16.73it/s]\n",
      "  8%|███████████▎                                                                                                                                          | 3/40 [00:00<00:01, 24.51it/s]"
     ]
    },
    {
     "name": "stdout",
     "output_type": "stream",
     "text": [
      "\tTrain Loss = 0.009429298582737397\n",
      "\tTrain Accuracy = 0.9966999999999959\n"
     ]
    },
    {
     "name": "stderr",
     "output_type": "stream",
     "text": [
      "100%|█████████████████████████████████████████████████████████████████████████████████████████████████████████████████████████████████████████████████████| 40/40 [00:01<00:00, 27.45it/s]\n",
      "  1%|█▎                                                                                                                                                   | 2/235 [00:00<00:15, 15.21it/s]"
     ]
    },
    {
     "name": "stdout",
     "output_type": "stream",
     "text": [
      "\tValidation Loss = 0.015802811595637938\n",
      "\tValidation Accuracy = 0.9953999999999993\n",
      "Epoch #58\n"
     ]
    },
    {
     "name": "stderr",
     "output_type": "stream",
     "text": [
      "100%|███████████████████████████████████████████████████████████████████████████████████████████████████████████████████████████████████████████████████| 235/235 [00:13<00:00, 16.94it/s]\n",
      "  8%|███████████▎                                                                                                                                          | 3/40 [00:00<00:01, 29.91it/s]"
     ]
    },
    {
     "name": "stdout",
     "output_type": "stream",
     "text": [
      "\tTrain Loss = 0.009900074662671274\n",
      "\tTrain Accuracy = 0.996749999999996\n"
     ]
    },
    {
     "name": "stderr",
     "output_type": "stream",
     "text": [
      "100%|█████████████████████████████████████████████████████████████████████████████████████████████████████████████████████████████████████████████████████| 40/40 [00:01<00:00, 26.71it/s]\n",
      "  1%|█▎                                                                                                                                                   | 2/235 [00:00<00:15, 15.51it/s]"
     ]
    },
    {
     "name": "stdout",
     "output_type": "stream",
     "text": [
      "\tValidation Loss = 0.014972351738445624\n",
      "\tValidation Accuracy = 0.9948999999999993\n",
      "Epoch #59\n"
     ]
    },
    {
     "name": "stderr",
     "output_type": "stream",
     "text": [
      "100%|███████████████████████████████████████████████████████████████████████████████████████████████████████████████████████████████████████████████████| 235/235 [00:14<00:00, 16.75it/s]\n",
      "  8%|███████████▎                                                                                                                                          | 3/40 [00:00<00:01, 29.91it/s]"
     ]
    },
    {
     "name": "stdout",
     "output_type": "stream",
     "text": [
      "\tTrain Loss = 0.008759204875956531\n",
      "\tTrain Accuracy = 0.9970333333333293\n"
     ]
    },
    {
     "name": "stderr",
     "output_type": "stream",
     "text": [
      "100%|█████████████████████████████████████████████████████████████████████████████████████████████████████████████████████████████████████████████████████| 40/40 [00:01<00:00, 27.74it/s]\n",
      "  1%|█▎                                                                                                                                                   | 2/235 [00:00<00:13, 17.27it/s]"
     ]
    },
    {
     "name": "stdout",
     "output_type": "stream",
     "text": [
      "\tValidation Loss = 0.018313532053070958\n",
      "\tValidation Accuracy = 0.9938999999999992\n",
      "Epoch #60\n"
     ]
    },
    {
     "name": "stderr",
     "output_type": "stream",
     "text": [
      "100%|███████████████████████████████████████████████████████████████████████████████████████████████████████████████████████████████████████████████████| 235/235 [00:14<00:00, 16.64it/s]\n",
      "  8%|███████████▎                                                                                                                                          | 3/40 [00:00<00:01, 25.89it/s]"
     ]
    },
    {
     "name": "stdout",
     "output_type": "stream",
     "text": [
      "\tTrain Loss = 0.009818177863854867\n",
      "\tTrain Accuracy = 0.9966166666666626\n"
     ]
    },
    {
     "name": "stderr",
     "output_type": "stream",
     "text": [
      "100%|█████████████████████████████████████████████████████████████████████████████████████████████████████████████████████████████████████████████████████| 40/40 [00:01<00:00, 26.59it/s]\n",
      "  1%|█▎                                                                                                                                                   | 2/235 [00:00<00:13, 17.27it/s]"
     ]
    },
    {
     "name": "stdout",
     "output_type": "stream",
     "text": [
      "\tValidation Loss = 0.016476078451524344\n",
      "\tValidation Accuracy = 0.9943999999999993\n",
      "Epoch #61\n"
     ]
    },
    {
     "name": "stderr",
     "output_type": "stream",
     "text": [
      "100%|███████████████████████████████████████████████████████████████████████████████████████████████████████████████████████████████████████████████████| 235/235 [00:14<00:00, 16.38it/s]\n",
      "  8%|███████████▎                                                                                                                                          | 3/40 [00:00<00:01, 25.88it/s]"
     ]
    },
    {
     "name": "stdout",
     "output_type": "stream",
     "text": [
      "\tTrain Loss = 0.009979495727193198\n",
      "\tTrain Accuracy = 0.9966166666666627\n"
     ]
    },
    {
     "name": "stderr",
     "output_type": "stream",
     "text": [
      "100%|█████████████████████████████████████████████████████████████████████████████████████████████████████████████████████████████████████████████████████| 40/40 [00:01<00:00, 25.43it/s]\n",
      "  1%|█▎                                                                                                                                                   | 2/235 [00:00<00:13, 17.26it/s]"
     ]
    },
    {
     "name": "stdout",
     "output_type": "stream",
     "text": [
      "\tValidation Loss = 0.01495044078154983\n",
      "\tValidation Accuracy = 0.9950999999999993\n",
      "Epoch #62\n"
     ]
    },
    {
     "name": "stderr",
     "output_type": "stream",
     "text": [
      "100%|███████████████████████████████████████████████████████████████████████████████████████████████████████████████████████████████████████████████████| 235/235 [00:13<00:00, 16.85it/s]\n",
      "  8%|███████████▎                                                                                                                                          | 3/40 [00:00<00:01, 29.93it/s]"
     ]
    },
    {
     "name": "stdout",
     "output_type": "stream",
     "text": [
      "\tTrain Loss = 0.00912303765215842\n",
      "\tTrain Accuracy = 0.9968666666666626\n"
     ]
    },
    {
     "name": "stderr",
     "output_type": "stream",
     "text": [
      "100%|█████████████████████████████████████████████████████████████████████████████████████████████████████████████████████████████████████████████████████| 40/40 [00:01<00:00, 27.75it/s]\n",
      "  1%|█▎                                                                                                                                                   | 2/235 [00:00<00:15, 15.21it/s]"
     ]
    },
    {
     "name": "stdout",
     "output_type": "stream",
     "text": [
      "\tValidation Loss = 0.016372066891329397\n",
      "\tValidation Accuracy = 0.9948999999999992\n",
      "Epoch #63\n"
     ]
    },
    {
     "name": "stderr",
     "output_type": "stream",
     "text": [
      "100%|███████████████████████████████████████████████████████████████████████████████████████████████████████████████████████████████████████████████████| 235/235 [00:13<00:00, 17.02it/s]\n",
      "  8%|███████████▎                                                                                                                                          | 3/40 [00:00<00:01, 29.91it/s]"
     ]
    },
    {
     "name": "stdout",
     "output_type": "stream",
     "text": [
      "\tTrain Loss = 0.00811606161825416\n",
      "\tTrain Accuracy = 0.9971666666666625\n"
     ]
    },
    {
     "name": "stderr",
     "output_type": "stream",
     "text": [
      "100%|█████████████████████████████████████████████████████████████████████████████████████████████████████████████████████████████████████████████████████| 40/40 [00:01<00:00, 27.87it/s]\n",
      "  1%|█▎                                                                                                                                                   | 2/235 [00:00<00:15, 15.10it/s]"
     ]
    },
    {
     "name": "stdout",
     "output_type": "stream",
     "text": [
      "\tValidation Loss = 0.015297700360026572\n",
      "\tValidation Accuracy = 0.9952999999999993\n",
      "Epoch #64\n"
     ]
    },
    {
     "name": "stderr",
     "output_type": "stream",
     "text": [
      "100%|███████████████████████████████████████████████████████████████████████████████████████████████████████████████████████████████████████████████████| 235/235 [00:14<00:00, 16.55it/s]\n",
      "  8%|███████████▎                                                                                                                                          | 3/40 [00:00<00:01, 22.82it/s]"
     ]
    },
    {
     "name": "stdout",
     "output_type": "stream",
     "text": [
      "\tTrain Loss = 0.008463039097663013\n",
      "\tTrain Accuracy = 0.9970333333333292\n"
     ]
    },
    {
     "name": "stderr",
     "output_type": "stream",
     "text": [
      "100%|█████████████████████████████████████████████████████████████████████████████████████████████████████████████████████████████████████████████████████| 40/40 [00:01<00:00, 26.87it/s]\n",
      "  1%|█▎                                                                                                                                                   | 2/235 [00:00<00:13, 17.26it/s]"
     ]
    },
    {
     "name": "stdout",
     "output_type": "stream",
     "text": [
      "\tValidation Loss = 0.017197613813617802\n",
      "\tValidation Accuracy = 0.9949999999999992\n",
      "Epoch #65\n"
     ]
    },
    {
     "name": "stderr",
     "output_type": "stream",
     "text": [
      "100%|███████████████████████████████████████████████████████████████████████████████████████████████████████████████████████████████████████████████████| 235/235 [00:13<00:00, 16.81it/s]\n",
      "  8%|███████████▎                                                                                                                                          | 3/40 [00:00<00:01, 29.91it/s]"
     ]
    },
    {
     "name": "stdout",
     "output_type": "stream",
     "text": [
      "\tTrain Loss = 0.008159435832197432\n",
      "\tTrain Accuracy = 0.9971166666666625\n"
     ]
    },
    {
     "name": "stderr",
     "output_type": "stream",
     "text": [
      "100%|█████████████████████████████████████████████████████████████████████████████████████████████████████████████████████████████████████████████████████| 40/40 [00:01<00:00, 26.87it/s]\n",
      "  1%|█▎                                                                                                                                                   | 2/235 [00:00<00:13, 17.27it/s]"
     ]
    },
    {
     "name": "stdout",
     "output_type": "stream",
     "text": [
      "\tValidation Loss = 0.01602450708214996\n",
      "\tValidation Accuracy = 0.9947999999999991\n",
      "Epoch #66\n"
     ]
    },
    {
     "name": "stderr",
     "output_type": "stream",
     "text": [
      "100%|███████████████████████████████████████████████████████████████████████████████████████████████████████████████████████████████████████████████████| 235/235 [00:14<00:00, 16.62it/s]\n",
      "  8%|███████████▎                                                                                                                                          | 3/40 [00:00<00:01, 29.90it/s]"
     ]
    },
    {
     "name": "stdout",
     "output_type": "stream",
     "text": [
      "\tTrain Loss = 0.00744128119833353\n",
      "\tTrain Accuracy = 0.9973166666666626\n"
     ]
    },
    {
     "name": "stderr",
     "output_type": "stream",
     "text": [
      "100%|█████████████████████████████████████████████████████████████████████████████████████████████████████████████████████████████████████████████████████| 40/40 [00:01<00:00, 27.45it/s]\n",
      "  1%|█▎                                                                                                                                                   | 2/235 [00:00<00:15, 15.21it/s]"
     ]
    },
    {
     "name": "stdout",
     "output_type": "stream",
     "text": [
      "\tValidation Loss = 0.015982150830133955\n",
      "\tValidation Accuracy = 0.9954999999999993\n",
      "Model saved!\n",
      "Epoch #67\n"
     ]
    },
    {
     "name": "stderr",
     "output_type": "stream",
     "text": [
      "100%|███████████████████████████████████████████████████████████████████████████████████████████████████████████████████████████████████████████████████| 235/235 [00:14<00:00, 16.76it/s]\n",
      "  8%|███████████▎                                                                                                                                          | 3/40 [00:00<00:01, 25.89it/s]"
     ]
    },
    {
     "name": "stdout",
     "output_type": "stream",
     "text": [
      "\tTrain Loss = 0.008135319497634587\n",
      "\tTrain Accuracy = 0.9974166666666625\n"
     ]
    },
    {
     "name": "stderr",
     "output_type": "stream",
     "text": [
      "100%|█████████████████████████████████████████████████████████████████████████████████████████████████████████████████████████████████████████████████████| 40/40 [00:01<00:00, 27.87it/s]\n",
      "  1%|█▎                                                                                                                                                   | 2/235 [00:00<00:13, 16.83it/s]"
     ]
    },
    {
     "name": "stdout",
     "output_type": "stream",
     "text": [
      "\tValidation Loss = 0.017920258037855914\n",
      "\tValidation Accuracy = 0.9948999999999992\n",
      "Epoch #68\n"
     ]
    },
    {
     "name": "stderr",
     "output_type": "stream",
     "text": [
      "100%|███████████████████████████████████████████████████████████████████████████████████████████████████████████████████████████████████████████████████| 235/235 [00:14<00:00, 16.76it/s]\n",
      "  8%|███████████▎                                                                                                                                          | 3/40 [00:00<00:01, 25.88it/s]"
     ]
    },
    {
     "name": "stdout",
     "output_type": "stream",
     "text": [
      "\tTrain Loss = 0.008350498015808347\n",
      "\tTrain Accuracy = 0.9969166666666627\n"
     ]
    },
    {
     "name": "stderr",
     "output_type": "stream",
     "text": [
      "100%|█████████████████████████████████████████████████████████████████████████████████████████████████████████████████████████████████████████████████████| 40/40 [00:01<00:00, 26.32it/s]\n",
      "  1%|█▎                                                                                                                                                   | 2/235 [00:00<00:15, 15.21it/s]"
     ]
    },
    {
     "name": "stdout",
     "output_type": "stream",
     "text": [
      "\tValidation Loss = 0.01661092494631004\n",
      "\tValidation Accuracy = 0.9945999999999993\n",
      "Epoch #69\n"
     ]
    },
    {
     "name": "stderr",
     "output_type": "stream",
     "text": [
      "100%|███████████████████████████████████████████████████████████████████████████████████████████████████████████████████████████████████████████████████| 235/235 [00:14<00:00, 16.56it/s]\n",
      "  8%|███████████▎                                                                                                                                          | 3/40 [00:00<00:01, 25.88it/s]"
     ]
    },
    {
     "name": "stdout",
     "output_type": "stream",
     "text": [
      "\tTrain Loss = 0.008232833039690345\n",
      "\tTrain Accuracy = 0.9971166666666625\n"
     ]
    },
    {
     "name": "stderr",
     "output_type": "stream",
     "text": [
      "100%|█████████████████████████████████████████████████████████████████████████████████████████████████████████████████████████████████████████████████████| 40/40 [00:01<00:00, 26.99it/s]\n",
      "  1%|█▎                                                                                                                                                   | 2/235 [00:00<00:13, 16.83it/s]"
     ]
    },
    {
     "name": "stdout",
     "output_type": "stream",
     "text": [
      "\tValidation Loss = 0.016098487790268946\n",
      "\tValidation Accuracy = 0.9944999999999993\n",
      "Epoch #70\n"
     ]
    },
    {
     "name": "stderr",
     "output_type": "stream",
     "text": [
      "100%|███████████████████████████████████████████████████████████████████████████████████████████████████████████████████████████████████████████████████| 235/235 [00:14<00:00, 16.39it/s]\n",
      "  8%|███████████▎                                                                                                                                          | 3/40 [00:00<00:01, 29.90it/s]"
     ]
    },
    {
     "name": "stdout",
     "output_type": "stream",
     "text": [
      "\tTrain Loss = 0.009692869557218696\n",
      "\tTrain Accuracy = 0.9965666666666627\n"
     ]
    },
    {
     "name": "stderr",
     "output_type": "stream",
     "text": [
      "100%|█████████████████████████████████████████████████████████████████████████████████████████████████████████████████████████████████████████████████████| 40/40 [00:01<00:00, 26.87it/s]\n",
      "  1%|█▎                                                                                                                                                   | 2/235 [00:00<00:15, 15.21it/s]"
     ]
    },
    {
     "name": "stdout",
     "output_type": "stream",
     "text": [
      "\tValidation Loss = 0.01828938858701937\n",
      "\tValidation Accuracy = 0.9941999999999993\n",
      "Epoch #71\n"
     ]
    },
    {
     "name": "stderr",
     "output_type": "stream",
     "text": [
      "100%|███████████████████████████████████████████████████████████████████████████████████████████████████████████████████████████████████████████████████| 235/235 [00:14<00:00, 16.00it/s]\n",
      "  8%|███████████▎                                                                                                                                          | 3/40 [00:00<00:01, 22.81it/s]"
     ]
    },
    {
     "name": "stdout",
     "output_type": "stream",
     "text": [
      "\tTrain Loss = 0.008806345492349326\n",
      "\tTrain Accuracy = 0.9968166666666626\n"
     ]
    },
    {
     "name": "stderr",
     "output_type": "stream",
     "text": [
      "100%|█████████████████████████████████████████████████████████████████████████████████████████████████████████████████████████████████████████████████████| 40/40 [00:01<00:00, 24.23it/s]\n",
      "  1%|█▎                                                                                                                                                   | 2/235 [00:00<00:16, 13.83it/s]"
     ]
    },
    {
     "name": "stdout",
     "output_type": "stream",
     "text": [
      "\tValidation Loss = 0.017909861329113905\n",
      "\tValidation Accuracy = 0.9951999999999993\n",
      "Epoch #72\n"
     ]
    },
    {
     "name": "stderr",
     "output_type": "stream",
     "text": [
      "100%|███████████████████████████████████████████████████████████████████████████████████████████████████████████████████████████████████████████████████| 235/235 [00:14<00:00, 16.06it/s]\n",
      "  8%|███████████▎                                                                                                                                          | 3/40 [00:00<00:01, 25.89it/s]"
     ]
    },
    {
     "name": "stdout",
     "output_type": "stream",
     "text": [
      "\tTrain Loss = 0.007478474824584753\n",
      "\tTrain Accuracy = 0.9976833333333293\n"
     ]
    },
    {
     "name": "stderr",
     "output_type": "stream",
     "text": [
      "100%|█████████████████████████████████████████████████████████████████████████████████████████████████████████████████████████████████████████████████████| 40/40 [00:01<00:00, 25.68it/s]\n",
      "  1%|█▎                                                                                                                                                   | 2/235 [00:00<00:15, 15.21it/s]"
     ]
    },
    {
     "name": "stdout",
     "output_type": "stream",
     "text": [
      "\tValidation Loss = 0.01705834389200091\n",
      "\tValidation Accuracy = 0.9950999999999992\n",
      "Epoch #73\n"
     ]
    },
    {
     "name": "stderr",
     "output_type": "stream",
     "text": [
      "100%|███████████████████████████████████████████████████████████████████████████████████████████████████████████████████████████████████████████████████| 235/235 [00:15<00:00, 15.27it/s]\n",
      "  2%|███▊                                                                                                                                                  | 1/40 [00:00<00:04,  9.54it/s]"
     ]
    },
    {
     "name": "stdout",
     "output_type": "stream",
     "text": [
      "\tTrain Loss = 0.008260210088831058\n",
      "\tTrain Accuracy = 0.9969333333333292\n"
     ]
    },
    {
     "name": "stderr",
     "output_type": "stream",
     "text": [
      "100%|█████████████████████████████████████████████████████████████████████████████████████████████████████████████████████████████████████████████████████| 40/40 [00:02<00:00, 19.30it/s]\n",
      "  1%|█▎                                                                                                                                                   | 2/235 [00:00<00:14, 16.27it/s]"
     ]
    },
    {
     "name": "stdout",
     "output_type": "stream",
     "text": [
      "\tValidation Loss = 0.015565599788349174\n",
      "\tValidation Accuracy = 0.9951999999999993\n",
      "Epoch #74\n"
     ]
    },
    {
     "name": "stderr",
     "output_type": "stream",
     "text": [
      "100%|███████████████████████████████████████████████████████████████████████████████████████████████████████████████████████████████████████████████████| 235/235 [00:17<00:00, 13.56it/s]\n",
      "  5%|███████▌                                                                                                                                              | 2/40 [00:00<00:02, 15.27it/s]"
     ]
    },
    {
     "name": "stdout",
     "output_type": "stream",
     "text": [
      "\tTrain Loss = 0.007024668188609274\n",
      "\tTrain Accuracy = 0.9974833333333292\n"
     ]
    },
    {
     "name": "stderr",
     "output_type": "stream",
     "text": [
      "100%|█████████████████████████████████████████████████████████████████████████████████████████████████████████████████████████████████████████████████████| 40/40 [00:03<00:00, 11.90it/s]\n"
     ]
    },
    {
     "name": "stdout",
     "output_type": "stream",
     "text": [
      "\tValidation Loss = 0.017245993577991458\n",
      "\tValidation Accuracy = 0.9954999999999992\n",
      "Epoch #75\n"
     ]
    },
    {
     "name": "stderr",
     "output_type": "stream",
     "text": [
      "100%|███████████████████████████████████████████████████████████████████████████████████████████████████████████████████████████████████████████████████| 235/235 [00:21<00:00, 11.18it/s]\n",
      "  5%|███████▌                                                                                                                                              | 2/40 [00:00<00:03, 12.26it/s]"
     ]
    },
    {
     "name": "stdout",
     "output_type": "stream",
     "text": [
      "\tTrain Loss = 0.0068118582104203995\n",
      "\tTrain Accuracy = 0.9976666666666625\n"
     ]
    },
    {
     "name": "stderr",
     "output_type": "stream",
     "text": [
      "100%|█████████████████████████████████████████████████████████████████████████████████████████████████████████████████████████████████████████████████████| 40/40 [00:02<00:00, 19.93it/s]\n",
      "  1%|█▎                                                                                                                                                   | 2/235 [00:00<00:14, 16.35it/s]"
     ]
    },
    {
     "name": "stdout",
     "output_type": "stream",
     "text": [
      "\tValidation Loss = 0.017884997415607604\n",
      "\tValidation Accuracy = 0.9957999999999994\n",
      "Model saved!\n",
      "Epoch #76\n"
     ]
    },
    {
     "name": "stderr",
     "output_type": "stream",
     "text": [
      "100%|███████████████████████████████████████████████████████████████████████████████████████████████████████████████████████████████████████████████████| 235/235 [00:15<00:00, 15.51it/s]\n",
      "  8%|███████████▎                                                                                                                                          | 3/40 [00:00<00:01, 24.51it/s]"
     ]
    },
    {
     "name": "stdout",
     "output_type": "stream",
     "text": [
      "\tTrain Loss = 0.007244221865637544\n",
      "\tTrain Accuracy = 0.997449999999996\n"
     ]
    },
    {
     "name": "stderr",
     "output_type": "stream",
     "text": [
      "100%|█████████████████████████████████████████████████████████████████████████████████████████████████████████████████████████████████████████████████████| 40/40 [00:01<00:00, 26.60it/s]\n",
      "  1%|█▎                                                                                                                                                   | 2/235 [00:00<00:14, 16.34it/s]"
     ]
    },
    {
     "name": "stdout",
     "output_type": "stream",
     "text": [
      "\tValidation Loss = 0.01580880081082907\n",
      "\tValidation Accuracy = 0.9950999999999993\n",
      "Epoch #77\n"
     ]
    },
    {
     "name": "stderr",
     "output_type": "stream",
     "text": [
      "100%|███████████████████████████████████████████████████████████████████████████████████████████████████████████████████████████████████████████████████| 235/235 [00:14<00:00, 15.83it/s]\n",
      "  8%|███████████▎                                                                                                                                          | 3/40 [00:00<00:01, 22.94it/s]"
     ]
    },
    {
     "name": "stdout",
     "output_type": "stream",
     "text": [
      "\tTrain Loss = 0.007114110656495263\n",
      "\tTrain Accuracy = 0.9974333333333293\n"
     ]
    },
    {
     "name": "stderr",
     "output_type": "stream",
     "text": [
      "100%|█████████████████████████████████████████████████████████████████████████████████████████████████████████████████████████████████████████████████████| 40/40 [00:01<00:00, 21.40it/s]\n",
      "  1%|█▎                                                                                                                                                   | 2/235 [00:00<00:17, 13.42it/s]"
     ]
    },
    {
     "name": "stdout",
     "output_type": "stream",
     "text": [
      "\tValidation Loss = 0.015002564732806537\n",
      "\tValidation Accuracy = 0.9953999999999993\n",
      "Epoch #78\n"
     ]
    },
    {
     "name": "stderr",
     "output_type": "stream",
     "text": [
      "100%|███████████████████████████████████████████████████████████████████████████████████████████████████████████████████████████████████████████████████| 235/235 [00:15<00:00, 15.39it/s]\n",
      "  8%|███████████▎                                                                                                                                          | 3/40 [00:00<00:01, 21.28it/s]"
     ]
    },
    {
     "name": "stdout",
     "output_type": "stream",
     "text": [
      "\tTrain Loss = 0.006388891586724085\n",
      "\tTrain Accuracy = 0.9976333333333292\n"
     ]
    },
    {
     "name": "stderr",
     "output_type": "stream",
     "text": [
      "100%|█████████████████████████████████████████████████████████████████████████████████████████████████████████████████████████████████████████████████████| 40/40 [00:01<00:00, 26.30it/s]\n",
      "  1%|█▎                                                                                                                                                   | 2/235 [00:00<00:13, 17.26it/s]"
     ]
    },
    {
     "name": "stdout",
     "output_type": "stream",
     "text": [
      "\tValidation Loss = 0.016673989387635542\n",
      "\tValidation Accuracy = 0.9950999999999993\n",
      "Epoch #79\n"
     ]
    },
    {
     "name": "stderr",
     "output_type": "stream",
     "text": [
      "100%|███████████████████████████████████████████████████████████████████████████████████████████████████████████████████████████████████████████████████| 235/235 [00:16<00:00, 14.25it/s]\n",
      "  8%|███████████▎                                                                                                                                          | 3/40 [00:00<00:01, 25.89it/s]"
     ]
    },
    {
     "name": "stdout",
     "output_type": "stream",
     "text": [
      "\tTrain Loss = 0.008153963488454746\n",
      "\tTrain Accuracy = 0.9973666666666625\n"
     ]
    },
    {
     "name": "stderr",
     "output_type": "stream",
     "text": [
      "100%|█████████████████████████████████████████████████████████████████████████████████████████████████████████████████████████████████████████████████████| 40/40 [00:01<00:00, 25.80it/s]\n",
      "  1%|█▎                                                                                                                                                   | 2/235 [00:00<00:15, 15.21it/s]"
     ]
    },
    {
     "name": "stdout",
     "output_type": "stream",
     "text": [
      "\tValidation Loss = 0.017440168147918097\n",
      "\tValidation Accuracy = 0.9950999999999993\n",
      "Epoch #80\n"
     ]
    },
    {
     "name": "stderr",
     "output_type": "stream",
     "text": [
      "100%|███████████████████████████████████████████████████████████████████████████████████████████████████████████████████████████████████████████████████| 235/235 [00:14<00:00, 16.45it/s]\n",
      "  8%|███████████▎                                                                                                                                          | 3/40 [00:00<00:01, 24.81it/s]"
     ]
    },
    {
     "name": "stdout",
     "output_type": "stream",
     "text": [
      "\tTrain Loss = 0.00749828263817601\n",
      "\tTrain Accuracy = 0.9971333333333293\n"
     ]
    },
    {
     "name": "stderr",
     "output_type": "stream",
     "text": [
      "100%|█████████████████████████████████████████████████████████████████████████████████████████████████████████████████████████████████████████████████████| 40/40 [00:01<00:00, 24.76it/s]\n",
      "  1%|█▎                                                                                                                                                   | 2/235 [00:00<00:15, 15.21it/s]"
     ]
    },
    {
     "name": "stdout",
     "output_type": "stream",
     "text": [
      "\tValidation Loss = 0.018979789314649574\n",
      "\tValidation Accuracy = 0.9942999999999992\n",
      "Epoch #81\n"
     ]
    },
    {
     "name": "stderr",
     "output_type": "stream",
     "text": [
      "100%|███████████████████████████████████████████████████████████████████████████████████████████████████████████████████████████████████████████████████| 235/235 [00:14<00:00, 16.56it/s]\n",
      "  8%|███████████▎                                                                                                                                          | 3/40 [00:00<00:01, 24.51it/s]"
     ]
    },
    {
     "name": "stdout",
     "output_type": "stream",
     "text": [
      "\tTrain Loss = 0.00722547608273675\n",
      "\tTrain Accuracy = 0.9975333333333292\n"
     ]
    },
    {
     "name": "stderr",
     "output_type": "stream",
     "text": [
      "100%|█████████████████████████████████████████████████████████████████████████████████████████████████████████████████████████████████████████████████████| 40/40 [00:01<00:00, 26.22it/s]\n",
      "  1%|█▎                                                                                                                                                   | 2/235 [00:00<00:15, 15.21it/s]"
     ]
    },
    {
     "name": "stdout",
     "output_type": "stream",
     "text": [
      "\tValidation Loss = 0.0173778965321847\n",
      "\tValidation Accuracy = 0.9944999999999993\n",
      "Epoch #82\n"
     ]
    },
    {
     "name": "stderr",
     "output_type": "stream",
     "text": [
      "100%|███████████████████████████████████████████████████████████████████████████████████████████████████████████████████████████████████████████████████| 235/235 [00:14<00:00, 16.76it/s]\n",
      "  8%|███████████▎                                                                                                                                          | 3/40 [00:00<00:01, 25.88it/s]"
     ]
    },
    {
     "name": "stdout",
     "output_type": "stream",
     "text": [
      "\tTrain Loss = 0.007546871069002841\n",
      "\tTrain Accuracy = 0.9976333333333292\n"
     ]
    },
    {
     "name": "stderr",
     "output_type": "stream",
     "text": [
      "100%|█████████████████████████████████████████████████████████████████████████████████████████████████████████████████████████████████████████████████████| 40/40 [00:01<00:00, 26.60it/s]\n",
      "  1%|█▎                                                                                                                                                   | 2/235 [00:00<00:15, 15.21it/s]"
     ]
    },
    {
     "name": "stdout",
     "output_type": "stream",
     "text": [
      "\tValidation Loss = 0.02007298491143152\n",
      "\tValidation Accuracy = 0.9939999999999994\n",
      "Epoch #83\n"
     ]
    },
    {
     "name": "stderr",
     "output_type": "stream",
     "text": [
      " 26%|█████████████████████████████████████▊                                                                                                              | 60/235 [00:03<00:10, 16.22it/s]\n"
     ]
    },
    {
     "ename": "KeyboardInterrupt",
     "evalue": "",
     "output_type": "error",
     "traceback": [
      "\u001b[1;31m---------------------------------------------------------------------------\u001b[0m",
      "\u001b[1;31mKeyboardInterrupt\u001b[0m                         Traceback (most recent call last)",
      "\u001b[1;32m<ipython-input-10-25bd27a8a230>\u001b[0m in \u001b[0;36m<module>\u001b[1;34m\u001b[0m\n\u001b[1;32m----> 1\u001b[1;33m \u001b[0mtrain\u001b[0m\u001b[1;33m(\u001b[0m\u001b[0mmodel\u001b[0m\u001b[1;33m,\u001b[0m \u001b[0mloss_func\u001b[0m\u001b[1;33m,\u001b[0m \u001b[0mtrain_dataset\u001b[0m\u001b[1;33m,\u001b[0m \u001b[0mtest_dataset\u001b[0m\u001b[1;33m,\u001b[0m \u001b[0moptimizer\u001b[0m\u001b[1;33m,\u001b[0m \u001b[0mdevice\u001b[0m\u001b[1;33m=\u001b[0m\u001b[1;36m0\u001b[0m\u001b[1;33m,\u001b[0m \u001b[0mepochs\u001b[0m\u001b[1;33m=\u001b[0m\u001b[1;36m100\u001b[0m\u001b[1;33m,\u001b[0m \u001b[0mbatch_size\u001b[0m\u001b[1;33m=\u001b[0m\u001b[1;36m256\u001b[0m\u001b[1;33m,\u001b[0m \u001b[0mon_val_epoch\u001b[0m\u001b[1;33m=\u001b[0m\u001b[0mon_epoch\u001b[0m\u001b[1;33m)\u001b[0m\u001b[1;33m\u001b[0m\u001b[1;33m\u001b[0m\u001b[0m\n\u001b[0m",
      "\u001b[1;32mD:\\Personal\\ML\\Z\\trainer.py\u001b[0m in \u001b[0;36mtrain\u001b[1;34m(model, loss_funcs, train_dataset, val_dataset, optimizers, epochs, batch_size, device, print_function, on_train_batch, on_val_batch, on_train_epoch, on_val_epoch, after_epoch)\u001b[0m\n\u001b[0;32m    179\u001b[0m             \u001b[0mscope\u001b[0m\u001b[1;33m[\u001b[0m\u001b[1;34m\"loader\"\u001b[0m\u001b[1;33m]\u001b[0m \u001b[1;33m=\u001b[0m \u001b[0mtrain_loader\u001b[0m\u001b[1;33m\u001b[0m\u001b[1;33m\u001b[0m\u001b[0m\n\u001b[0;32m    180\u001b[0m             \u001b[0mscope\u001b[0m\u001b[1;33m[\u001b[0m\u001b[1;34m\"on_batch\"\u001b[0m\u001b[1;33m]\u001b[0m \u001b[1;33m=\u001b[0m \u001b[0mon_train_batch\u001b[0m\u001b[1;33m\u001b[0m\u001b[1;33m\u001b[0m\u001b[0m\n\u001b[1;32m--> 181\u001b[1;33m             \u001b[0mtrain_loss\u001b[0m\u001b[1;33m,\u001b[0m \u001b[0mtrain_metrics\u001b[0m \u001b[1;33m=\u001b[0m \u001b[0m_epoch\u001b[0m\u001b[1;33m(\u001b[0m\u001b[0mscope\u001b[0m\u001b[1;33m,\u001b[0m \u001b[1;32mTrue\u001b[0m\u001b[1;33m)\u001b[0m\u001b[1;33m\u001b[0m\u001b[1;33m\u001b[0m\u001b[0m\n\u001b[0m\u001b[0;32m    182\u001b[0m             \u001b[0mscope\u001b[0m\u001b[1;33m[\u001b[0m\u001b[1;34m\"train_losses\"\u001b[0m\u001b[1;33m]\u001b[0m \u001b[1;33m=\u001b[0m \u001b[0mtrain_loss\u001b[0m\u001b[1;33m\u001b[0m\u001b[1;33m\u001b[0m\u001b[0m\n\u001b[0;32m    183\u001b[0m             \u001b[0mscope\u001b[0m\u001b[1;33m[\u001b[0m\u001b[1;34m\"train_loss\"\u001b[0m\u001b[1;33m]\u001b[0m \u001b[1;33m=\u001b[0m \u001b[0mtrain_loss\u001b[0m\u001b[1;33m[\u001b[0m\u001b[1;36m0\u001b[0m\u001b[1;33m]\u001b[0m\u001b[1;33m\u001b[0m\u001b[1;33m\u001b[0m\u001b[0m\n",
      "\u001b[1;32mD:\\Personal\\ML\\Z\\trainer.py\u001b[0m in \u001b[0;36m_epoch\u001b[1;34m(scope, training)\u001b[0m\n\u001b[0;32m    104\u001b[0m             \u001b[0mscope\u001b[0m\u001b[1;33m[\u001b[0m\u001b[1;34m\"optimizer\"\u001b[0m\u001b[1;33m]\u001b[0m \u001b[1;33m=\u001b[0m \u001b[0moptimizers\u001b[0m\u001b[1;33m[\u001b[0m\u001b[0mi\u001b[0m\u001b[1;33m]\u001b[0m\u001b[1;33m\u001b[0m\u001b[1;33m\u001b[0m\u001b[0m\n\u001b[0;32m    105\u001b[0m             \u001b[0mscope\u001b[0m\u001b[1;33m[\u001b[0m\u001b[1;34m\"loss_func\"\u001b[0m\u001b[1;33m]\u001b[0m \u001b[1;33m=\u001b[0m \u001b[0mloss_funcs\u001b[0m\u001b[1;33m[\u001b[0m\u001b[0mi\u001b[0m\u001b[1;33m]\u001b[0m\u001b[1;33m\u001b[0m\u001b[1;33m\u001b[0m\u001b[0m\n\u001b[1;32m--> 106\u001b[1;33m             \u001b[0mloss\u001b[0m\u001b[1;33m,\u001b[0m \u001b[0moutput\u001b[0m \u001b[1;33m=\u001b[0m \u001b[0mloss_funcs\u001b[0m\u001b[1;33m[\u001b[0m\u001b[0mi\u001b[0m\u001b[1;33m]\u001b[0m\u001b[1;33m(\u001b[0m\u001b[0mmodel\u001b[0m\u001b[1;33m,\u001b[0m \u001b[0mbatch\u001b[0m\u001b[1;33m,\u001b[0m \u001b[0mscope\u001b[0m\u001b[1;33m)\u001b[0m\u001b[1;33m\u001b[0m\u001b[1;33m\u001b[0m\u001b[0m\n\u001b[0m\u001b[0;32m    107\u001b[0m             \u001b[1;32mif\u001b[0m \u001b[0mtraining\u001b[0m\u001b[1;33m:\u001b[0m\u001b[1;33m\u001b[0m\u001b[1;33m\u001b[0m\u001b[0m\n\u001b[0;32m    108\u001b[0m                 \u001b[0moptimizers\u001b[0m\u001b[1;33m[\u001b[0m\u001b[0mi\u001b[0m\u001b[1;33m]\u001b[0m\u001b[1;33m.\u001b[0m\u001b[0mzero_grad\u001b[0m\u001b[1;33m(\u001b[0m\u001b[1;33m)\u001b[0m\u001b[1;33m\u001b[0m\u001b[1;33m\u001b[0m\u001b[0m\n",
      "\u001b[1;32m<ipython-input-7-6518ae394744>\u001b[0m in \u001b[0;36mloss_func\u001b[1;34m(model, batch, scope)\u001b[0m\n\u001b[0;32m      1\u001b[0m \u001b[1;32mdef\u001b[0m \u001b[0mloss_func\u001b[0m\u001b[1;33m(\u001b[0m\u001b[0mmodel\u001b[0m\u001b[1;33m,\u001b[0m \u001b[0mbatch\u001b[0m\u001b[1;33m,\u001b[0m \u001b[0mscope\u001b[0m\u001b[1;33m)\u001b[0m\u001b[1;33m:\u001b[0m\u001b[1;33m\u001b[0m\u001b[1;33m\u001b[0m\u001b[0m\n\u001b[0;32m      2\u001b[0m     \u001b[0mx\u001b[0m\u001b[1;33m,\u001b[0m \u001b[0my\u001b[0m \u001b[1;33m=\u001b[0m \u001b[0mbatch\u001b[0m\u001b[1;33m\u001b[0m\u001b[1;33m\u001b[0m\u001b[0m\n\u001b[1;32m----> 3\u001b[1;33m     \u001b[0m_y\u001b[0m \u001b[1;33m=\u001b[0m \u001b[0mmodel\u001b[0m\u001b[1;33m(\u001b[0m\u001b[0mx\u001b[0m\u001b[1;33m)\u001b[0m\u001b[1;33m\u001b[0m\u001b[1;33m\u001b[0m\u001b[0m\n\u001b[0m\u001b[0;32m      4\u001b[0m     \u001b[0mloss\u001b[0m \u001b[1;33m=\u001b[0m \u001b[0mF\u001b[0m\u001b[1;33m.\u001b[0m\u001b[0mcross_entropy\u001b[0m\u001b[1;33m(\u001b[0m\u001b[0m_y\u001b[0m\u001b[1;33m,\u001b[0m \u001b[0my\u001b[0m\u001b[1;33m)\u001b[0m\u001b[1;33m\u001b[0m\u001b[1;33m\u001b[0m\u001b[0m\n\u001b[0;32m      5\u001b[0m     \u001b[0mscope\u001b[0m\u001b[1;33m[\u001b[0m\u001b[1;34m\"metrics\"\u001b[0m\u001b[1;33m]\u001b[0m\u001b[1;33m[\u001b[0m\u001b[1;34m\"Accuracy\"\u001b[0m\u001b[1;33m]\u001b[0m \u001b[1;33m=\u001b[0m \u001b[0mfloat\u001b[0m\u001b[1;33m(\u001b[0m\u001b[0mtorch\u001b[0m\u001b[1;33m.\u001b[0m\u001b[0msum\u001b[0m\u001b[1;33m(\u001b[0m\u001b[1;33m(\u001b[0m\u001b[0mtorch\u001b[0m\u001b[1;33m.\u001b[0m\u001b[0margmax\u001b[0m\u001b[1;33m(\u001b[0m\u001b[0m_y\u001b[0m\u001b[1;33m,\u001b[0m \u001b[0mdim\u001b[0m\u001b[1;33m=\u001b[0m\u001b[1;36m1\u001b[0m\u001b[1;33m)\u001b[0m \u001b[1;33m==\u001b[0m \u001b[0my\u001b[0m\u001b[1;33m)\u001b[0m\u001b[1;33m.\u001b[0m\u001b[0mtype\u001b[0m\u001b[1;33m(\u001b[0m\u001b[0mtorch\u001b[0m\u001b[1;33m.\u001b[0m\u001b[0mfloat\u001b[0m\u001b[1;33m)\u001b[0m\u001b[1;33m)\u001b[0m\u001b[1;33m)\u001b[0m \u001b[1;33m/\u001b[0m \u001b[0mlen\u001b[0m\u001b[1;33m(\u001b[0m\u001b[0mscope\u001b[0m\u001b[1;33m[\u001b[0m\u001b[1;34m\"dataset\"\u001b[0m\u001b[1;33m]\u001b[0m\u001b[1;33m)\u001b[0m\u001b[1;33m\u001b[0m\u001b[1;33m\u001b[0m\u001b[0m\n",
      "\u001b[1;32mC:\\ProgramData\\Anaconda3\\lib\\site-packages\\torch\\nn\\modules\\module.py\u001b[0m in \u001b[0;36m_call_impl\u001b[1;34m(self, *input, **kwargs)\u001b[0m\n\u001b[0;32m    720\u001b[0m             \u001b[0mresult\u001b[0m \u001b[1;33m=\u001b[0m \u001b[0mself\u001b[0m\u001b[1;33m.\u001b[0m\u001b[0m_slow_forward\u001b[0m\u001b[1;33m(\u001b[0m\u001b[1;33m*\u001b[0m\u001b[0minput\u001b[0m\u001b[1;33m,\u001b[0m \u001b[1;33m**\u001b[0m\u001b[0mkwargs\u001b[0m\u001b[1;33m)\u001b[0m\u001b[1;33m\u001b[0m\u001b[1;33m\u001b[0m\u001b[0m\n\u001b[0;32m    721\u001b[0m         \u001b[1;32melse\u001b[0m\u001b[1;33m:\u001b[0m\u001b[1;33m\u001b[0m\u001b[1;33m\u001b[0m\u001b[0m\n\u001b[1;32m--> 722\u001b[1;33m             \u001b[0mresult\u001b[0m \u001b[1;33m=\u001b[0m \u001b[0mself\u001b[0m\u001b[1;33m.\u001b[0m\u001b[0mforward\u001b[0m\u001b[1;33m(\u001b[0m\u001b[1;33m*\u001b[0m\u001b[0minput\u001b[0m\u001b[1;33m,\u001b[0m \u001b[1;33m**\u001b[0m\u001b[0mkwargs\u001b[0m\u001b[1;33m)\u001b[0m\u001b[1;33m\u001b[0m\u001b[1;33m\u001b[0m\u001b[0m\n\u001b[0m\u001b[0;32m    723\u001b[0m         for hook in itertools.chain(\n\u001b[0;32m    724\u001b[0m                 \u001b[0m_global_forward_hooks\u001b[0m\u001b[1;33m.\u001b[0m\u001b[0mvalues\u001b[0m\u001b[1;33m(\u001b[0m\u001b[1;33m)\u001b[0m\u001b[1;33m,\u001b[0m\u001b[1;33m\u001b[0m\u001b[1;33m\u001b[0m\u001b[0m\n",
      "\u001b[1;32mC:\\ProgramData\\Anaconda3\\lib\\site-packages\\torch\\nn\\modules\\container.py\u001b[0m in \u001b[0;36mforward\u001b[1;34m(self, input)\u001b[0m\n\u001b[0;32m    115\u001b[0m     \u001b[1;32mdef\u001b[0m \u001b[0mforward\u001b[0m\u001b[1;33m(\u001b[0m\u001b[0mself\u001b[0m\u001b[1;33m,\u001b[0m \u001b[0minput\u001b[0m\u001b[1;33m)\u001b[0m\u001b[1;33m:\u001b[0m\u001b[1;33m\u001b[0m\u001b[1;33m\u001b[0m\u001b[0m\n\u001b[0;32m    116\u001b[0m         \u001b[1;32mfor\u001b[0m \u001b[0mmodule\u001b[0m \u001b[1;32min\u001b[0m \u001b[0mself\u001b[0m\u001b[1;33m:\u001b[0m\u001b[1;33m\u001b[0m\u001b[1;33m\u001b[0m\u001b[0m\n\u001b[1;32m--> 117\u001b[1;33m             \u001b[0minput\u001b[0m \u001b[1;33m=\u001b[0m \u001b[0mmodule\u001b[0m\u001b[1;33m(\u001b[0m\u001b[0minput\u001b[0m\u001b[1;33m)\u001b[0m\u001b[1;33m\u001b[0m\u001b[1;33m\u001b[0m\u001b[0m\n\u001b[0m\u001b[0;32m    118\u001b[0m         \u001b[1;32mreturn\u001b[0m \u001b[0minput\u001b[0m\u001b[1;33m\u001b[0m\u001b[1;33m\u001b[0m\u001b[0m\n\u001b[0;32m    119\u001b[0m \u001b[1;33m\u001b[0m\u001b[0m\n",
      "\u001b[1;32mC:\\ProgramData\\Anaconda3\\lib\\site-packages\\torch\\nn\\modules\\module.py\u001b[0m in \u001b[0;36m_call_impl\u001b[1;34m(self, *input, **kwargs)\u001b[0m\n\u001b[0;32m    720\u001b[0m             \u001b[0mresult\u001b[0m \u001b[1;33m=\u001b[0m \u001b[0mself\u001b[0m\u001b[1;33m.\u001b[0m\u001b[0m_slow_forward\u001b[0m\u001b[1;33m(\u001b[0m\u001b[1;33m*\u001b[0m\u001b[0minput\u001b[0m\u001b[1;33m,\u001b[0m \u001b[1;33m**\u001b[0m\u001b[0mkwargs\u001b[0m\u001b[1;33m)\u001b[0m\u001b[1;33m\u001b[0m\u001b[1;33m\u001b[0m\u001b[0m\n\u001b[0;32m    721\u001b[0m         \u001b[1;32melse\u001b[0m\u001b[1;33m:\u001b[0m\u001b[1;33m\u001b[0m\u001b[1;33m\u001b[0m\u001b[0m\n\u001b[1;32m--> 722\u001b[1;33m             \u001b[0mresult\u001b[0m \u001b[1;33m=\u001b[0m \u001b[0mself\u001b[0m\u001b[1;33m.\u001b[0m\u001b[0mforward\u001b[0m\u001b[1;33m(\u001b[0m\u001b[1;33m*\u001b[0m\u001b[0minput\u001b[0m\u001b[1;33m,\u001b[0m \u001b[1;33m**\u001b[0m\u001b[0mkwargs\u001b[0m\u001b[1;33m)\u001b[0m\u001b[1;33m\u001b[0m\u001b[1;33m\u001b[0m\u001b[0m\n\u001b[0m\u001b[0;32m    723\u001b[0m         for hook in itertools.chain(\n\u001b[0;32m    724\u001b[0m                 \u001b[0m_global_forward_hooks\u001b[0m\u001b[1;33m.\u001b[0m\u001b[0mvalues\u001b[0m\u001b[1;33m(\u001b[0m\u001b[1;33m)\u001b[0m\u001b[1;33m,\u001b[0m\u001b[1;33m\u001b[0m\u001b[1;33m\u001b[0m\u001b[0m\n",
      "\u001b[1;32mD:\\Personal\\ML\\Z\\z.py\u001b[0m in \u001b[0;36mforward\u001b[1;34m(self, x)\u001b[0m\n\u001b[0;32m    253\u001b[0m     \u001b[1;32mdef\u001b[0m \u001b[0mforward\u001b[0m\u001b[1;33m(\u001b[0m\u001b[0mself\u001b[0m\u001b[1;33m,\u001b[0m \u001b[0mx\u001b[0m\u001b[1;33m)\u001b[0m\u001b[1;33m:\u001b[0m\u001b[1;33m\u001b[0m\u001b[1;33m\u001b[0m\u001b[0m\n\u001b[0;32m    254\u001b[0m         \u001b[0mh\u001b[0m\u001b[1;33m,\u001b[0m \u001b[0mw\u001b[0m \u001b[1;33m=\u001b[0m \u001b[0mx\u001b[0m\u001b[1;33m.\u001b[0m\u001b[0mshape\u001b[0m\u001b[1;33m[\u001b[0m\u001b[1;36m2\u001b[0m\u001b[1;33m:\u001b[0m\u001b[1;33m]\u001b[0m\u001b[1;33m\u001b[0m\u001b[1;33m\u001b[0m\u001b[0m\n\u001b[1;32m--> 255\u001b[1;33m         \u001b[0mx\u001b[0m \u001b[1;33m=\u001b[0m \u001b[0mF\u001b[0m\u001b[1;33m.\u001b[0m\u001b[0munfold\u001b[0m\u001b[1;33m(\u001b[0m\u001b[0mx\u001b[0m\u001b[1;33m,\u001b[0m \u001b[0mkernel_size\u001b[0m\u001b[1;33m=\u001b[0m\u001b[0mself\u001b[0m\u001b[1;33m.\u001b[0m\u001b[0mkernel_size\u001b[0m\u001b[1;33m,\u001b[0m \u001b[0mstride\u001b[0m\u001b[1;33m=\u001b[0m\u001b[0mself\u001b[0m\u001b[1;33m.\u001b[0m\u001b[0mstride\u001b[0m\u001b[1;33m)\u001b[0m\u001b[1;33m\u001b[0m\u001b[1;33m\u001b[0m\u001b[0m\n\u001b[0m\u001b[0;32m    256\u001b[0m         \u001b[0mx\u001b[0m \u001b[1;33m=\u001b[0m \u001b[0mx\u001b[0m\u001b[1;33m.\u001b[0m\u001b[0mview\u001b[0m\u001b[1;33m(\u001b[0m\u001b[0mx\u001b[0m\u001b[1;33m.\u001b[0m\u001b[0mshape\u001b[0m\u001b[1;33m[\u001b[0m\u001b[1;36m0\u001b[0m\u001b[1;33m]\u001b[0m\u001b[1;33m,\u001b[0m \u001b[0mself\u001b[0m\u001b[1;33m.\u001b[0m\u001b[0mfeatures\u001b[0m\u001b[1;33m,\u001b[0m \u001b[0mself\u001b[0m\u001b[1;33m.\u001b[0m\u001b[0mkernel_size\u001b[0m\u001b[1;33m[\u001b[0m\u001b[1;36m0\u001b[0m\u001b[1;33m]\u001b[0m \u001b[1;33m*\u001b[0m \u001b[0mself\u001b[0m\u001b[1;33m.\u001b[0m\u001b[0mkernel_size\u001b[0m\u001b[1;33m[\u001b[0m\u001b[1;36m1\u001b[0m\u001b[1;33m]\u001b[0m\u001b[1;33m,\u001b[0m \u001b[1;33m-\u001b[0m\u001b[1;36m1\u001b[0m\u001b[1;33m)\u001b[0m\u001b[1;33m\u001b[0m\u001b[1;33m\u001b[0m\u001b[0m\n\u001b[0;32m    257\u001b[0m         \u001b[0mx\u001b[0m \u001b[1;33m=\u001b[0m \u001b[0msoftmax\u001b[0m\u001b[1;33m(\u001b[0m\u001b[0mx\u001b[0m\u001b[1;33m,\u001b[0m \u001b[0mdim\u001b[0m\u001b[1;33m=\u001b[0m\u001b[1;36m2\u001b[0m\u001b[1;33m,\u001b[0m \u001b[0mhardness\u001b[0m\u001b[1;33m=\u001b[0m\u001b[0mself\u001b[0m\u001b[1;33m.\u001b[0m\u001b[0mz\u001b[0m\u001b[1;33m)\u001b[0m\u001b[1;33m\u001b[0m\u001b[1;33m\u001b[0m\u001b[0m\n",
      "\u001b[1;32mC:\\ProgramData\\Anaconda3\\lib\\site-packages\\torch\\nn\\functional.py\u001b[0m in \u001b[0;36munfold\u001b[1;34m(input, kernel_size, dilation, padding, stride)\u001b[0m\n\u001b[0;32m   3791\u001b[0m         \u001b[0massert_int_or_pair\u001b[0m\u001b[1;33m(\u001b[0m\u001b[0mstride\u001b[0m\u001b[1;33m,\u001b[0m \u001b[1;34m'stride'\u001b[0m\u001b[1;33m,\u001b[0m \u001b[0mmsg\u001b[0m\u001b[1;33m)\u001b[0m\u001b[1;33m\u001b[0m\u001b[1;33m\u001b[0m\u001b[0m\n\u001b[0;32m   3792\u001b[0m \u001b[1;33m\u001b[0m\u001b[0m\n\u001b[1;32m-> 3793\u001b[1;33m         return torch._C._nn.im2col(input, _pair(kernel_size),\n\u001b[0m\u001b[0;32m   3794\u001b[0m                                    _pair(dilation), _pair(padding), _pair(stride))\n\u001b[0;32m   3795\u001b[0m     \u001b[1;32melse\u001b[0m\u001b[1;33m:\u001b[0m\u001b[1;33m\u001b[0m\u001b[1;33m\u001b[0m\u001b[0m\n",
      "\u001b[1;31mKeyboardInterrupt\u001b[0m: "
     ]
    }
   ],
   "source": [
    "train(model, loss_func, train_dataset, test_dataset, optimizer, device=0, epochs=100, batch_size=256, on_val_epoch=on_epoch)"
   ]
  },
  {
   "cell_type": "code",
   "execution_count": 11,
   "metadata": {
    "colab": {
     "base_uri": "https://localhost:8080/"
    },
    "id": "Hh_xlv68NgXX",
    "outputId": "50e17224-dc4e-4fc0-f6d6-df955b0418a5"
   },
   "outputs": [
    {
     "name": "stdout",
     "output_type": "stream",
     "text": [
      "Best Accuracy = 0.9957999999999994\n"
     ]
    }
   ],
   "source": [
    "print(\"Best Accuracy = \" + str(acc))"
   ]
  },
  {
   "cell_type": "code",
   "execution_count": 9,
   "metadata": {
    "id": "bv0YuahwOmgf"
   },
   "outputs": [],
   "source": []
  }
 ],
 "metadata": {
  "accelerator": "GPU",
  "colab": {
   "collapsed_sections": [],
   "name": "Z_MNIST.ipynb",
   "provenance": []
  },
  "kernelspec": {
   "display_name": "Python 3",
   "language": "python",
   "name": "python3"
  },
  "language_info": {
   "codemirror_mode": {
    "name": "ipython",
    "version": 3
   },
   "file_extension": ".py",
   "mimetype": "text/x-python",
   "name": "python",
   "nbconvert_exporter": "python",
   "pygments_lexer": "ipython3",
   "version": "3.8.3"
  }
 },
 "nbformat": 4,
 "nbformat_minor": 1
}
