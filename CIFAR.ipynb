{
  "nbformat": 4,
  "nbformat_minor": 0,
  "metadata": {
    "colab": {
      "name": "Z_CIFAR10_2.ipynb",
      "provenance": [],
      "collapsed_sections": []
    },
    "kernelspec": {
      "name": "python3",
      "display_name": "Python 3"
    },
    "accelerator": "GPU"
  },
  "cells": [
    {
      "cell_type": "code",
      "metadata": {
        "id": "TJ_LuB16cQ6y"
      },
      "source": [
        "from z import *\n",
        "from trainer import *\n",
        "from torchvision import datasets, transforms\n",
        "from torchsummary import summary"
      ],
      "execution_count": null,
      "outputs": []
    },
    {
      "cell_type": "code",
      "metadata": {
        "id": "ykGS7Zsqcdbn"
      },
      "source": [
        "transform_train = transforms.Compose([\n",
        "    transforms.ColorJitter(0.15, 0.15, 0.15),\n",
        "    transforms.RandomRotation(15),\n",
        "    transforms.RandomCrop(32, padding=4),\n",
        "    transforms.RandomHorizontalFlip(),\n",
        "    transforms.ToTensor(),\n",
        "    transforms.Normalize((0.5, 0.5, 0.5), (0.2, 0.2, 0.2)),\n",
        "])\n",
        "\n",
        "transform_test = transforms.Compose([\n",
        "    transforms.ToTensor(),\n",
        "    transforms.Normalize((0.5, 0.5, 0.5), (0.2, 0.2, 0.2)),\n",
        "])"
      ],
      "execution_count": null,
      "outputs": []
    },
    {
      "cell_type": "code",
      "metadata": {
        "id": "Xds4WBHicf5-"
      },
      "source": [
        "train_dataset = datasets.CIFAR10(root='data/', download=True, transform=transform_train)\n",
        "test_dataset = datasets.CIFAR10(root='data/', train=False, transform=transform_test)"
      ],
      "execution_count": null,
      "outputs": []
    },
    {
      "cell_type": "code",
      "metadata": {
        "id": "MHIOQv8Tch1i"
      },
      "source": [
        "def DenseConv(in_channels, mid_channels, out_channels, layers=3, routes=4, kernel_size=3, padding=1):\n",
        "  return DenseBase(lambda i, o, l: ZConv2d(i, o, routes, kernel_size, padding=padding), in_channels, mid_channels, out_channels, layers)"
      ],
      "execution_count": null,
      "outputs": []
    },
    {
      "cell_type": "code",
      "metadata": {
        "id": "cfPuxxyydUzT"
      },
      "source": [
        "model = nn.Sequential(\n",
        "    DenseConv(3, 16, 16),\n",
        "    SoftPool2d(16, 2, 2),\n",
        "    DenseConv(16, 16, 32),\n",
        "    SoftPool2d(32, 2,  2),\n",
        "    DenseConv(32, 32, 64),\n",
        "    SoftPool2d(64, 2, 2),\n",
        "    nn.Flatten(),\n",
        "    nn.Dropout(0.5),\n",
        "    ZLinear(64 * 4 * 4, 10, 4),\n",
        ").to(0)"
      ],
      "execution_count": null,
      "outputs": []
    },
    {
      "cell_type": "code",
      "metadata": {
        "id": "VHpZvmlUeHEl"
      },
      "source": [
        "summary(model, (3, 32, 32))"
      ],
      "execution_count": null,
      "outputs": []
    },
    {
      "cell_type": "code",
      "metadata": {
        "id": "sBPI16epeIga"
      },
      "source": [
        "def loss_func(model, batch, scope):\n",
        "  x, y = batch\n",
        "  _y = model(x)\n",
        "  loss = F.cross_entropy(_y, y)\n",
        "  scope[\"metrics\"][\"Accuracy\"] = float(torch.sum((torch.argmax(_y, dim=1) == y).type(torch.float))) / len(scope[\"dataset\"])\n",
        "  return loss, _y"
      ],
      "execution_count": null,
      "outputs": []
    },
    {
      "cell_type": "code",
      "metadata": {
        "id": "_tbbY-YIeX3j"
      },
      "source": [
        "optimizer = torch.optim.AdamW(model.parameters(), lr=0.001)"
      ],
      "execution_count": null,
      "outputs": []
    },
    {
      "cell_type": "code",
      "metadata": {
        "id": "3o3yfPj4esvD"
      },
      "source": [
        "acc = 0\n",
        "def on_epoch(scope):\n",
        "  global acc\n",
        "  _acc = scope[\"val_metrics\"][\"Accuracy\"]\n",
        "  if _acc > acc:\n",
        "    acc = _acc\n",
        "    torch.save(model.state_dict(), \"cifar.model\")\n",
        "    print(\"Model saved!\")"
      ],
      "execution_count": null,
      "outputs": []
    },
    {
      "cell_type": "code",
      "metadata": {
        "id": "b8q18c5Aeulq"
      },
      "source": [
        "train(model, loss_func, train_dataset, test_dataset, optimizer, device=0, epochs=150, batch_size=256, on_val_epoch=on_epoch)"
      ],
      "execution_count": null,
      "outputs": []
    },
    {
      "cell_type": "code",
      "metadata": {
        "id": "93bq5WrsewTu"
      },
      "source": [
        "print(\"Best Accuracy = \" + str(acc))"
      ],
      "execution_count": null,
      "outputs": []
    },
    {
      "cell_type": "code",
      "metadata": {
        "id": "7olzgeOU_yF7"
      },
      "source": [
        ""
      ],
      "execution_count": null,
      "outputs": []
    }
  ]
}